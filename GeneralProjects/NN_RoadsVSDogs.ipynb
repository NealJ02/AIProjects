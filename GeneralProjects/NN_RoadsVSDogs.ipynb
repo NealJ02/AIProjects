{
  "nbformat": 4,
  "nbformat_minor": 0,
  "metadata": {
    "accelerator": "GPU",
    "colab": {
      "name": "NN_RoadsVSDogs.ipynb",
      "provenance": [],
      "collapsed_sections": []
    },
    "kernelspec": {
      "display_name": "Python 3",
      "language": "python",
      "name": "python3"
    },
    "language_info": {
      "codemirror_mode": {
        "name": "ipython",
        "version": 3
      },
      "file_extension": ".py",
      "mimetype": "text/x-python",
      "name": "python",
      "nbconvert_exporter": "python",
      "pygments_lexer": "ipython3",
      "version": "3.8.2"
    }
  },
  "cells": [
    {
      "cell_type": "markdown",
      "metadata": {
        "id": "Sq-JhCcLpBwS"
      },
      "source": [
        "\n",
        "We work for CC: ConscientiousCars, where we help self-driving vehicles be more conscientious of their surroundings. Our cars have been very good at recognizing and avoiding humans. They haven't, however, been capable of recognizing dogs. Since dogs are man's best friend and will always be where we humans are, we want our cars to know if a dog is on the road in front of them and avoid the dog!\n",
        "\n",
        "The first step to avoiding these cute puppers is **knowing if a pupper is in front of the car**. So today we will **build a detector that can tell when our car sees a dog or not**!\n",
        "\n"
      ]
    },
    {
      "cell_type": "code",
      "metadata": {
        "id": "uhNVum16scIW"
      },
      "source": [
        "#@title Run this to load some packages and data! { display-mode: \"form\" }\n",
        "from sklearn.neural_network import MLPClassifier\n",
        "from sklearn.neighbors import KNeighborsClassifier\n",
        "from sklearn import model_selection\n",
        "from sklearn.metrics import accuracy_score\n",
        "from collections import Counter\n",
        "import keras\n",
        "from keras.models import Sequential\n",
        "from keras.layers import Dense, Conv2D\n",
        "from keras.layers import Activation, MaxPooling2D, Dropout, Flatten, Reshape\n",
        "from keras.wrappers.scikit_learn import KerasClassifier\n",
        "from sklearn.model_selection import StratifiedKFold\n",
        "from sklearn.model_selection import cross_val_score\n",
        "import numpy as np\n",
        "import pandas as pd\n",
        "import seaborn as sns\n",
        "import matplotlib.pyplot as plt\n",
        "\n",
        "import warnings\n",
        "warnings.filterwarnings(\"ignore\", category=UserWarning)\n",
        "\n",
        "\n",
        "def categorical_to_numpy(labels_in):\n",
        "  labels = []\n",
        "  for label in labels_in:\n",
        "    if label == 'dog':\n",
        "      labels.append(np.array([1, 0]))\n",
        "    else:\n",
        "      labels.append(np.array([0, 1]))\n",
        "  return np.array(labels)\n",
        "\n",
        "def one_hot_encoding(input):\n",
        "  output = np.array(input)\n",
        "  output = np.zeros((input.size, input.max()+1))\n",
        "  output[np.arange(input.size),input] = 1\n",
        "  \n",
        "  return output\n",
        "\n",
        "\n",
        "def load_data():\n",
        "  # Run this cell to download our data into a file called 'cifar_data'\n",
        "  import gdown\n",
        "  # gdown.download('https://drive.google.com/uc?id=1-BjeqccJdLiBA6PnNinmXSQ6w5BluLem','cifar_data','True'); # dogs v road;\n",
        "  !wget -O cifar_data https://storage.googleapis.com/inspirit-ai-data-bucket-1/Data/AI%20Scholars/Sessions%201%20-%205/Session%204%20_%205%20-%20Neural%20Networks%20_%20CNN/dogs_v_roads\n",
        "\n",
        "  # now load the data from our cloud computer\n",
        "  import pickle\n",
        "  data_dict = pickle.load(open( \"cifar_data\", \"rb\" ));\n",
        "  \n",
        "  data   = data_dict['data']\n",
        "  labels = data_dict['labels']\n",
        "  \n",
        "  return data, labels\n",
        "\n",
        "def plot_one_image(data, labels, img_idx):\n",
        "  from google.colab.patches import cv2_imshow\n",
        "  import cv2\n",
        "  import matplotlib.pyplot as plt\n",
        "  my_img   = data[img_idx, :].squeeze().reshape([32,32,3]).copy()\n",
        "  my_label = labels[img_idx]\n",
        "  print('label: %s'%my_label)\n",
        "  fig, ax = plt.subplots(1,1)\n",
        "\n",
        "  img = ax.imshow(my_img, extent=[-1,1,-1,1])\n",
        "\n",
        "  x_label_list = [0, 8, 16, 24, 32]\n",
        "  y_label_list = [0, 8, 16, 24, 32]\n",
        "\n",
        "  ax.set_xticks([-1, -0.5, 0, 0.5, 1])\n",
        "  ax.set_yticks([-1, -0.5, 0, 0.5, 1])\n",
        "\n",
        "  ax.set_xticklabels(x_label_list)\n",
        "  ax.set_yticklabels(y_label_list)\n",
        "\n",
        "  fig.show(img)\n",
        "  \n",
        "def CNNClassifier(num_epochs=30, layers=5, dropout=0.5):\n",
        "  def create_model():\n",
        "    model = Sequential()\n",
        "    model.add(Reshape((32, 32, 3)))\n",
        "    \n",
        "    for i in range(layers):\n",
        "      model.add(Conv2D(32, (3, 3), padding='same'))\n",
        "      model.add(Activation('relu'))\n",
        "    \n",
        "    model.add(Conv2D(32, (3, 3)))\n",
        "    model.add(Activation('relu'))\n",
        "    model.add(MaxPooling2D(pool_size=(2, 2)))\n",
        "    model.add(Dropout(dropout / 2.0))\n",
        "\n",
        "    model.add(Conv2D(64, (3, 3), padding='same'))\n",
        "    model.add(Activation('relu'))\n",
        "    model.add(Conv2D(64, (3, 3)))\n",
        "    model.add(Activation('relu'))\n",
        "    model.add(MaxPooling2D(pool_size=(2, 2)))\n",
        "    model.add(Dropout(dropout / 2.0))\n",
        "\n",
        "    model.add(Flatten())\n",
        "    model.add(Dense(512))\n",
        "    model.add(Activation('relu'))\n",
        "    model.add(Dropout(dropout))\n",
        "    model.add(Dense(2))\n",
        "    model.add(Activation('softmax'))\n",
        "\n",
        "    # initiate RMSprop optimizer\n",
        "    opt = keras.optimizers.RMSprop(lr=0.0001, decay=1e-6)\n",
        "\n",
        "    # Let's train the model using RMSprop\n",
        "    model.compile(loss='categorical_crossentropy',\n",
        "                  optimizer=opt,\n",
        "                  metrics=['accuracy'])\n",
        "    return model\n",
        "  return KerasClassifier(build_fn=create_model, epochs=num_epochs, batch_size=10, verbose=2)\n",
        "\n",
        "def plot_acc(history, ax = None, xlabel = 'Epoch #'):\n",
        "    history = history.history\n",
        "    history.update({'epoch':list(range(len(history['val_accuracy'])))})\n",
        "    history = pd.DataFrame.from_dict(history)\n",
        "\n",
        "    best_epoch = history.sort_values(by = 'val_accuracy', ascending = False).iloc[0]['epoch']\n",
        "\n",
        "    if not ax:\n",
        "      f, ax = plt.subplots(1,1)\n",
        "    sns.lineplot(x = 'epoch', y = 'val_accuracy', data = history, label = 'Validation', ax = ax)\n",
        "    sns.lineplot(x = 'epoch', y = 'accuracy', data = history, label = 'Training', ax = ax)\n",
        "    ax.axhline(0.5, linestyle = '--',color='red', label = 'Chance')\n",
        "    ax.axvline(x = best_epoch, linestyle = '--', color = 'green', label = 'Best Epoch')  \n",
        "    ax.legend(loc = 1)    \n",
        "    ax.set_ylim([0.4, 1])\n",
        "\n",
        "    ax.set_xlabel(xlabel)\n",
        "    ax.set_ylabel('Accuracy (Fraction)')\n",
        "    \n",
        "    plt.show()"
      ],
      "execution_count": null,
      "outputs": []
    },
    {
      "cell_type": "markdown",
      "metadata": {
        "id": "EsGDD5lvQoBZ"
      },
      "source": [
        "In this notebook, you'll:\n",
        "- Explore the cars vs. roads dataset\n",
        "- Train a simple K-neighbors classifier for computer vision\n",
        "- Train neural nets to tell dogs from roads\n",
        "- Improve your model with convolutional neural networks!\n",
        "- (Optional challenge) Use saliency map to implement explainable AI."
      ]
    },
    {
      "cell_type": "markdown",
      "metadata": {
        "id": "1QxGsnvhnn8R"
      },
      "source": [
        "# Understanding our data"
      ]
    },
    {
      "cell_type": "markdown",
      "metadata": {
        "id": "btr24O6Hqgo6"
      },
      "source": [
        "Our cars are very attentive and always have their eyes on the road.\n",
        "\n",
        "Every second, they're streaming in data about the street, including video.\n",
        "\n",
        "From this video data, we want our car to tell: is there 'road' or 'dog' in front of it?\n",
        "\n",
        "Lucky for us, we have a dataset of dog and road images already prepared! Let's start by reading that *labeled* data in. \n"
      ]
    },
    {
      "cell_type": "code",
      "metadata": {
        "id": "MmZbrZoKnthN",
        "colab": {
          "base_uri": "https://localhost:8080/"
        },
        "outputId": "33d40021-8c63-4093-a3f7-2d0c681918f5"
      },
      "source": [
        "# load our data \n",
        "data, labels = load_data()"
      ],
      "execution_count": null,
      "outputs": [
        {
          "output_type": "stream",
          "text": [
            "--2021-06-28 18:35:44--  https://storage.googleapis.com/inspirit-ai-data-bucket-1/Data/AI%20Scholars/Sessions%201%20-%205/Session%204%20_%205%20-%20Neural%20Networks%20_%20CNN/dogs_v_roads\n",
            "Resolving storage.googleapis.com (storage.googleapis.com)... 142.250.101.128, 142.251.2.128, 142.250.141.128, ...\n",
            "Connecting to storage.googleapis.com (storage.googleapis.com)|142.250.101.128|:443... connected.\n",
            "HTTP request sent, awaiting response... 200 OK\n",
            "Length: 3689015 (3.5M) [application/octet-stream]\n",
            "Saving to: ‘cifar_data’\n",
            "\n",
            "\rcifar_data            0%[                    ]       0  --.-KB/s               \rcifar_data          100%[===================>]   3.52M  --.-KB/s    in 0.02s   \n",
            "\n",
            "2021-06-28 18:35:44 (217 MB/s) - ‘cifar_data’ saved [3689015/3689015]\n",
            "\n"
          ],
          "name": "stdout"
        }
      ]
    },
    {
      "cell_type": "markdown",
      "metadata": {
        "id": "AGO0FFnqdFne"
      },
      "source": [
        "Let's look at an image of a dog!\n",
        "\n",
        "Try changing the number below. What does it do?\n",
        "\n"
      ]
    },
    {
      "cell_type": "code",
      "metadata": {
        "id": "csXB_FPMrx1D",
        "colab": {
          "base_uri": "https://localhost:8080/",
          "height": 286
        },
        "outputId": "82d2d86a-2b45-4295-d30e-dabe74b5ae97"
      },
      "source": [
        "plot_one_image(data, labels, 200) #change this number"
      ],
      "execution_count": null,
      "outputs": [
        {
          "output_type": "stream",
          "text": [
            "label: dog\n"
          ],
          "name": "stdout"
        },
        {
          "output_type": "display_data",
          "data": {
            "image/png": "[encoded data removed]",
            "text/plain": [
              "<Figure size 432x288 with 1 Axes>"
            ]
          },
          "metadata": {
            "tags": [],
            "needs_background": "light"
          }
        }
      ]
    },
    {
      "cell_type": "markdown",
      "metadata": {
        "id": "ZYRzHTxVdSTG"
      },
      "source": [
        "**Discuss:** Why might we be using such blurry images?\n",
        "\n",
        "Next, let's try a road image. Again, try changing the number:"
      ]
    },
    {
      "cell_type": "code",
      "metadata": {
        "id": "CsRj6BAqs25Y",
        "colab": {
          "base_uri": "https://localhost:8080/",
          "height": 286
        },
        "outputId": "df74a4ce-2855-4a16-a063-67423a2c29ea"
      },
      "source": [
        "plot_one_image(data, labels, 700) #change this number"
      ],
      "execution_count": null,
      "outputs": [
        {
          "output_type": "stream",
          "text": [
            "label: road\n"
          ],
          "name": "stdout"
        },
        {
          "output_type": "display_data",
          "data": {
            "image/png": "[encoded data removed]",
            "text/plain": [
              "<Figure size 432x288 with 1 Axes>"
            ]
          },
          "metadata": {
            "tags": [],
            "needs_background": "light"
          }
        }
      ]
    },
    {
      "cell_type": "markdown",
      "metadata": {
        "id": "r0Qx4UYxdbTK"
      },
      "source": [
        "How many images do we have?"
      ]
    },
    {
      "cell_type": "code",
      "metadata": {
        "id": "6LQXCiGmAmz-",
        "colab": {
          "base_uri": "https://localhost:8080/"
        },
        "outputId": "bccaa6e8-65d9-4ed8-fed3-231c6c1cd536"
      },
      "source": [
        "print (len(data))\n",
        "\n",
        "print(Counter(labels))\n"
      ],
      "execution_count": null,
      "outputs": [
        {
          "output_type": "stream",
          "text": [
            "1200\n",
            "Counter({'dog': 600, 'road': 600})\n"
          ],
          "name": "stdout"
        }
      ]
    },
    {
      "cell_type": "markdown",
      "metadata": {
        "id": "OojOPMbLAl2B"
      },
      "source": [
        "The dataset is organized such that there are 600 images of dogs and 600 images of roads."
      ]
    },
    {
      "cell_type": "markdown",
      "metadata": {
        "id": "9Sz2c5LlU7Sj"
      },
      "source": [
        "#### Optional Exercise: Examining More Images\n",
        "\n",
        "**Look at a few more images of both classes.** \n",
        "\n",
        "Try using a `for` loop to look at 5 images!"
      ]
    },
    {
      "cell_type": "code",
      "metadata": {
        "id": "DkcqdB2ZVoNc",
        "colab": {
          "base_uri": "https://localhost:8080/",
          "height": 1000
        },
        "outputId": "0e8bbc67-de6b-4e69-d1e4-674809d959c8"
      },
      "source": [
        "### YOUR CODE HERE\n",
        "for i in range(5):\n",
        "  plot_one_image(data, labels, i*200)\n",
        "### END CODE"
      ],
      "execution_count": null,
      "outputs": [
        {
          "output_type": "stream",
          "text": [
            "label: dog\n",
            "label: dog\n",
            "label: dog\n",
            "label: road\n",
            "label: road\n"
          ],
          "name": "stdout"
        },
        {
          "output_type": "display_data",
          "data": {
            "image/png": "[encoded data removed]",
            "text/plain": [
              "<Figure size 432x288 with 1 Axes>"
            ]
          },
          "metadata": {
            "tags": [],
            "needs_background": "light"
          }
        },
        {
          "output_type": "display_data",
          "data": {
            "image/png": "[encoded data removed]",
            "text/plain": [
              "<Figure size 432x288 with 1 Axes>"
            ]
          },
          "metadata": {
            "tags": [],
            "needs_background": "light"
          }
        },
        {
          "output_type": "display_data",
          "data": {
            "image/png": "[encoded data removed]",
            "text/plain": [
              "<Figure size 432x288 with 1 Axes>"
            ]
          },
          "metadata": {
            "tags": [],
            "needs_background": "light"
          }
        },
        {
          "output_type": "display_data",
          "data": {
            "image/png": "[encoded data removed]",
            "text/plain": [
              "<Figure size 432x288 with 1 Axes>"
            ]
          },
          "metadata": {
            "tags": [],
            "needs_background": "light"
          }
        },
        {
          "output_type": "display_data",
          "data": {
            "image/png": "[encoded data removed]",
            "text/plain": [
              "<Figure size 432x288 with 1 Axes>"
            ]
          },
          "metadata": {
            "tags": [],
            "needs_background": "light"
          }
        }
      ]
    },
    {
      "cell_type": "markdown",
      "metadata": {
        "id": "PHS0E_3wt0RS"
      },
      "source": [
        "##Understanding our Data Representation\n",
        "\n",
        "In an image each pixel is denoted by 3 numbers that represent the intensity value of that pixel (0 - 255) for each color channel (R, G, and B). Below we \n",
        "see a list of numbers for each image that represent the intensity values. \n"
      ]
    },
    {
      "cell_type": "code",
      "metadata": {
        "id": "DlgF6jWit9jz",
        "colab": {
          "base_uri": "https://localhost:8080/"
        },
        "outputId": "8f4a02b2-0594-4a82-b4b9-c5d5f6dfa417"
      },
      "source": [
        "print('One image looks like: ')\n",
        "print(data[0])\n",
        "print(\"Length of list: \", len(data[0]))"
      ],
      "execution_count": null,
      "outputs": [
        {
          "output_type": "stream",
          "text": [
            "One image looks like: \n",
            "[45 20 19 ... 83 99 31]\n",
            "Length of list:  3072\n"
          ],
          "name": "stdout"
        }
      ]
    },
    {
      "cell_type": "markdown",
      "metadata": {
        "id": "gPu7IDsZU_On"
      },
      "source": [
        "**Discuss:** What does each number mean? Can you explain the length of the list?\n",
        "\n",
        "**Exercise:**\n",
        "Fill in the right values for the image width, image height, and number of color channels to calculate the right number of pixels."
      ]
    },
    {
      "cell_type": "code",
      "metadata": {
        "id": "YWBX6fWUui4R",
        "colab": {
          "base_uri": "https://localhost:8080/"
        },
        "outputId": "c041e86d-60cc-4731-9618-33eb88cbf695"
      },
      "source": [
        "img_height = 32 #Change this\n",
        "img_width = 32 #Change this\n",
        "color_channels = 3 #Change this\n",
        "\n",
        "print (\"Each image is\", img_height, 'x', img_width, 'pixels.')\n",
        "print (\"Each pixel has\", color_channels, \"channels for red, green, blue.\")\n",
        "print (\"This gives a total of\", img_height * img_width * color_channels, \"pixels per image.\")\n",
        "print (\"Should be\", len(data[0]))"
      ],
      "execution_count": null,
      "outputs": [
        {
          "output_type": "stream",
          "text": [
            "Each image is 32 x 32 pixels.\n",
            "Each pixel has 3 channels for red, green, blue.\n",
            "This gives a total of 3072 pixels per image.\n",
            "Should be 3072\n"
          ],
          "name": "stdout"
        }
      ]
    },
    {
      "cell_type": "markdown",
      "metadata": {
        "id": "-haNvnOwt-YE"
      },
      "source": [
        "We use these values as **inputs** to predict an **output** label: 'dog' or 'road'!\n",
        "\n",
        "Here's what our entire dataset looks like:"
      ]
    },
    {
      "cell_type": "code",
      "metadata": {
        "id": "JZIiCuBrvS6z",
        "colab": {
          "base_uri": "https://localhost:8080/"
        },
        "outputId": "0020e8ef-de74-4d2d-d6b0-4cb2ace2f04f"
      },
      "source": [
        "print ('Data shape:', data.shape)\n",
        "print ('Data:', data)"
      ],
      "execution_count": null,
      "outputs": [
        {
          "output_type": "stream",
          "text": [
            "Data shape: (1200, 3072)\n",
            "Data: [[ 45  20  19 ...  83  99  31]\n",
            " [101 114  35 ... 155 134  91]\n",
            " [213 221 221 ... 139  58  47]\n",
            " ...\n",
            " [126 174 202 ... 124 128 129]\n",
            " [191 232 240 ...  74  93  81]\n",
            " [237 248 254 ...  45  56  10]]\n"
          ],
          "name": "stdout"
        }
      ]
    },
    {
      "cell_type": "markdown",
      "metadata": {
        "id": "tUjr5CKnhvtg"
      },
      "source": [
        "#A Simple Machine Learner"
      ]
    },
    {
      "cell_type": "markdown",
      "metadata": {
        "id": "hPskDCqlzOEE"
      },
      "source": [
        "We want to create a machine learning model that can tell us whether a new image is either a dog or a road.\n",
        "\n",
        "We will give our model a training manual of data and labels that it will study or train on.\n",
        "\n",
        "We then check how well our model is doing on a test, where it is given data and told to predict their labels.\n"
      ]
    },
    {
      "cell_type": "markdown",
      "metadata": {
        "id": "S0tDoNWFVVYB"
      },
      "source": [
        "Building a KNN"
      ]
    },
    {
      "cell_type": "markdown",
      "metadata": {
        "id": "Q8_JZ9PVzKzr"
      },
      "source": [
        "Let's start by using the `KNeighborsClassifier` model.\n",
        "\n",
        "**Playground:** Explore [this demo](http://vision.stanford.edu/teaching/cs231n-demos/knn/) to understand what the KNN model is doing! \n",
        "\n",
        "**Exercise:** Below, please build, train, and measure the accuracy of your own KNN model. Experiment with changing the number of neighbors!"
      ]
    },
    {
      "cell_type": "code",
      "metadata": {
        "id": "ZFOgS2VEyTkH",
        "colab": {
          "base_uri": "https://localhost:8080/"
        },
        "outputId": "b77ad7fa-b1e2-48dc-9973-4410b71e321d"
      },
      "source": [
        "X_train, X_test, y_train, y_test = model_selection.train_test_split(data, labels, test_size=0.2)\n",
        "### YOUR CODE HERE\n",
        "knn = KNeighborsClassifier(n_neighbors=3)\n",
        "knn.fit(X_train, y_train)\n",
        "y_pred = knn.predict(X_test)\n",
        "accuracy = accuracy_score(y_pred, y_test)\n",
        "print(accuracy)\n",
        "\n",
        "### END CODE"
      ],
      "execution_count": null,
      "outputs": [
        {
          "output_type": "stream",
          "text": [
            "0.8375\n"
          ],
          "name": "stdout"
        }
      ]
    },
    {
      "cell_type": "markdown",
      "metadata": {
        "id": "uU48O9l18_-C"
      },
      "source": [
        "##Predicting on images\n",
        "\n",
        "We can use our trained model to predict whether our car is seeing a `dog` or `road`. Let's try this out - experiment with different images!\n"
      ]
    },
    {
      "cell_type": "code",
      "metadata": {
        "id": "Az1_moLl9E0B",
        "colab": {
          "base_uri": "https://localhost:8080/",
          "height": 303
        },
        "outputId": "97d7d0b6-d182-41c7-b9ab-7e962f24500d"
      },
      "source": [
        "# Specify which image you want to show\n",
        "image_id = 10 #Change this!\n",
        "\n",
        "# Visualize the image\n",
        "plot_one_image(X_test, y_test, image_id)\n",
        "\n",
        "# Use the model to predict what this might be and print it\n",
        "print('prediction:', y_pred[image_id])"
      ],
      "execution_count": null,
      "outputs": [
        {
          "output_type": "stream",
          "text": [
            "label: dog\n",
            "prediction: road\n"
          ],
          "name": "stdout"
        },
        {
          "output_type": "display_data",
          "data": {
            "image/png": "[encoded data removed]",
            "text/plain": [
              "<Figure size 432x288 with 1 Axes>"
            ]
          },
          "metadata": {
            "tags": [],
            "needs_background": "light"
          }
        }
      ]
    },
    {
      "cell_type": "markdown",
      "metadata": {
        "id": "4oW_Wb-1CTfB"
      },
      "source": [
        "## Choosing a value of k\n",
        "\n",
        "**Exercise** Determine the optimal value of \"K\" for our data. Use a for-loop to loop through different values of \"K\". In particular, *at the very least* try K = 1, 3, 5, 10, 20, and 30. For each of these values of \"K\", define a new KNN model, train it, and evaluate the accuracy."
      ]
    },
    {
      "cell_type": "code",
      "metadata": {
        "id": "OrZK_qoAZOAd",
        "colab": {
          "base_uri": "https://localhost:8080/"
        },
        "outputId": "c4e51a08-bb58-4439-da4f-3bcd01d3058a"
      },
      "source": [
        "### YOUR CODE HERE\n",
        "for i in range(1, 30):\n",
        "  knn = KNeighborsClassifier(n_neighbors=(i))\n",
        "  knn.fit(X_train, y_train)\n",
        "  y_pred = knn.predict(X_test)\n",
        "  accuracy = accuracy_score(y_pred, y_test)\n",
        "  print(accuracy)\n",
        "\n",
        "### END CODE"
      ],
      "execution_count": null,
      "outputs": [
        {
          "output_type": "stream",
          "text": [
            "0.7958333333333333\n",
            "0.8791666666666667\n",
            "0.825\n",
            "0.8708333333333333\n",
            "0.8125\n",
            "0.8416666666666667\n",
            "0.8208333333333333\n",
            "0.85\n",
            "0.8041666666666667\n",
            "0.825\n",
            "0.8083333333333333\n",
            "0.8416666666666667\n",
            "0.825\n",
            "0.8333333333333334\n",
            "0.8\n",
            "0.8291666666666667\n",
            "0.7875\n",
            "0.8166666666666667\n",
            "0.7916666666666666\n",
            "0.8166666666666667\n",
            "0.7916666666666666\n",
            "0.8083333333333333\n",
            "0.7958333333333333\n",
            "0.825\n",
            "0.8041666666666667\n",
            "0.825\n",
            "0.7875\n",
            "0.8083333333333333\n",
            "0.7833333333333333\n"
          ],
          "name": "stdout"
        }
      ]
    },
    {
      "cell_type": "markdown",
      "metadata": {
        "id": "AZ9uYgKMCX-z"
      },
      "source": [
        "**Discuss:** What are the advantages and disadvantages of using a bigger vs. smaller **k**? What is the optimal value?"
      ]
    },
    {
      "cell_type": "markdown",
      "metadata": {
        "id": "j09evSD_YfJ4"
      },
      "source": [
        "## (Optional) Understanding our mistakes\n",
        "\n",
        "Our classifications are OK, but are they good enough for our conscientious cars?\n",
        "\n",
        "Let's put on our detective hats to determine the root causes of the incorrect classifications!\n",
        "\n",
        "**Exercise:** Below, please print out 4 images of true positives, 4 images of true negatives, 4 images of false positives, and 4 images of false negatives. What are the reasons for failure (both for false positives and false negatives)? "
      ]
    },
    {
      "cell_type": "code",
      "metadata": {
        "id": "xWy1S_gyGoJT",
        "colab": {
          "base_uri": "https://localhost:8080/",
          "height": 1000
        },
        "outputId": "b84dabf1-6ccf-41b6-a2b7-7cc04503f75e"
      },
      "source": [
        "#True Positives (code provided)\n",
        "tp_count = 0\n",
        "print (\"TRUE POSITIVES\")\n",
        "i = 0\n",
        "while tp_count < 4 and i < len(X_test):\n",
        "  prediction = knn.predict([X_test[i]])[0] \n",
        "  if prediction == y_test[i] and prediction == 'dog':\n",
        "    plot_one_image(X_test, y_test, i)\n",
        "    tp_count += 1\n",
        "  i += 1\n",
        "\n",
        "#False Positives\n",
        "#YOUR CODE HERE\n",
        "fp_count = 0\n",
        "print (\"FALSE POSITIVES\")\n",
        "i = 0\n",
        "while fp_count < 4 and i < len(X_test):\n",
        "  prediction = knn.predict([X_test[i]])[0] \n",
        "  if prediction != y_test[i] and prediction == 'dog':\n",
        "    plot_one_image(X_test, y_test, i)\n",
        "    fp_count += 1\n",
        "  i += 1\n",
        "\n",
        "#True Negatives\n",
        "#YOUR CODE HERE\n",
        "tn_count = 0\n",
        "print (\"TRUE NEGATIVES\")\n",
        "i = 0\n",
        "while tn_count < 4 and i < len(X_test):\n",
        "  prediction = knn.predict([X_test[i]])[0] \n",
        "  if prediction == y_test[i] and prediction == 'road':\n",
        "    plot_one_image(X_test, y_test, i)\n",
        "    tn_count += 1\n",
        "  i += 1\n",
        "\n",
        "#False Negatives\n",
        "fn_count = 0\n",
        "print (\"FALSE NEGATIVES\")\n",
        "i = 0\n",
        "while fn_count < 4 and i < len(X_test):\n",
        "  prediction = knn.predict([X_test[i]])[0] \n",
        "  if prediction != y_test[i] and prediction == 'road':\n",
        "    plot_one_image(X_test, y_test, i)\n",
        "    fn_count += 1\n",
        "  i += 1\n",
        "#YOUR CODE HERE"
      ],
      "execution_count": null,
      "outputs": [
        {
          "output_type": "stream",
          "text": [
            "TRUE POSITIVES\n",
            "label: dog\n",
            "label: dog\n",
            "label: dog\n",
            "label: dog\n",
            "FALSE POSITIVES\n",
            "label: road\n",
            "label: road\n",
            "label: road\n",
            "label: road\n",
            "TRUE NEGATIVES\n",
            "label: road\n",
            "label: road\n",
            "label: road\n",
            "label: road\n",
            "FALSE NEGATIVES\n",
            "label: dog\n",
            "label: dog\n",
            "label: dog\n",
            "label: dog\n"
          ],
          "name": "stdout"
        },
        {
          "output_type": "display_data",
          "data": {
            "image/png": "[encoded data removed]",
            "text/plain": [
              "<Figure size 432x288 with 1 Axes>"
            ]
          },
          "metadata": {
            "tags": [],
            "needs_background": "light"
          }
        },
        {
          "output_type": "display_data",
          "data": {
            "image/png": "[encoded data removed]",
            "text/plain": [
              "<Figure size 432x288 with 1 Axes>"
            ]
          },
          "metadata": {
            "tags": [],
            "needs_background": "light"
          }
        },
        {
          "output_type": "display_data",
          "data": {
            "image/png": "[encoded data removed]",
            "text/plain": [
              "<Figure size 432x288 with 1 Axes>"
            ]
          },
          "metadata": {
            "tags": [],
            "needs_background": "light"
          }
        },
        {
          "output_type": "display_data",
          "data": {
            "image/png": "[encoded data removed]",
            "text/plain": [
              "<Figure size 432x288 with 1 Axes>"
            ]
          },
          "metadata": {
            "tags": [],
            "needs_background": "light"
          }
        },
        {
          "output_type": "display_data",
          "data": {
            "image/png": "[encoded data removed]",
            "text/plain": [
              "<Figure size 432x288 with 1 Axes>"
            ]
          },
          "metadata": {
            "tags": [],
            "needs_background": "light"
          }
        },
        {
          "output_type": "display_data",
          "data": {
            "image/png": "[encoded data removed]",
            "text/plain": [
              "<Figure size 432x288 with 1 Axes>"
            ]
          },
          "metadata": {
            "tags": [],
            "needs_background": "light"
          }
        },
        {
          "output_type": "display_data",
          "data": {
            "image/png": "[encoded data removed]",
            "text/plain": [
              "<Figure size 432x288 with 1 Axes>"
            ]
          },
          "metadata": {
            "tags": [],
            "needs_background": "light"
          }
        },
        {
          "output_type": "display_data",
          "data": {
            "image/png": "[encoded data removed]",
            "text/plain": [
              "<Figure size 432x288 with 1 Axes>"
            ]
          },
          "metadata": {
            "tags": [],
            "needs_background": "light"
          }
        },
        {
          "output_type": "display_data",
          "data": {
            "image/png": "[encoded data removed]",
            "text/plain": [
              "<Figure size 432x288 with 1 Axes>"
            ]
          },
          "metadata": {
            "tags": [],
            "needs_background": "light"
          }
        },
        {
          "output_type": "display_data",
          "data": {
            "image/png": "[encoded data removed]",
            "text/plain": [
              "<Figure size 432x288 with 1 Axes>"
            ]
          },
          "metadata": {
            "tags": [],
            "needs_background": "light"
          }
        },
        {
          "output_type": "display_data",
          "data": {
            "image/png": "[encoded data removed]",
            "text/plain": [
              "<Figure size 432x288 with 1 Axes>"
            ]
          },
          "metadata": {
            "tags": [],
            "needs_background": "light"
          }
        },
        {
          "output_type": "display_data",
          "data": {
            "image/png": "[encoded data removed]",
            "text/plain": [
              "<Figure size 432x288 with 1 Axes>"
            ]
          },
          "metadata": {
            "tags": [],
            "needs_background": "light"
          }
        },
        {
          "output_type": "display_data",
          "data": {
            "image/png": "[encoded data removed]",
            "text/plain": [
              "<Figure size 432x288 with 1 Axes>"
            ]
          },
          "metadata": {
            "tags": [],
            "needs_background": "light"
          }
        },
        {
          "output_type": "display_data",
          "data": {
            "image/png": "[encoded data removed]",
            "text/plain": [
              "<Figure size 432x288 with 1 Axes>"
            ]
          },
          "metadata": {
            "tags": [],
            "needs_background": "light"
          }
        },
        {
          "output_type": "display_data",
          "data": {
            "image/png": "[encoded data removed]",
            "text/plain": [
              "<Figure size 432x288 with 1 Axes>"
            ]
          },
          "metadata": {
            "tags": [],
            "needs_background": "light"
          }
        },
        {
          "output_type": "display_data",
          "data": {
            "image/png": "[encoded data removed]",
            "text/plain": [
              "<Figure size 432x288 with 1 Axes>"
            ]
          },
          "metadata": {
            "tags": [],
            "needs_background": "light"
          }
        }
      ]
    },
    {
      "cell_type": "markdown",
      "metadata": {
        "id": "nSx8HEhHKxFd"
      },
      "source": [
        "**Discuss:** What patterns did you notice? What are some reasons that the model makes mistakes?"
      ]
    },
    {
      "cell_type": "markdown",
      "metadata": {
        "id": "doLXp1Ot8D2C"
      },
      "source": [
        "#Neural Networks\n",
        "Now, let's create some new models using neural networks!\n",
        "\n",
        "You can play around with [TensorFlow Playground](https://playground.tensorflow.org/#activation=tanh&batchSize=10&dataset=circle&regDataset=reg-plane&learningRate=0.03&regularizationRate=0&noise=0&networkShape=4,2&seed=0.62283&showTestData=false&discretize=false&percTrainData=50&x=true&y=true&xTimesY=false&xSquared=false&ySquared=false&cosX=false&sinX=false&cosY=false&sinY=false&collectStats=false&problem=classification&initZero=false&hideText=false&regularization_hide=true&regularizationRate_hide=true&learningRate_hide=true&batchSize_hide=true&stepButton_hide=true&activation_hide=true) to get a feel for how neural nets work."
      ]
    },
    {
      "cell_type": "markdown",
      "metadata": {
        "id": "u9iFe-B4zqQA"
      },
      "source": [
        "To build a simple neural network, we use `MLPClassifier` from scikit-learn. We will play with the **number of neurons** and the **number of hidden layers** to adjust the complexity of our model, just like we did in Playground!\n",
        "\n",
        "**Example 1:**\n",
        "Here's how we create a neural network with 1 hidden layer of 3 neurons.\n",
        "\n",
        "`nnet = MLPClassifier(hidden_layer_sizes=(3)) `\n",
        "\n",
        "**Example 2:**\n",
        "\n",
        "Here's how we create a neural network with 2 hidden layers: one of 3 neurons and one of 4 neurons.\n",
        "\n",
        "`nnet = MLPClassifier(hidden_layer_sizes=(3, 4)) `"
      ]
    },
    {
      "cell_type": "code",
      "metadata": {
        "id": "x4XblMWBzm96",
        "colab": {
          "base_uri": "https://localhost:8080/"
        },
        "outputId": "8866d8ce-75ec-40df-b6fe-e638ee0d2aa5"
      },
      "source": [
        "# Create and train our multi layer perceptron model\n",
        "nnet = MLPClassifier(hidden_layer_sizes=(20, 10, 20), max_iter= 10000000)  ## How many hidden layers? How many neurons does this have?\n",
        "nnet.fit(X_train, y_train)\n",
        "\n",
        "# Predict what the classes are based on the testing data\n",
        "predictions = nnet.predict(X_test)\n",
        "\n",
        "# Print the score on the testing data\n",
        "print(\"MLP Testing Set Score:\")\n",
        "print(accuracy_score(y_test, predictions)*100)"
      ],
      "execution_count": null,
      "outputs": [
        {
          "output_type": "stream",
          "text": [
            "MLP Testing Set Score:\n",
            "78.33333333333333\n"
          ],
          "name": "stdout"
        }
      ]
    },
    {
      "cell_type": "markdown",
      "metadata": {
        "id": "J1QYZTxq0RCV"
      },
      "source": [
        "**How well did your neural network perform?** \n",
        "\n",
        "Multilayer perceptrons are more complex models and it can be difficult to find the right \"settings\" for them. It takes some trial and error!"
      ]
    },
    {
      "cell_type": "markdown",
      "metadata": {
        "id": "nX27P2eY0yqQ"
      },
      "source": [
        "**Exercise: try the following out and see how well you can get your network to do!**\n",
        "* Train a 1 layer, 10 neuron network for practice\n",
        "* Change the number of neurons and/or add layers to see how well you can do\n",
        "* Increase or decrease the number of iterations"
      ]
    },
    {
      "cell_type": "code",
      "metadata": {
        "id": "_nPOrTN-JMYk",
        "colab": {
          "base_uri": "https://localhost:8080/"
        },
        "outputId": "f9b3acfb-5d45-4923-b84f-1ad16bc9f337"
      },
      "source": [
        "#YOUR CODE HERE\n",
        "# Create and train our multi layer perceptron model\n",
        "nnet = MLPClassifier(hidden_layer_sizes=(20, 10, 20), max_iter= 10000000)  ## How many hidden layers? How many neurons does this have?\n",
        "nnet.fit(X_train, y_train)\n",
        "\n",
        "# Predict what the classes are based on the testing data\n",
        "predictions = nnet.predict(X_test)\n",
        "\n",
        "# Print the score on the testing data\n",
        "print(\"MLP Testing Set Score:\")\n",
        "print(accuracy_score(y_test, predictions)*100)"
      ],
      "execution_count": null,
      "outputs": [
        {
          "output_type": "stream",
          "text": [
            "MLP Testing Set Score:\n",
            "90.41666666666667\n"
          ],
          "name": "stdout"
        }
      ]
    },
    {
      "cell_type": "markdown",
      "metadata": {
        "id": "hXud5MuBXqzo"
      },
      "source": [
        "###Automating our Experiments \n",
        "\n",
        "**Exercise:** Similar to what you did for KNNs, use a for loop to automate your investigation. Explore different numbers of hidden layers, the size of the hidden layers, and the number of iterations! How well can you get your network performing?"
      ]
    },
    {
      "cell_type": "code",
      "metadata": {
        "id": "owrF6cDvX0HX",
        "colab": {
          "base_uri": "https://localhost:8080/"
        },
        "outputId": "c418c811-7b6f-4b2d-89b0-c5ecd778c1fa"
      },
      "source": [
        "### YOUR CODE HERE\n",
        "for i in [(1,1), (3,3), (4, 4, 4)]:\n",
        "  nnet = MLPClassifier(hidden_layer_sizes=i, max_iter = 1000)\n",
        "  nnet.fit(X_train, y_train)\n",
        "  y_pred = nnet.predict(X_test)\n",
        "  accuracy = accuracy_score(y_pred, y_test)\n",
        "  print(accuracy)\n",
        "### END CODE"
      ],
      "execution_count": null,
      "outputs": [
        {
          "output_type": "stream",
          "text": [
            "0.4875\n",
            "0.4875\n",
            "0.4875\n"
          ],
          "name": "stdout"
        }
      ]
    },
    {
      "cell_type": "markdown",
      "metadata": {
        "id": "37O_VE_D1Bdy"
      },
      "source": [
        "# Models for Vision: Convolutional Neural Networks"
      ]
    },
    {
      "cell_type": "markdown",
      "metadata": {
        "id": "QskPD4RT1GlK"
      },
      "source": [
        "There is a famous type of neural network known as convolutional neural networks (CNNs). These types of neural networks work particularly well on problems to do with computer vision. Let's try one out!\n",
        "\n",
        "To load up a simple CNN on scikit-learn, just run:\n",
        "\n",
        "`cnn = CNNClassifier(num_epochs=N)`\n",
        "\n",
        "The `num_epochs` represents how many times the neural network passes through the training dataset. \n",
        "\n",
        "We'll need to change our data to floats (decimal numbers):"
      ]
    },
    {
      "cell_type": "code",
      "metadata": {
        "id": "kpf8uxMsT7N1"
      },
      "source": [
        "# convert our data to floats for our CNN\n",
        "X_train = X_train.astype(float)\n",
        "X_test = X_test.astype(float)\n"
      ],
      "execution_count": null,
      "outputs": []
    },
    {
      "cell_type": "markdown",
      "metadata": {
        "id": "GqrfI4JiVeFr"
      },
      "source": [
        "###Training Your CNN\n",
        "**Exercise:** Please train and test your CNN below!"
      ]
    },
    {
      "cell_type": "code",
      "metadata": {
        "id": "dSwghlVU4WTy",
        "colab": {
          "base_uri": "https://localhost:8080/"
        },
        "outputId": "56218158-6c50-4cfd-dba1-b004b1644ac1"
      },
      "source": [
        "### YOUR CODE HERE\n",
        "# Create and train our cnn\n",
        "cnn = CNNClassifier(num_epochs=5)\n",
        "cnn.fit(X_train, y_train)\n",
        "# Predict what the classes are based on the testing data\n",
        "y_pred = cnn.predict(X_test)\n",
        "# Print the score on the testing data\n",
        "accuracy = accuracy_score(y_pred, y_test)\n",
        "print(accuracy)\n",
        "\n",
        "### END CODE"
      ],
      "execution_count": null,
      "outputs": [
        {
          "output_type": "stream",
          "text": [
            "Epoch 1/5\n",
            "96/96 - 46s - loss: 0.9403 - accuracy: 0.7135\n",
            "Epoch 2/5\n",
            "96/96 - 0s - loss: 0.3240 - accuracy: 0.8646\n",
            "Epoch 3/5\n",
            "96/96 - 0s - loss: 0.2656 - accuracy: 0.9000\n",
            "Epoch 4/5\n",
            "96/96 - 0s - loss: 0.2118 - accuracy: 0.9208\n",
            "Epoch 5/5\n",
            "96/96 - 0s - loss: 0.2011 - accuracy: 0.9208\n",
            "24/24 - 1s\n",
            "0.9208333333333333\n"
          ],
          "name": "stdout"
        }
      ]
    },
    {
      "cell_type": "markdown",
      "metadata": {
        "id": "KGWpgsVXP1ut"
      },
      "source": [
        "**Discuss: Is this CNN good enough to use in practice?** \n",
        "\n",
        "CNNs typically perform better than basic Neural Networks on vision problems - but like basic Neural Networks, they aren't always consistent in their results and are sensitive to a number of factors. \n",
        "\n",
        "If you're interested in learning more about CNNs, spend some time exploring the [CNN Explainer](https://poloclub.github.io/cnn-explainer/)!\n",
        "\n",
        "**Report to the class your highest model accuracy.**\n",
        "\n",
        "**Bonus Question:** Each of you might see a different max accuracy. Can you think of why that might be?\n"
      ]
    },
    {
      "cell_type": "markdown",
      "metadata": {
        "id": "c-XRh5Y5P_CL"
      },
      "source": [
        "## Training and Validation Curves\n",
        "\n",
        "An important aspect of training neural networks is to prevent overfitting. **How do you know when your model is overfitting?**\n",
        "\n",
        "To plot our model's history, we can train it with\n",
        "```\n",
        "history = model.fit(X_train.astype(float), categorical_to_numpy(y_train), validation_data=(X_test.astype(float), categorical_to_numpy(y_test)))\n",
        "```\n",
        "\n",
        "and then use\n",
        "```\n",
        "plot_acc(history)\n",
        "```\n"
      ]
    },
    {
      "cell_type": "markdown",
      "metadata": {
        "id": "8eaFvE2PQEFe"
      },
      "source": [
        "**Exercise:** Train a CNN model and plot a train vs. test curve.\n",
        "\n",
        "**After how many epochs does the model begin to overfit?** Overfitting occurs when the validation accuracy starts to drop below the training accuracy."
      ]
    },
    {
      "cell_type": "code",
      "metadata": {
        "id": "OsVAasDbjARJ",
        "colab": {
          "base_uri": "https://localhost:8080/",
          "height": 470
        },
        "outputId": "7ebcce73-7a7b-4eeb-a092-94b34a7654d6"
      },
      "source": [
        "### YOUR CODE HERE\n",
        "cnn = CNNClassifier(num_epochs=5)\n",
        "history = cnn.fit(X_train.astype(float), categorical_to_numpy(y_train), validation_data=(X_test.astype(float), categorical_to_numpy(y_test)))\n",
        "# Predict what the classes are based on the testing data\n",
        "y_pred = cnn.predict(X_test)\n",
        "# Plot the history\n",
        "plot_acc(history)\n",
        "### END CODE"
      ],
      "execution_count": null,
      "outputs": [
        {
          "output_type": "stream",
          "text": [
            "Epoch 1/5\n",
            "96/96 - 5s - loss: 2.6090 - accuracy: 0.6427 - val_loss: 0.3174 - val_accuracy: 0.8708\n",
            "Epoch 2/5\n",
            "96/96 - 1s - loss: 0.4262 - accuracy: 0.8229 - val_loss: 0.3846 - val_accuracy: 0.8083\n",
            "Epoch 3/5\n",
            "96/96 - 1s - loss: 0.2960 - accuracy: 0.8792 - val_loss: 0.1512 - val_accuracy: 0.9375\n",
            "Epoch 4/5\n",
            "96/96 - 1s - loss: 0.2306 - accuracy: 0.9062 - val_loss: 0.1627 - val_accuracy: 0.9292\n",
            "Epoch 5/5\n",
            "96/96 - 1s - loss: 0.2076 - accuracy: 0.9271 - val_loss: 0.1460 - val_accuracy: 0.9333\n",
            "24/24 - 1s\n"
          ],
          "name": "stdout"
        },
        {
          "output_type": "display_data",
          "data": {
            "image/png": "[encoded data removed]",
            "text/plain": [
              "<Figure size 432x288 with 1 Axes>"
            ]
          },
          "metadata": {
            "tags": [],
            "needs_background": "light"
          }
        }
      ]
    },
    {
      "cell_type": "markdown",
      "metadata": {
        "id": "RVzEpI_xWpE5"
      },
      "source": [
        "### Hopefully your CNN worked *very* well! We want to keep the doggos as safe as they can be.\n",
        "\n",
        "![](https://images.pexels.com/photos/316/black-and-white-animal-dog-pet.jpg?auto=compress&cs=tinysrgb&dpr=2&h=650&w=940)"
      ]
    },
    {
      "cell_type": "markdown",
      "metadata": {
        "id": "7Y1wGoQPm2Ko"
      },
      "source": [
        "# Challenge Exercise: Explainability through Saliency Maps"
      ]
    },
    {
      "cell_type": "markdown",
      "metadata": {
        "id": "UnGTR2Vdb08i"
      },
      "source": [
        "Neural networks have achieved incredible results in many fields. But they have a big problem: it’s very difficult to explain exactly why a neural network makes the decisions it does. This makes it difficult to trust them in high-stakes applications like medicine, self-driving cars, and criminal justice - would you trust an AI that diagnosed you with a disease, but couldn’t explain why?\n",
        "\n",
        "Other classifiers are much more explainable:\n",
        "\n",
        "*   With logistic regression, we can see the coefficient (importance) attached to each input feature.\n",
        "*   With a decision tree, we can trace a particular decision down the tree.\n",
        "*   With KNN, we can examine the nearby neighbors.\n",
        "\n",
        "Our CNN, above, works well. For example, let's try choosing an image from our dataset and classifying it."
      ]
    },
    {
      "cell_type": "code",
      "metadata": {
        "id": "HmU6Peb7m67F",
        "colab": {
          "base_uri": "https://localhost:8080/",
          "height": 351
        },
        "outputId": "23b0f282-9877-4bdb-8eac-739f1be21dd6"
      },
      "source": [
        "image_index = 70 #pick any image you'd like\n",
        "input_image = X_test[image_index] \n",
        "print (input_image.shape) \n",
        "print (input_image) #How many numbers are there? What does each represent?\n",
        "\n",
        "plt.imshow(input_image.reshape(32,32,3).astype(int))\n",
        "plt.show()\n",
        "\n",
        "print ('Classification:')\n",
        "print(cnn.predict(np.array([input_image]))) #Our predict function expects a 2D array.\n",
        "#0 means dog, 1 means road"
      ],
      "execution_count": null,
      "outputs": [
        {
          "output_type": "stream",
          "text": [
            "(3072,)\n",
            "[118. 113.  81. ... 194. 207. 200.]\n"
          ],
          "name": "stdout"
        },
        {
          "output_type": "display_data",
          "data": {
            "image/png": "[encoded data removed]",
            "text/plain": [
              "<Figure size 432x288 with 1 Axes>"
            ]
          },
          "metadata": {
            "tags": [],
            "needs_background": "light"
          }
        },
        {
          "output_type": "stream",
          "text": [
            "Classification:\n",
            "1/1 - 1s\n",
            "[0]\n"
          ],
          "name": "stdout"
        }
      ]
    },
    {
      "cell_type": "markdown",
      "metadata": {
        "id": "c6P7DX_WcfOU"
      },
      "source": [
        "But why did the CNN reach that decision? It’s really hard to give a clear answer! The CNN relies on multiplying input features by the weights it has set. You can print out and look at the hundreds of weights:\n"
      ]
    },
    {
      "cell_type": "code",
      "metadata": {
        "id": "w8M8UZCgcpqO",
        "colab": {
          "base_uri": "https://localhost:8080/"
        },
        "outputId": "50fdf948-cac4-48cc-cb28-c6693e536be2"
      },
      "source": [
        "#Warning: expect a large output!\n",
        "for layer_weights in history.model.weights:\n",
        "  print (layer_weights)"
      ],
      "execution_count": null,
      "outputs": [
        {
          "output_type": "stream",
          "text": [
            "<tf.Variable 'conv2d_16/kernel:0' shape=(3, 3, 3, 32) dtype=float32, numpy=\n",
            "array([[[[ 0.12375935,  0.01791056, -0.05111092, -0.10168335,\n",
            "          -0.11099287, -0.11031131,  0.08815444, -0.06927043,\n",
            "          -0.12601078, -0.02399137,  0.05923601, -0.08855915,\n",
            "           0.1007366 ,  0.07158931,  0.13497783, -0.07087068,\n",
            "          -0.11029426,  0.03553636, -0.05496594, -0.05856032,\n",
            "          -0.00044091, -0.09350025,  0.01657505, -0.09602789,\n",
            "           0.13537548,  0.02853313, -0.07821554, -0.03329597,\n",
            "           0.04897501,  0.06828385,  0.02122647,  0.00450195],\n",
            "         [ 0.10814071, -0.00712302,  0.01914742, -0.09960078,\n",
            "          -0.05590781,  0.05451775, -0.12398536, -0.1009701 ,\n",
            "          -0.03549822,  0.01831418,  0.07496789,  0.07138097,\n",
            "          -0.08267283,  0.04419177, -0.06387492,  0.08234315,\n",
            "           0.07033291, -0.11461449,  0.05834156, -0.13353868,\n",
            "           0.01965061,  0.02228268,  0.01257947, -0.04466609,\n",
            "          -0.08948421,  0.12211652, -0.03565673,  0.08774621,\n",
            "          -0.07319381, -0.03067781, -0.0764103 ,  0.03639164],\n",
            "         [ 0.01862507, -0.06653542, -0.10329141,  0.03571652,\n",
            "           0.08626145,  0.04247355,  0.04651922, -0.02243428,\n",
            "           0.05043574, -0.00269211,  0.00749219,  0.05969258,\n",
            "          -0.01423399,  0.0245956 , -0.02285379,  0.11073767,\n",
            "          -0.13504563, -0.09384549, -0.11279748,  0.01310655,\n",
            "           0.08585207,  0.03517306, -0.03831614,  0.07077124,\n",
            "           0.10899253, -0.12186707, -0.09598834,  0.04272472,\n",
            "           0.01817415,  0.05098025, -0.05420661, -0.05112996]],\n",
            "\n",
            "        [[-0.00756114,  0.13051382, -0.00071511, -0.03738627,\n",
            "          -0.11682615, -0.11748871, -0.13543403,  0.08676442,\n",
            "          -0.00263989, -0.02352366,  0.128264  ,  0.11757519,\n",
            "          -0.11790638, -0.08513316, -0.03083305, -0.02122237,\n",
            "           0.05719066,  0.01050557, -0.09270134,  0.03185017,\n",
            "           0.01352821,  0.12631726, -0.08863612, -0.08256798,\n",
            "           0.02248674, -0.05294687,  0.04923955,  0.01423766,\n",
            "           0.12943989,  0.06963643,  0.01166152,  0.01555989],\n",
            "         [ 0.12989296,  0.02477049,  0.10920679,  0.09689793,\n",
            "          -0.11325128,  0.04619845, -0.02612787,  0.10618565,\n",
            "          -0.06217941, -0.00908136, -0.00800658,  0.10055822,\n",
            "           0.00679738,  0.01376429,  0.00841443, -0.13065208,\n",
            "          -0.12005819, -0.11430807, -0.06183032, -0.13831227,\n",
            "           0.04503893,  0.06755157,  0.12076876, -0.10871206,\n",
            "           0.09577607,  0.00382081,  0.10146373, -0.03099505,\n",
            "           0.12093468, -0.00987226, -0.02603536, -0.04264658],\n",
            "         [-0.00372403, -0.02964614,  0.01203944, -0.02039215,\n",
            "          -0.00464726,  0.03466866,  0.06437741, -0.0422796 ,\n",
            "           0.0771701 , -0.13317113,  0.13214682, -0.04902445,\n",
            "          -0.03183466, -0.06941027, -0.10947445, -0.13704133,\n",
            "           0.11565854, -0.06261948, -0.13515551,  0.103922  ,\n",
            "           0.11361677,  0.09324982,  0.10404228,  0.03348478,\n",
            "          -0.08312997,  0.09003567, -0.11791651, -0.06920262,\n",
            "          -0.04896592,  0.1013959 , -0.08575286,  0.11903708]],\n",
            "\n",
            "        [[-0.0047754 ,  0.11500449, -0.06872031,  0.03718495,\n",
            "           0.01001891,  0.02653937,  0.06121837, -0.08972762,\n",
            "           0.10463038,  0.02665018,  0.0812874 , -0.13686861,\n",
            "          -0.061987  ,  0.07361764, -0.02272238,  0.12508275,\n",
            "          -0.08655679, -0.05984362, -0.0693401 ,  0.0442089 ,\n",
            "           0.11855748,  0.10015561, -0.02600218,  0.098887  ,\n",
            "          -0.12247727,  0.07759012,  0.12624384, -0.11537084,\n",
            "           0.03206291, -0.12743647,  0.070643  , -0.10067994],\n",
            "         [-0.01849223,  0.12555274,  0.08114932, -0.09779125,\n",
            "           0.04884322, -0.11176496,  0.0779401 ,  0.02494287,\n",
            "           0.12893124, -0.05630917,  0.09755216,  0.03547537,\n",
            "           0.03690408, -0.07136447, -0.04559443,  0.09862971,\n",
            "           0.01023339, -0.07190384,  0.10898038,  0.1182868 ,\n",
            "          -0.0361459 ,  0.10139837, -0.11695785,  0.00823795,\n",
            "          -0.03475915,  0.0845599 , -0.04687839, -0.02976398,\n",
            "           0.1189306 ,  0.00179775, -0.12424847, -0.0381709 ],\n",
            "         [-0.07226434, -0.02167285, -0.12392665, -0.1379922 ,\n",
            "          -0.01333962,  0.06572957, -0.01016643,  0.00745697,\n",
            "           0.09581746,  0.02234021, -0.01204902,  0.1331351 ,\n",
            "           0.09993117, -0.0576401 , -0.01542209, -0.03961657,\n",
            "           0.09181271,  0.0559029 , -0.06144464,  0.05821672,\n",
            "           0.11333363,  0.04409695,  0.00568139,  0.13567206,\n",
            "           0.00461052, -0.02564417, -0.13119288,  0.09553991,\n",
            "           0.05248404,  0.1374558 ,  0.08072705,  0.13266248]]],\n",
            "\n",
            "\n",
            "       [[[-0.06265838, -0.07480875, -0.05594477,  0.07069531,\n",
            "          -0.13618545, -0.02334027, -0.12177417, -0.1241792 ,\n",
            "           0.01793407,  0.06978863, -0.02230874, -0.03724843,\n",
            "          -0.02035436, -0.00847006, -0.0280236 , -0.09284959,\n",
            "          -0.02413174,  0.0116257 , -0.13536629,  0.1118353 ,\n",
            "           0.03253011, -0.09142907, -0.1039267 , -0.08488952,\n",
            "          -0.12179792,  0.06682386,  0.0870325 ,  0.032354  ,\n",
            "          -0.06209918,  0.06641047, -0.04029058,  0.08107033],\n",
            "         [-0.08268444, -0.03322303,  0.11538421, -0.02182682,\n",
            "          -0.06329769, -0.02584799, -0.07503538, -0.00994533,\n",
            "           0.11577818, -0.02775621,  0.04981504,  0.0992251 ,\n",
            "          -0.07884599,  0.12112587, -0.10544237, -0.03482141,\n",
            "           0.03223851,  0.06144257,  0.08347306,  0.00262562,\n",
            "          -0.09870034,  0.074786  ,  0.04923065, -0.04558843,\n",
            "           0.05807267,  0.01207897,  0.07384104,  0.08868197,\n",
            "           0.07221384, -0.04568409,  0.05507841,  0.04269669],\n",
            "         [-0.08539839, -0.13509527, -0.00314466, -0.04260133,\n",
            "          -0.02922549, -0.04231878, -0.07803966, -0.08576573,\n",
            "          -0.06675477, -0.11807334, -0.11467492, -0.02819449,\n",
            "           0.05082425,  0.02213164, -0.07193921,  0.08563979,\n",
            "          -0.05935617, -0.12509084,  0.09742219,  0.1118532 ,\n",
            "           0.00107543,  0.08718476,  0.13324931,  0.12025893,\n",
            "          -0.05789712, -0.07314859, -0.05319156, -0.02677932,\n",
            "           0.06764966, -0.05238639,  0.10003842, -0.05295379]],\n",
            "\n",
            "        [[-0.09022328, -0.03353833, -0.09536535,  0.11040601,\n",
            "          -0.0550114 ,  0.04207316,  0.1167772 ,  0.12807198,\n",
            "          -0.05245556,  0.12900527, -0.12176748,  0.03594919,\n",
            "          -0.12526134, -0.02159923, -0.0152671 , -0.11274758,\n",
            "           0.04722455,  0.09027986,  0.12703471,  0.12962154,\n",
            "           0.01542423, -0.10818692,  0.0541479 , -0.07437497,\n",
            "          -0.05036697,  0.09682389, -0.07494549,  0.07207348,\n",
            "           0.12210865,  0.00582028, -0.10873822, -0.06678798],\n",
            "         [-0.12459559,  0.12374297,  0.0851511 , -0.00080376,\n",
            "          -0.06155634,  0.04708307, -0.03058683,  0.09979369,\n",
            "           0.02979199,  0.01010652, -0.12448079,  0.08552833,\n",
            "           0.02499903, -0.06468617, -0.062829  , -0.06671466,\n",
            "          -0.106265  , -0.10992546,  0.09811337,  0.12634727,\n",
            "          -0.13094312,  0.01994926, -0.08767641,  0.13561   ,\n",
            "           0.03080955, -0.006489  , -0.06882164,  0.07819034,\n",
            "          -0.08530653,  0.10396192,  0.13821472,  0.11907158],\n",
            "         [-0.00838953, -0.10146963, -0.02075018, -0.1135889 ,\n",
            "          -0.11531627,  0.02192708,  0.06283934, -0.11875174,\n",
            "           0.04602462,  0.03604897, -0.00634463,  0.12108539,\n",
            "          -0.10756726, -0.07261039, -0.13776578,  0.01709597,\n",
            "          -0.02418175, -0.01307847, -0.1295451 ,  0.00119205,\n",
            "           0.03849909,  0.11372299, -0.0791838 ,  0.10498838,\n",
            "          -0.00300998, -0.06288263,  0.06510774,  0.06081617,\n",
            "          -0.12650426, -0.0597965 ,  0.05739862,  0.02739489]],\n",
            "\n",
            "        [[ 0.05801955,  0.07687546, -0.07852795,  0.04760198,\n",
            "           0.06305415, -0.00162237, -0.00598648, -0.12743506,\n",
            "          -0.09101392,  0.1221757 , -0.12391531,  0.04780118,\n",
            "          -0.11864199, -0.08088741, -0.09181556,  0.05081156,\n",
            "           0.02289578, -0.08102234,  0.10604488, -0.0089293 ,\n",
            "          -0.00258001,  0.12678507,  0.10326096,  0.11587078,\n",
            "          -0.0699417 ,  0.04204362,  0.12319624, -0.11334106,\n",
            "           0.03728082, -0.07811493,  0.05077915, -0.05163484],\n",
            "         [ 0.11501261, -0.09960822,  0.08332129,  0.03606784,\n",
            "           0.06523393,  0.01265591,  0.08747319, -0.10140157,\n",
            "          -0.0378455 ,  0.09739668, -0.06538112,  0.081311  ,\n",
            "           0.01956918,  0.10639442, -0.11880177,  0.01755397,\n",
            "           0.1143875 , -0.01530681,  0.06364031, -0.11809517,\n",
            "          -0.06591781, -0.00720613, -0.09943473,  0.00303715,\n",
            "          -0.13285203,  0.0660239 , -0.06829559,  0.00808194,\n",
            "           0.10008044,  0.08656417,  0.0464021 , -0.13580154],\n",
            "         [-0.10459945,  0.02432986, -0.07463303, -0.03188794,\n",
            "          -0.07310072,  0.05053466, -0.08471677,  0.04385762,\n",
            "           0.03369223,  0.02207807, -0.04342584,  0.13432197,\n",
            "           0.10435147, -0.12077415, -0.08545321,  0.09020789,\n",
            "           0.03193378,  0.0653113 , -0.00213547, -0.05482558,\n",
            "           0.12898244,  0.02405572,  0.04914271,  0.06534182,\n",
            "           0.13335517, -0.05008394,  0.00711708,  0.02813742,\n",
            "          -0.00840647,  0.03067928, -0.03547726, -0.07851358]]],\n",
            "\n",
            "\n",
            "       [[[ 0.06844985,  0.08058392,  0.09791011,  0.08282191,\n",
            "           0.00929173,  0.08496153,  0.05901558,  0.06218055,\n",
            "          -0.05452917, -0.0138002 ,  0.00594723, -0.03611149,\n",
            "           0.05313595,  0.02354272, -0.07288659,  0.12965158,\n",
            "           0.01964528,  0.0995024 , -0.04701539, -0.11264374,\n",
            "          -0.01371458,  0.07647537, -0.07807356, -0.07013298,\n",
            "           0.07047456, -0.06834272, -0.06062535, -0.12032995,\n",
            "          -0.10165301,  0.11986117,  0.12841795, -0.09319402],\n",
            "         [ 0.07673652, -0.04746072, -0.05168074,  0.11713034,\n",
            "          -0.00423585,  0.03996224, -0.11737885, -0.07718243,\n",
            "          -0.12341489,  0.00664659,  0.01219468, -0.0287846 ,\n",
            "           0.01636383, -0.10982202,  0.04849073, -0.03771822,\n",
            "          -0.11951102, -0.00912287,  0.09104008, -0.02601883,\n",
            "           0.08008489, -0.1433668 , -0.02072826, -0.03593323,\n",
            "          -0.10533512, -0.12101767, -0.05873264,  0.13059518,\n",
            "          -0.12104286,  0.00729218, -0.04054236, -0.11698104],\n",
            "         [ 0.12130212,  0.09972037,  0.1245164 , -0.04790844,\n",
            "           0.10543258, -0.1340164 , -0.1319103 ,  0.044378  ,\n",
            "          -0.08736097,  0.11235935, -0.03859681, -0.08646087,\n",
            "          -0.03021161, -0.12945426, -0.09961323,  0.05753876,\n",
            "           0.00589716,  0.12160347, -0.11529185,  0.12871356,\n",
            "          -0.11441807,  0.11613847,  0.08022135,  0.11673012,\n",
            "           0.09071558,  0.07567542,  0.06817375,  0.11350212,\n",
            "          -0.0116972 ,  0.05272005, -0.02948107,  0.02231821]],\n",
            "\n",
            "        [[ 0.04396484,  0.02204512,  0.00261299,  0.04918196,\n",
            "          -0.02799386,  0.02836925, -0.02135587,  0.09233219,\n",
            "           0.01098789,  0.00678328, -0.02244974, -0.03606368,\n",
            "          -0.00144992, -0.07671685,  0.05013849,  0.03464542,\n",
            "           0.1265875 , -0.02837254,  0.06835663,  0.01224503,\n",
            "          -0.1010545 , -0.01005415, -0.08465504,  0.06420673,\n",
            "          -0.04967641,  0.11029561, -0.08134922, -0.07202193,\n",
            "          -0.09946503, -0.08882686, -0.00114474,  0.06368861],\n",
            "         [-0.0598302 , -0.0748057 ,  0.10919873,  0.11672797,\n",
            "           0.01483547,  0.09806388, -0.12303717, -0.13223043,\n",
            "          -0.0263494 ,  0.10754355, -0.11452556, -0.00747786,\n",
            "           0.10223268,  0.1077258 , -0.0720952 ,  0.1068012 ,\n",
            "           0.03614653,  0.03318878, -0.09602344,  0.08298125,\n",
            "           0.09550074,  0.12420519, -0.12351868, -0.0084742 ,\n",
            "          -0.08485067, -0.05285799, -0.0487394 ,  0.05526996,\n",
            "          -0.018419  ,  0.06192797, -0.01791628,  0.09691212],\n",
            "         [-0.02162594,  0.03140027,  0.12484118,  0.11027246,\n",
            "          -0.12876947, -0.13798787, -0.11661074,  0.12157799,\n",
            "           0.1086437 , -0.13677129, -0.08355157,  0.11188031,\n",
            "           0.0767777 ,  0.05598688, -0.08031399, -0.06284947,\n",
            "           0.11642579,  0.07394382,  0.11866041,  0.06242341,\n",
            "          -0.09862525, -0.02931058,  0.03189439, -0.12336878,\n",
            "          -0.02055958,  0.10822291,  0.07668716,  0.00334955,\n",
            "           0.07678355,  0.08373027, -0.09525861,  0.02464983]],\n",
            "\n",
            "        [[ 0.11387872, -0.13803697, -0.07306924, -0.04070609,\n",
            "           0.11483813, -0.01672868, -0.07580705, -0.07162211,\n",
            "           0.00488685, -0.11057023, -0.04253475, -0.01158729,\n",
            "           0.09398737,  0.05906546,  0.01508316,  0.08644703,\n",
            "           0.04450784,  0.07449657,  0.05111786,  0.11097649,\n",
            "          -0.098288  , -0.00570066,  0.07829092,  0.04999275,\n",
            "          -0.04223743,  0.08958881, -0.01040168, -0.07899497,\n",
            "           0.07959607,  0.02716807, -0.02985759,  0.00105302],\n",
            "         [-0.02084543,  0.02733765,  0.06646799,  0.06441304,\n",
            "          -0.10528731,  0.08467451, -0.09754492, -0.1112278 ,\n",
            "           0.06915221, -0.04088601,  0.03933547,  0.06759468,\n",
            "           0.12872785,  0.05089091,  0.13313745, -0.03583827,\n",
            "           0.12085155, -0.06345604, -0.07681709,  0.04426317,\n",
            "          -0.02122163,  0.12032533, -0.02023707,  0.01879153,\n",
            "           0.04926616,  0.10843428, -0.03417804,  0.06059377,\n",
            "           0.06755719,  0.04779124, -0.06506659,  0.02294231],\n",
            "         [ 0.12810373,  0.06825563, -0.05760314,  0.03349437,\n",
            "          -0.02891049, -0.04683097,  0.12544443,  0.03863193,\n",
            "           0.11169437, -0.07481911,  0.0472236 , -0.03340569,\n",
            "           0.14115825, -0.06507077, -0.05448318,  0.03336078,\n",
            "          -0.0066848 ,  0.08251522, -0.02247633, -0.09792426,\n",
            "          -0.04018389, -0.13996619,  0.04382866,  0.09682902,\n",
            "           0.034734  , -0.01417647, -0.08622375, -0.06293494,\n",
            "           0.04613225, -0.07167892, -0.02856883, -0.10260332]]]],\n",
            "      dtype=float32)>\n",
            "<tf.Variable 'conv2d_16/bias:0' shape=(32,) dtype=float32, numpy=\n",
            "array([-0.00219943, -0.00147519,  0.00198108, -0.00199024, -0.00010231,\n",
            "       -0.00122394, -0.00040321,  0.00261484, -0.00072707, -0.00132785,\n",
            "       -0.00069159, -0.00185763,  0.00316125,  0.00172541, -0.00038276,\n",
            "       -0.00183588, -0.00264166, -0.00612663, -0.00292556, -0.00405655,\n",
            "       -0.00696211, -0.00429539, -0.0008435 , -0.00075512,  0.00019763,\n",
            "       -0.00306061,  0.0014781 , -0.00355744, -0.00538793,  0.00114696,\n",
            "        0.00531926, -0.0006035 ], dtype=float32)>\n",
            "<tf.Variable 'conv2d_17/kernel:0' shape=(3, 3, 32, 32) dtype=float32, numpy=\n",
            "array([[[[ 0.08207548, -0.08746066, -0.08038136, ...,  0.07433197,\n",
            "          -0.02857997,  0.09292226],\n",
            "         [-0.10242464,  0.03200325,  0.08939303, ..., -0.03806485,\n",
            "           0.01902498,  0.05424196],\n",
            "         [-0.06924249, -0.09433507, -0.06846736, ..., -0.09013911,\n",
            "          -0.02458064,  0.08690318],\n",
            "         ...,\n",
            "         [-0.0642532 , -0.07229514,  0.04982163, ...,  0.10397828,\n",
            "          -0.05224476, -0.06972122],\n",
            "         [ 0.0768361 ,  0.04587984,  0.07546049, ..., -0.01988217,\n",
            "          -0.04593828, -0.05167507],\n",
            "         [ 0.04463532,  0.0211942 ,  0.01718602, ...,  0.05107175,\n",
            "           0.012795  ,  0.05588904]],\n",
            "\n",
            "        [[-0.02974374, -0.07971058,  0.06738774, ...,  0.00331941,\n",
            "          -0.03432184, -0.05595202],\n",
            "         [-0.0030873 , -0.00906208,  0.04676749, ...,  0.09418295,\n",
            "           0.09610855,  0.08321435],\n",
            "         [ 0.06004107,  0.07521051,  0.09734324, ..., -0.03534208,\n",
            "           0.01369338,  0.02881554],\n",
            "         ...,\n",
            "         [ 0.00113073, -0.01004865, -0.00498468, ..., -0.02440643,\n",
            "           0.04852815, -0.02739314],\n",
            "         [ 0.01911756,  0.01519899,  0.09283743, ...,  0.08545875,\n",
            "           0.02900745,  0.04970654],\n",
            "         [-0.10043435, -0.04451336, -0.04259291, ...,  0.09053032,\n",
            "          -0.03339076,  0.03573836]],\n",
            "\n",
            "        [[ 0.01002479, -0.04520768,  0.04377178, ..., -0.0276898 ,\n",
            "           0.09445294,  0.05236496],\n",
            "         [-0.07929997, -0.05091397,  0.00263141, ...,  0.06084074,\n",
            "          -0.08481209,  0.03991402],\n",
            "         [ 0.06436493, -0.09246852,  0.0036475 , ...,  0.06004104,\n",
            "           0.08184965,  0.02190879],\n",
            "         ...,\n",
            "         [-0.00304955,  0.08172062, -0.02419297, ...,  0.09242579,\n",
            "           0.04018952,  0.06654386],\n",
            "         [ 0.01885762, -0.03743214, -0.01427108, ...,  0.00575862,\n",
            "          -0.00776352,  0.07990237],\n",
            "         [-0.01488528,  0.00014467,  0.03067339, ...,  0.09795937,\n",
            "          -0.04361927, -0.03667409]]],\n",
            "\n",
            "\n",
            "       [[[ 0.01723885, -0.09466711, -0.06694538, ..., -0.02072974,\n",
            "          -0.09113578, -0.03315509],\n",
            "         [-0.0169891 ,  0.02134422, -0.00360208, ..., -0.03913304,\n",
            "           0.0223006 , -0.09519538],\n",
            "         [ 0.0714652 ,  0.01570928, -0.00711239, ...,  0.05637252,\n",
            "           0.00221126, -0.05665395],\n",
            "         ...,\n",
            "         [-0.03951068,  0.05149285,  0.00997306, ...,  0.10360364,\n",
            "          -0.06988806, -0.07480134],\n",
            "         [ 0.01504142, -0.06627968, -0.01373458, ..., -0.05048744,\n",
            "           0.06422509, -0.04649886],\n",
            "         [ 0.00866078,  0.02547112, -0.03243521, ...,  0.03394226,\n",
            "           0.01464476,  0.00677175]],\n",
            "\n",
            "        [[-0.08226817,  0.05043525,  0.03377671, ..., -0.07679963,\n",
            "          -0.0281247 , -0.08300526],\n",
            "         [-0.03502905, -0.04931593, -0.06106716, ...,  0.03520685,\n",
            "          -0.0327104 , -0.06352589],\n",
            "         [ 0.05790141,  0.07564899,  0.09226066, ..., -0.01479346,\n",
            "          -0.0158281 , -0.06230186],\n",
            "         ...,\n",
            "         [ 0.05083922, -0.05700634,  0.06513315, ...,  0.0654331 ,\n",
            "          -0.04432407, -0.08502559],\n",
            "         [-0.08214595, -0.08463181, -0.03530337, ..., -0.06058734,\n",
            "           0.06191462, -0.00384808],\n",
            "         [-0.0227154 ,  0.02640893,  0.03095753, ..., -0.06833877,\n",
            "          -0.01020977, -0.05950084]],\n",
            "\n",
            "        [[ 0.05078908,  0.05177669, -0.09680777, ..., -0.03512326,\n",
            "           0.08619399,  0.00062487],\n",
            "         [-0.05139789,  0.04826614, -0.04431142, ...,  0.09312938,\n",
            "          -0.1019747 , -0.06279382],\n",
            "         [ 0.07002223,  0.00711318, -0.01573977, ...,  0.0845971 ,\n",
            "          -0.09569091, -0.06949878],\n",
            "         ...,\n",
            "         [-0.0974249 ,  0.07588542, -0.08024585, ..., -0.0555669 ,\n",
            "          -0.04467561, -0.08335929],\n",
            "         [ 0.00278682, -0.02296468,  0.07726981, ..., -0.06345894,\n",
            "           0.08879057,  0.09341312],\n",
            "         [ 0.00775757, -0.02024423,  0.06724491, ...,  0.00717266,\n",
            "           0.02325331, -0.06876639]]],\n",
            "\n",
            "\n",
            "       [[[ 0.0210061 , -0.05060457,  0.03102402, ..., -0.09171349,\n",
            "          -0.03274565,  0.07205866],\n",
            "         [ 0.05816241, -0.00044397,  0.02153911, ...,  0.06103764,\n",
            "           0.01649693, -0.10003426],\n",
            "         [-0.03842102,  0.04349522,  0.02940554, ...,  0.08037186,\n",
            "           0.0800078 , -0.06372185],\n",
            "         ...,\n",
            "         [ 0.01163801,  0.09061579, -0.00128389, ..., -0.06773177,\n",
            "           0.04557618, -0.05055765],\n",
            "         [ 0.08686921,  0.05573335,  0.02352674, ...,  0.04513329,\n",
            "           0.02682946,  0.07308517],\n",
            "         [-0.00627551,  0.08413683,  0.04879212, ..., -0.05828987,\n",
            "          -0.05759157, -0.01589965]],\n",
            "\n",
            "        [[-0.08318748,  0.09631089, -0.03750105, ..., -0.06061178,\n",
            "           0.06659222, -0.01456929],\n",
            "         [-0.07485767, -0.08692063, -0.07804666, ..., -0.08422579,\n",
            "          -0.07209589,  0.08058968],\n",
            "         [ 0.08661763, -0.05702137,  0.08357733, ...,  0.02418985,\n",
            "           0.01775282, -0.06567288],\n",
            "         ...,\n",
            "         [-0.0827437 , -0.04864353, -0.08509353, ..., -0.0767241 ,\n",
            "          -0.06238119,  0.01236533],\n",
            "         [ 0.07318954,  0.05446832,  0.00177264, ..., -0.01960051,\n",
            "          -0.05197081,  0.08663019],\n",
            "         [ 0.06472548, -0.08855234, -0.05053302, ...,  0.01767563,\n",
            "          -0.03770449,  0.06792089]],\n",
            "\n",
            "        [[-0.02887056,  0.01845644,  0.0016978 , ..., -0.09363385,\n",
            "          -0.02000643, -0.04374207],\n",
            "         [-0.07370037, -0.06625492,  0.08581162, ...,  0.03942691,\n",
            "          -0.09318854,  0.00488676],\n",
            "         [-0.07799293,  0.01887796, -0.03948928, ..., -0.02806237,\n",
            "          -0.04543452, -0.06276469],\n",
            "         ...,\n",
            "         [-0.06700984, -0.06318071,  0.09996008, ...,  0.09273925,\n",
            "           0.01288488, -0.05097904],\n",
            "         [-0.08854875,  0.00915598, -0.04649274, ..., -0.07936191,\n",
            "          -0.10144407,  0.01932275],\n",
            "         [ 0.03204428,  0.0819864 , -0.04131068, ...,  0.01850105,\n",
            "          -0.08930895,  0.05687254]]]], dtype=float32)>\n",
            "<tf.Variable 'conv2d_17/bias:0' shape=(32,) dtype=float32, numpy=\n",
            "array([-1.8472750e-03,  2.6635537e-03,  2.0433781e-03,  2.8082163e-03,\n",
            "        6.4129097e-05, -1.2131366e-03, -8.6102204e-04, -1.9977726e-03,\n",
            "       -5.0085349e-05,  9.0720638e-04, -2.3133615e-03,  3.7895290e-03,\n",
            "       -2.5928395e-03,  1.8747542e-03, -3.5397953e-03, -5.8041629e-03,\n",
            "       -1.3841718e-03, -2.5499947e-03,  2.4510683e-03,  4.5279154e-04,\n",
            "        8.7927903e-05,  2.6712911e-03, -1.3149963e-03, -6.5350430e-03,\n",
            "       -2.1501754e-03, -2.2861036e-03, -4.6452372e-03,  3.4241643e-04,\n",
            "       -2.7811530e-03,  3.6479060e-03, -2.3846303e-03, -3.5036034e-03],\n",
            "      dtype=float32)>\n",
            "<tf.Variable 'conv2d_18/kernel:0' shape=(3, 3, 32, 32) dtype=float32, numpy=\n",
            "array([[[[-0.07552376, -0.07190296,  0.0352843 , ...,  0.06623854,\n",
            "           0.10367677,  0.02722311],\n",
            "         [ 0.01755278,  0.03309033,  0.00756556, ..., -0.04213177,\n",
            "           0.0903146 , -0.03738193],\n",
            "         [ 0.09688646, -0.0549729 , -0.06790145, ..., -0.05645504,\n",
            "           0.01791041,  0.08197441],\n",
            "         ...,\n",
            "         [ 0.05829044,  0.01713699,  0.06261214, ..., -0.06451609,\n",
            "          -0.0322626 ,  0.08825392],\n",
            "         [ 0.02334472,  0.02881217,  0.03384065, ...,  0.09836608,\n",
            "          -0.02558502, -0.0253578 ],\n",
            "         [ 0.08381074, -0.03702609, -0.09553012, ...,  0.01114393,\n",
            "          -0.06459752,  0.08427132]],\n",
            "\n",
            "        [[ 0.09489752, -0.09071551,  0.0782552 , ..., -0.06223423,\n",
            "           0.0154281 , -0.00983362],\n",
            "         [-0.0868803 ,  0.07457677,  0.00595173, ...,  0.09682181,\n",
            "          -0.05006027,  0.08098646],\n",
            "         [ 0.08389253, -0.07970554, -0.00120547, ..., -0.06028973,\n",
            "           0.08349516,  0.03688837],\n",
            "         ...,\n",
            "         [ 0.09155732,  0.06342144, -0.05901203, ..., -0.00974227,\n",
            "          -0.08144175,  0.0384276 ],\n",
            "         [-0.02695963,  0.01400761, -0.05564496, ..., -0.08044747,\n",
            "          -0.05571988,  0.01190442],\n",
            "         [ 0.07545406, -0.04522941, -0.03119882, ..., -0.05801911,\n",
            "           0.01469432, -0.07962577]],\n",
            "\n",
            "        [[ 0.0479081 ,  0.03050663, -0.02100288, ...,  0.06177785,\n",
            "           0.02389575, -0.10410476],\n",
            "         [-0.07015245, -0.0126184 ,  0.0234805 , ..., -0.07798999,\n",
            "           0.04625031,  0.04339135],\n",
            "         [-0.05807694,  0.10611325, -0.0791354 , ..., -0.02573095,\n",
            "          -0.07851141,  0.05005017],\n",
            "         ...,\n",
            "         [ 0.09417469,  0.08167343, -0.08695842, ..., -0.05395728,\n",
            "           0.04235318, -0.05657339],\n",
            "         [-0.0815757 , -0.02905396,  0.00801309, ..., -0.04435206,\n",
            "           0.09873554, -0.04504759],\n",
            "         [-0.07608484, -0.05468016, -0.06035888, ..., -0.07317846,\n",
            "           0.0734087 , -0.08862304]]],\n",
            "\n",
            "\n",
            "       [[[-0.01642707, -0.05940941,  0.0322984 , ..., -0.07534859,\n",
            "          -0.04067288, -0.06321142],\n",
            "         [-0.04506221,  0.00701898,  0.03584608, ..., -0.03361997,\n",
            "           0.01114828,  0.00154515],\n",
            "         [ 0.0547762 , -0.04982431,  0.02288292, ...,  0.04537213,\n",
            "           0.06338731,  0.07614657],\n",
            "         ...,\n",
            "         [ 0.07474214, -0.0449351 , -0.0096857 , ...,  0.07476601,\n",
            "          -0.02793184,  0.09973724],\n",
            "         [ 0.08706176,  0.08308218, -0.02834258, ..., -0.02394916,\n",
            "          -0.099535  ,  0.03856246],\n",
            "         [-0.0499026 ,  0.07563767, -0.03171894, ..., -0.06100295,\n",
            "          -0.03401263, -0.05620253]],\n",
            "\n",
            "        [[-0.07339638,  0.03635643,  0.07253311, ...,  0.05132532,\n",
            "           0.03226357,  0.05743456],\n",
            "         [-0.07535289, -0.10294844,  0.07239009, ..., -0.03981458,\n",
            "           0.05016612, -0.05202915],\n",
            "         [ 0.09299538, -0.04443165,  0.05670941, ...,  0.09026065,\n",
            "          -0.09393513,  0.04972251],\n",
            "         ...,\n",
            "         [-0.01358364, -0.08975866,  0.07483451, ...,  0.09057062,\n",
            "           0.07878035, -0.04460103],\n",
            "         [ 0.05703054,  0.062495  , -0.0255839 , ..., -0.05906357,\n",
            "           0.10469413,  0.09979659],\n",
            "         [-0.03461363,  0.07984671, -0.0148231 , ...,  0.05481212,\n",
            "          -0.09542237,  0.06890094]],\n",
            "\n",
            "        [[-0.02197631,  0.07263366, -0.09527335, ...,  0.00760947,\n",
            "           0.02265967,  0.02701904],\n",
            "         [ 0.01131044, -0.00514834,  0.0210991 , ..., -0.08780173,\n",
            "          -0.08969717, -0.10069849],\n",
            "         [-0.07000689,  0.10645045, -0.03823703, ...,  0.03470058,\n",
            "          -0.03658924, -0.01973511],\n",
            "         ...,\n",
            "         [-0.07784058,  0.08272069,  0.03251922, ...,  0.03035442,\n",
            "          -0.07056945, -0.04208604],\n",
            "         [ 0.07395773, -0.04148202, -0.07806168, ...,  0.07646994,\n",
            "          -0.06268008,  0.04371751],\n",
            "         [-0.09193536, -0.06185381,  0.01816855, ...,  0.001467  ,\n",
            "           0.05353541, -0.05920494]]],\n",
            "\n",
            "\n",
            "       [[[-0.10125779,  0.00146509, -0.06738754, ...,  0.00270445,\n",
            "           0.00982794, -0.02734345],\n",
            "         [-0.01973714, -0.00397385, -0.04617023, ...,  0.0419747 ,\n",
            "           0.04332653,  0.01572816],\n",
            "         [ 0.04324018,  0.00999552,  0.00264534, ...,  0.09719554,\n",
            "          -0.04742616,  0.04427743],\n",
            "         ...,\n",
            "         [-0.09161493, -0.03135412, -0.05037001, ...,  0.04104331,\n",
            "          -0.08156133, -0.00892509],\n",
            "         [ 0.0672712 ,  0.08726168, -0.04277437, ...,  0.03537451,\n",
            "          -0.01778498,  0.09728654],\n",
            "         [-0.00764563,  0.05059979, -0.0286384 , ..., -0.08085773,\n",
            "          -0.02284313, -0.08881276]],\n",
            "\n",
            "        [[ 0.05165772,  0.05756479, -0.07798737, ...,  0.05060878,\n",
            "          -0.00750324,  0.03182875],\n",
            "         [-0.0638753 , -0.08757038,  0.08387718, ..., -0.01588167,\n",
            "          -0.01027409,  0.01155427],\n",
            "         [-0.08598592, -0.0135953 , -0.07092471, ..., -0.05779569,\n",
            "           0.00222287, -0.06326945],\n",
            "         ...,\n",
            "         [-0.03008661,  0.05806454,  0.05510925, ...,  0.05717065,\n",
            "          -0.09614852,  0.0041595 ],\n",
            "         [-0.02125964, -0.04939679, -0.09569369, ..., -0.01477848,\n",
            "          -0.06375299,  0.03460296],\n",
            "         [-0.06233551, -0.07902242,  0.08307195, ..., -0.00379947,\n",
            "           0.08754893, -0.06554729]],\n",
            "\n",
            "        [[-0.0704414 ,  0.04180359, -0.03731222, ..., -0.06956863,\n",
            "          -0.09326813,  0.05502869],\n",
            "         [-0.05312349,  0.0835943 ,  0.09712107, ...,  0.04545816,\n",
            "           0.04729255, -0.0581767 ],\n",
            "         [ 0.06224095,  0.04608716, -0.06315808, ..., -0.01390276,\n",
            "           0.06155054, -0.02360822],\n",
            "         ...,\n",
            "         [ 0.04620855, -0.04874093, -0.08221998, ..., -0.01590608,\n",
            "          -0.01895583,  0.03146477],\n",
            "         [-0.02961707, -0.02593019,  0.08618301, ...,  0.00700609,\n",
            "           0.02296359, -0.0531562 ],\n",
            "         [-0.02131995,  0.03624832, -0.09387996, ...,  0.08069347,\n",
            "          -0.00479153,  0.06676576]]]], dtype=float32)>\n",
            "<tf.Variable 'conv2d_18/bias:0' shape=(32,) dtype=float32, numpy=\n",
            "array([ 0.00224184, -0.00252052,  0.00017131, -0.00192863,  0.00070447,\n",
            "        0.00034205, -0.00101095, -0.00064441, -0.00426957, -0.00369448,\n",
            "       -0.00160573, -0.00172884, -0.00017856, -0.0004744 ,  0.00399196,\n",
            "        0.00092856, -0.00015803, -0.00285973, -0.00357843, -0.00160319,\n",
            "       -0.00344044, -0.00046415, -0.00250364, -0.00333229,  0.00125166,\n",
            "       -0.00019771, -0.00194406, -0.00118844, -0.00239521, -0.00578128,\n",
            "        0.00210591, -0.00331535], dtype=float32)>\n",
            "<tf.Variable 'conv2d_19/kernel:0' shape=(3, 3, 32, 32) dtype=float32, numpy=\n",
            "array([[[[ 0.10243995,  0.08838367,  0.09839617, ...,  0.0170675 ,\n",
            "          -0.06073103,  0.0050542 ],\n",
            "         [-0.00677326,  0.05579506,  0.01700895, ...,  0.03723273,\n",
            "           0.02447969,  0.04199957],\n",
            "         [-0.09865341, -0.01799036,  0.06650487, ...,  0.01371873,\n",
            "          -0.05293799,  0.03389115],\n",
            "         ...,\n",
            "         [ 0.01161195,  0.06839331, -0.10085794, ..., -0.02335758,\n",
            "          -0.06650271, -0.04021383],\n",
            "         [-0.07795952,  0.04924341, -0.05340824, ...,  0.0225339 ,\n",
            "          -0.05963186, -0.08609107],\n",
            "         [ 0.08875433, -0.03387575, -0.07200162, ..., -0.04956532,\n",
            "          -0.03038924, -0.08610574]],\n",
            "\n",
            "        [[-0.06582318,  0.06006541,  0.0894596 , ..., -0.03483469,\n",
            "          -0.098219  ,  0.07946375],\n",
            "         [-0.04703433,  0.05443915,  0.09693453, ...,  0.06233526,\n",
            "           0.01513767, -0.08014972],\n",
            "         [-0.04876829,  0.0344879 ,  0.01994989, ..., -0.00464825,\n",
            "          -0.030645  ,  0.06490948],\n",
            "         ...,\n",
            "         [-0.01083332, -0.00276666, -0.06089579, ...,  0.10154884,\n",
            "           0.01415285,  0.01625908],\n",
            "         [ 0.09310246, -0.05648691, -0.0504164 , ..., -0.04990894,\n",
            "           0.04937629,  0.01331105],\n",
            "         [-0.00645917, -0.01588717, -0.08216466, ...,  0.0273443 ,\n",
            "           0.05993656, -0.08536659]],\n",
            "\n",
            "        [[ 0.0689664 , -0.07021397,  0.00442803, ..., -0.06297483,\n",
            "           0.02179918,  0.00173965],\n",
            "         [ 0.00358316, -0.001847  ,  0.01699113, ..., -0.02019435,\n",
            "          -0.02506209,  0.07027014],\n",
            "         [ 0.02413123, -0.03764432,  0.02132384, ...,  0.0345933 ,\n",
            "           0.01176338, -0.06042415],\n",
            "         ...,\n",
            "         [ 0.00763743,  0.10174497,  0.02611873, ..., -0.04801803,\n",
            "          -0.08163424,  0.00818818],\n",
            "         [ 0.02976617,  0.0700274 ,  0.08796655, ...,  0.01900672,\n",
            "           0.05927383,  0.04090238],\n",
            "         [ 0.04738495,  0.10025082,  0.0479611 , ..., -0.0693291 ,\n",
            "          -0.01895153, -0.02729661]]],\n",
            "\n",
            "\n",
            "       [[[ 0.01503475, -0.09702239, -0.02879003, ...,  0.082564  ,\n",
            "          -0.08888985, -0.07929344],\n",
            "         [ 0.07985507, -0.05356615,  0.04158545, ..., -0.05884691,\n",
            "           0.06349052,  0.10064343],\n",
            "         [ 0.07264472,  0.09592233, -0.04179069, ..., -0.00044104,\n",
            "           0.04914417,  0.00681992],\n",
            "         ...,\n",
            "         [ 0.05797014, -0.03350208,  0.06461882, ...,  0.05399923,\n",
            "           0.03308105,  0.00989964],\n",
            "         [-0.09506534,  0.06743844, -0.07412309, ..., -0.0672437 ,\n",
            "           0.04102154, -0.0748448 ],\n",
            "         [-0.02549874, -0.0236619 , -0.08020322, ..., -0.09241062,\n",
            "          -0.09049696,  0.03195222]],\n",
            "\n",
            "        [[-0.00896369,  0.01915418, -0.00108252, ...,  0.05810938,\n",
            "           0.09461153,  0.10005078],\n",
            "         [-0.05576424, -0.01069484,  0.07779215, ..., -0.00540864,\n",
            "           0.00446747,  0.04132292],\n",
            "         [-0.03414825, -0.03667775, -0.01106908, ...,  0.03295662,\n",
            "           0.03330549,  0.04771633],\n",
            "         ...,\n",
            "         [-0.00330985,  0.09745289,  0.05645475, ...,  0.05478257,\n",
            "          -0.03849716,  0.00992279],\n",
            "         [-0.01258917,  0.08250742,  0.04545481, ..., -0.054357  ,\n",
            "          -0.04145497, -0.07866685],\n",
            "         [ 0.09503461, -0.05186722, -0.0577912 , ..., -0.04998479,\n",
            "           0.06427209, -0.03460578]],\n",
            "\n",
            "        [[-0.04571133,  0.09630141,  0.05210701, ..., -0.08229537,\n",
            "          -0.07403353,  0.06054758],\n",
            "         [-0.03263749,  0.07569399,  0.0826034 , ..., -0.00967861,\n",
            "           0.04586699,  0.07393248],\n",
            "         [ 0.08345082,  0.09556264, -0.01581228, ...,  0.04164352,\n",
            "          -0.0107963 ,  0.08629543],\n",
            "         ...,\n",
            "         [ 0.03286795,  0.07537632, -0.0470303 , ...,  0.05648309,\n",
            "           0.05694782, -0.01041189],\n",
            "         [ 0.06851286, -0.09495153,  0.09171639, ..., -0.03378505,\n",
            "           0.00714086,  0.02139021],\n",
            "         [ 0.04258539,  0.10109767,  0.09280025, ..., -0.09795559,\n",
            "           0.04760214, -0.04953513]]],\n",
            "\n",
            "\n",
            "       [[[-0.08639828, -0.02236143,  0.09561933, ...,  0.00819558,\n",
            "          -0.0248524 , -0.09549202],\n",
            "         [-0.03850804,  0.05899318, -0.09431646, ...,  0.04743307,\n",
            "           0.01667922,  0.04230519],\n",
            "         [ 0.07481333, -0.02182754, -0.00820259, ..., -0.06102739,\n",
            "          -0.08171351, -0.00876131],\n",
            "         ...,\n",
            "         [ 0.07941243,  0.06967244,  0.01893257, ...,  0.03234198,\n",
            "          -0.04173002, -0.07609331],\n",
            "         [-0.03935521,  0.00045868, -0.02321352, ..., -0.01740811,\n",
            "           0.09674957,  0.00854313],\n",
            "         [ 0.03141445, -0.07432334, -0.00282055, ...,  0.03467054,\n",
            "          -0.05442901, -0.0588112 ]],\n",
            "\n",
            "        [[-0.04432819, -0.06993243,  0.07790273, ..., -0.02070367,\n",
            "          -0.06579327,  0.04748041],\n",
            "         [ 0.05272271,  0.00573858, -0.07205095, ...,  0.0421828 ,\n",
            "          -0.0465899 ,  0.0208133 ],\n",
            "         [ 0.02938408,  0.0144766 , -0.01166956, ..., -0.03227216,\n",
            "           0.018114  ,  0.01797819],\n",
            "         ...,\n",
            "         [ 0.04631498, -0.03396772,  0.09108239, ..., -0.0461758 ,\n",
            "           0.07489815, -0.00094371],\n",
            "         [-0.04286189,  0.09070264,  0.02131356, ..., -0.05582225,\n",
            "           0.04282989,  0.06340837],\n",
            "         [ 0.06367499,  0.09610618, -0.08784696, ...,  0.06665049,\n",
            "           0.03870696,  0.03273376]],\n",
            "\n",
            "        [[-0.09452524, -0.04570433,  0.00341361, ...,  0.06477756,\n",
            "           0.05781771,  0.04312928],\n",
            "         [ 0.05973786, -0.08642687, -0.08748739, ..., -0.05072759,\n",
            "           0.06117125, -0.06925984],\n",
            "         [ 0.07293127,  0.08405384, -0.0726094 , ..., -0.00441204,\n",
            "          -0.08840663, -0.01744939],\n",
            "         ...,\n",
            "         [ 0.05652703,  0.05016589,  0.07760771, ..., -0.02130519,\n",
            "          -0.0183965 ,  0.04229056],\n",
            "         [-0.06275446, -0.02222995,  0.05782596, ..., -0.08490996,\n",
            "          -0.0525558 , -0.01768226],\n",
            "         [ 0.02591852, -0.02388024, -0.00741159, ..., -0.07977913,\n",
            "           0.09355135, -0.07351197]]]], dtype=float32)>\n",
            "<tf.Variable 'conv2d_19/bias:0' shape=(32,) dtype=float32, numpy=\n",
            "array([-3.1096614e-03, -2.7066719e-04,  1.2084922e-03, -3.4107680e-03,\n",
            "       -9.0739276e-04,  8.0276441e-05,  4.2996719e-04,  3.4660720e-03,\n",
            "       -1.8059536e-03, -2.5759802e-05, -3.7614058e-03, -1.6405129e-04,\n",
            "       -1.9481597e-05, -2.1587040e-03, -3.6094703e-03, -2.7898762e-03,\n",
            "       -3.4119494e-03, -3.7665716e-03, -8.1644091e-04, -4.1695093e-03,\n",
            "       -2.9801794e-03, -6.6800870e-04, -3.7145116e-03,  3.7380687e-03,\n",
            "        3.9266446e-03, -2.2935017e-03, -9.8621415e-04, -1.7017345e-03,\n",
            "       -3.5605056e-03, -2.0674379e-03, -5.0899759e-03, -3.2759134e-03],\n",
            "      dtype=float32)>\n",
            "<tf.Variable 'conv2d_20/kernel:0' shape=(3, 3, 32, 32) dtype=float32, numpy=\n",
            "array([[[[-0.09398884,  0.06844698,  0.02090294, ..., -0.04211893,\n",
            "           0.09522987,  0.02161345],\n",
            "         [-0.01750299,  0.06564572, -0.0020215 , ...,  0.01207088,\n",
            "           0.00606999, -0.10022469],\n",
            "         [ 0.09367879, -0.08630116,  0.02842807, ..., -0.02555846,\n",
            "          -0.07665988, -0.04934894],\n",
            "         ...,\n",
            "         [-0.05245689, -0.10187498, -0.03219558, ..., -0.0900166 ,\n",
            "           0.07325257, -0.08413582],\n",
            "         [ 0.08589955, -0.05902976, -0.09852612, ...,  0.09726337,\n",
            "          -0.07173681, -0.01724643],\n",
            "         [-0.05784119,  0.01812551, -0.07868307, ...,  0.05048539,\n",
            "           0.05949083, -0.05449386]],\n",
            "\n",
            "        [[ 0.00618858, -0.08918957,  0.00562835, ..., -0.05545048,\n",
            "           0.05422402, -0.06915503],\n",
            "         [-0.01548054,  0.04212693, -0.09697669, ..., -0.03504798,\n",
            "           0.06406201,  0.04891007],\n",
            "         [-0.0955942 , -0.04858737, -0.0103957 , ...,  0.05695213,\n",
            "          -0.00479304, -0.03742978],\n",
            "         ...,\n",
            "         [-0.00210754,  0.00885274,  0.08720604, ...,  0.07807761,\n",
            "          -0.0667905 ,  0.02551493],\n",
            "         [ 0.00188073,  0.03726612, -0.06471577, ..., -0.01657788,\n",
            "           0.09692834,  0.00724768],\n",
            "         [ 0.0142998 ,  0.00039607, -0.03363882, ..., -0.02006876,\n",
            "           0.08416453,  0.0197977 ]],\n",
            "\n",
            "        [[-0.08427859,  0.07554147, -0.07146544, ..., -0.04091137,\n",
            "          -0.01187256,  0.07767174],\n",
            "         [-0.07124031,  0.02719799, -0.02832102, ..., -0.02159148,\n",
            "          -0.02915561,  0.0840623 ],\n",
            "         [-0.0554735 ,  0.06426327,  0.04864297, ...,  0.09177627,\n",
            "          -0.07669785,  0.00172812],\n",
            "         ...,\n",
            "         [ 0.10142739,  0.04661214,  0.02637266, ..., -0.07644101,\n",
            "          -0.07839961,  0.01676634],\n",
            "         [ 0.05617114, -0.05215003,  0.04474962, ...,  0.04953959,\n",
            "          -0.05543859, -0.03866771],\n",
            "         [ 0.02230695,  0.08572166,  0.04018406, ..., -0.06058909,\n",
            "          -0.05987103, -0.04942941]]],\n",
            "\n",
            "\n",
            "       [[[ 0.07690046,  0.08805861, -0.0443355 , ..., -0.0136266 ,\n",
            "          -0.07957315,  0.08116344],\n",
            "         [ 0.09194549,  0.02627277,  0.10255755, ...,  0.02340709,\n",
            "          -0.04436446,  0.06079049],\n",
            "         [-0.01842591,  0.0168816 ,  0.0665931 , ..., -0.05583995,\n",
            "          -0.07383823,  0.04901292],\n",
            "         ...,\n",
            "         [ 0.01622243, -0.07283265,  0.08540135, ...,  0.07588132,\n",
            "           0.00501627,  0.06855086],\n",
            "         [-0.05090464,  0.10484247,  0.04385287, ...,  0.01427723,\n",
            "           0.07140235,  0.08777355],\n",
            "         [ 0.08159329, -0.10244895, -0.06915078, ..., -0.07271257,\n",
            "           0.06030785,  0.01103126]],\n",
            "\n",
            "        [[ 0.08604836,  0.06820545,  0.03767738, ..., -0.0857522 ,\n",
            "          -0.02013767,  0.06887632],\n",
            "         [ 0.07642525,  0.08248094, -0.06743315, ...,  0.06681672,\n",
            "           0.01814386,  0.01183557],\n",
            "         [-0.0454263 ,  0.08364164, -0.03971698, ...,  0.0287173 ,\n",
            "           0.01398829, -0.02361962],\n",
            "         ...,\n",
            "         [ 0.09975193,  0.10272484, -0.06883355, ..., -0.01276586,\n",
            "           0.04829434, -0.04575606],\n",
            "         [-0.08479275,  0.10193615, -0.07461721, ...,  0.03810267,\n",
            "           0.04529143, -0.0923809 ],\n",
            "         [ 0.02032491,  0.04591497,  0.00098613, ...,  0.08965879,\n",
            "          -0.08403503,  0.00544547]],\n",
            "\n",
            "        [[ 0.07809177,  0.04568622,  0.04445543, ...,  0.01654895,\n",
            "          -0.02849163,  0.05068269],\n",
            "         [-0.08772903, -0.00792439,  0.0886349 , ...,  0.04105913,\n",
            "          -0.05741413,  0.0592568 ],\n",
            "         [ 0.05256248, -0.01424725, -0.05485426, ..., -0.05949568,\n",
            "          -0.05239347, -0.0809743 ],\n",
            "         ...,\n",
            "         [ 0.00700556,  0.04205773,  0.0215027 , ..., -0.0853393 ,\n",
            "           0.00182032, -0.02930913],\n",
            "         [-0.06133485, -0.02797529, -0.02729684, ...,  0.06292306,\n",
            "          -0.07867564, -0.06160747],\n",
            "         [ 0.09462931,  0.01028265, -0.00565144, ...,  0.08014196,\n",
            "           0.09768097,  0.01571583]]],\n",
            "\n",
            "\n",
            "       [[[ 0.09978822, -0.00812301,  0.00665194, ..., -0.01430783,\n",
            "           0.05570997, -0.01928251],\n",
            "         [ 0.08264815,  0.08137669,  0.08036057, ...,  0.05839553,\n",
            "          -0.08338545,  0.01880941],\n",
            "         [-0.09122234,  0.01897082,  0.06441533, ...,  0.00551072,\n",
            "          -0.07437009, -0.0642764 ],\n",
            "         ...,\n",
            "         [-0.04061802,  0.03502744, -0.03424389, ...,  0.08543156,\n",
            "          -0.05819521, -0.06327974],\n",
            "         [-0.04249954,  0.09689491, -0.08909649, ..., -0.03843094,\n",
            "           0.04967884,  0.06429138],\n",
            "         [ 0.00114734,  0.09341492,  0.00707673, ..., -0.07744635,\n",
            "           0.09700872,  0.0320727 ]],\n",
            "\n",
            "        [[ 0.08116834,  0.07191794,  0.0109812 , ..., -0.02005598,\n",
            "          -0.092345  , -0.00301748],\n",
            "         [ 0.09924546, -0.0856275 , -0.0208243 , ..., -0.0502673 ,\n",
            "           0.08486804, -0.10587294],\n",
            "         [ 0.06171227, -0.00057818, -0.01148774, ..., -0.01176395,\n",
            "           0.01521409, -0.0221654 ],\n",
            "         ...,\n",
            "         [-0.06696971, -0.02140972,  0.10212488, ..., -0.06222474,\n",
            "           0.09867425,  0.04930547],\n",
            "         [ 0.06567792, -0.09531032,  0.03218552, ..., -0.07837758,\n",
            "          -0.05534514, -0.06027979],\n",
            "         [-0.06875504, -0.01468308, -0.00383573, ...,  0.04858833,\n",
            "           0.09292559,  0.06795864]],\n",
            "\n",
            "        [[-0.05822953, -0.0776545 , -0.09123284, ...,  0.08032819,\n",
            "          -0.09747317,  0.08498634],\n",
            "         [ 0.00929056, -0.0931977 , -0.0460437 , ..., -0.06950064,\n",
            "           0.00247726, -0.06564178],\n",
            "         [ 0.09139773,  0.07183751,  0.10093921, ...,  0.04467822,\n",
            "          -0.02623777, -0.01825328],\n",
            "         ...,\n",
            "         [-0.02904884,  0.07361099,  0.01664425, ..., -0.02455392,\n",
            "           0.07298421, -0.04481624],\n",
            "         [-0.02944055, -0.03025209,  0.06890386, ..., -0.09507494,\n",
            "           0.06738937, -0.0671156 ],\n",
            "         [-0.09376992,  0.07588191,  0.04306599, ..., -0.07952556,\n",
            "           0.07536924,  0.06426986]]]], dtype=float32)>\n",
            "<tf.Variable 'conv2d_20/bias:0' shape=(32,) dtype=float32, numpy=\n",
            "array([-1.2308854e-03, -4.7237161e-03,  1.8140941e-03, -1.3419460e-03,\n",
            "       -2.6924128e-03, -4.0096147e-03,  2.8186495e-04, -3.1958797e-03,\n",
            "       -2.5939944e-03, -4.1357251e-03,  1.3249040e-03, -2.9619508e-03,\n",
            "       -4.6774228e-03,  1.0737842e-03, -1.7726845e-04,  1.9163182e-03,\n",
            "       -6.6013332e-03, -7.6333713e-04,  2.8728514e-03, -4.6162321e-03,\n",
            "       -1.0807684e-05, -4.9306070e-03, -1.2362882e-03,  2.1682584e-03,\n",
            "       -2.8396307e-03,  2.0457315e-03,  1.4843773e-03, -2.7535975e-04,\n",
            "        7.6581049e-04,  2.0460029e-04, -3.7337542e-03, -6.8474272e-03],\n",
            "      dtype=float32)>\n",
            "<tf.Variable 'conv2d_21/kernel:0' shape=(3, 3, 32, 32) dtype=float32, numpy=\n",
            "array([[[[ 0.07883997,  0.09473282,  0.04983597, ..., -0.04135943,\n",
            "          -0.0074672 , -0.02143195],\n",
            "         [-0.09804522, -0.08909909, -0.07029977, ..., -0.03155735,\n",
            "           0.04970233, -0.06248015],\n",
            "         [ 0.03251577, -0.04120096, -0.06049683, ...,  0.04390318,\n",
            "           0.07439892,  0.03229588],\n",
            "         ...,\n",
            "         [ 0.03241995,  0.05260506,  0.02688362, ...,  0.06125555,\n",
            "           0.04825638,  0.0379095 ],\n",
            "         [-0.07915043,  0.03133841, -0.06244585, ..., -0.04103139,\n",
            "          -0.06734578, -0.08356199],\n",
            "         [-0.07525004,  0.07255244,  0.0379292 , ...,  0.08580371,\n",
            "           0.08205102,  0.03635641]],\n",
            "\n",
            "        [[-0.00432311, -0.03475869, -0.072109  , ..., -0.05533203,\n",
            "           0.0830814 , -0.03099253],\n",
            "         [ 0.08898426, -0.04955129,  0.04858144, ...,  0.03037968,\n",
            "          -0.09067613, -0.04606951],\n",
            "         [ 0.04263445, -0.0092879 ,  0.03635001, ...,  0.0114037 ,\n",
            "          -0.01435124, -0.08971323],\n",
            "         ...,\n",
            "         [ 0.07513803,  0.04713244, -0.04085848, ..., -0.0611523 ,\n",
            "          -0.04950196, -0.01821004],\n",
            "         [-0.02641008, -0.01914071,  0.001739  , ..., -0.08054893,\n",
            "           0.0853899 ,  0.00432716],\n",
            "         [-0.05233108, -0.07680692,  0.04115296, ...,  0.0293774 ,\n",
            "          -0.0632508 , -0.00270722]],\n",
            "\n",
            "        [[ 0.02029069,  0.04908318, -0.05994382, ..., -0.07166189,\n",
            "           0.00271829,  0.03455037],\n",
            "         [-0.06201904,  0.05551057,  0.00725503, ..., -0.07687915,\n",
            "           0.00198884,  0.04599046],\n",
            "         [ 0.03243234,  0.09492952, -0.0978025 , ..., -0.08114393,\n",
            "           0.07335185,  0.08474198],\n",
            "         ...,\n",
            "         [-0.06073886,  0.00709177,  0.0685444 , ...,  0.00238541,\n",
            "           0.0435212 , -0.07418731],\n",
            "         [-0.00847875, -0.00626287,  0.05175367, ..., -0.09574206,\n",
            "           0.04553903, -0.08044995],\n",
            "         [-0.02498993,  0.08338127,  0.09230861, ..., -0.00124597,\n",
            "          -0.04197464,  0.06099944]]],\n",
            "\n",
            "\n",
            "       [[[-0.10467749, -0.01571362,  0.04461711, ..., -0.0217395 ,\n",
            "          -0.076156  , -0.05912014],\n",
            "         [ 0.0807981 ,  0.091417  ,  0.01873676, ..., -0.02397443,\n",
            "          -0.08205887, -0.10094209],\n",
            "         [-0.01347596,  0.07119732,  0.09892193, ...,  0.06053223,\n",
            "          -0.07747205, -0.06278563],\n",
            "         ...,\n",
            "         [-0.09215723, -0.08735074,  0.00159323, ..., -0.03407434,\n",
            "           0.04400363,  0.09612582],\n",
            "         [ 0.054923  ,  0.07492656,  0.08584403, ..., -0.08776449,\n",
            "           0.03020063, -0.0824747 ],\n",
            "         [-0.03769797,  0.04347569, -0.05416872, ..., -0.0408914 ,\n",
            "           0.06344286, -0.05184131]],\n",
            "\n",
            "        [[-0.06587616,  0.06247392,  0.06315969, ...,  0.02570352,\n",
            "           0.03204232,  0.02471059],\n",
            "         [-0.04249094,  0.03622506, -0.01778699, ..., -0.01935235,\n",
            "           0.00708717, -0.01402053],\n",
            "         [-0.01894587,  0.08663392,  0.0517818 , ...,  0.08096217,\n",
            "          -0.01957426, -0.02817574],\n",
            "         ...,\n",
            "         [ 0.02631315, -0.02721016, -0.02632897, ...,  0.09009137,\n",
            "           0.01216907, -0.10156316],\n",
            "         [-0.01575548, -0.0326014 , -0.05193828, ...,  0.06658439,\n",
            "           0.03956724, -0.08008646],\n",
            "         [-0.01253269, -0.05783312,  0.09808662, ..., -0.03515289,\n",
            "           0.00458428, -0.09024402]],\n",
            "\n",
            "        [[-0.09879091, -0.09541675, -0.09089591, ...,  0.0702245 ,\n",
            "          -0.01473814, -0.04591656],\n",
            "         [ 0.01325736, -0.06359988, -0.00481746, ..., -0.03753846,\n",
            "          -0.09048305, -0.00150173],\n",
            "         [ 0.03452983,  0.01962696,  0.09810819, ...,  0.03407649,\n",
            "          -0.06646401,  0.09914789],\n",
            "         ...,\n",
            "         [ 0.04157301, -0.10255963, -0.02860481, ..., -0.10045666,\n",
            "          -0.06437172, -0.06585404],\n",
            "         [-0.09984037,  0.04233452,  0.05535537, ...,  0.0913194 ,\n",
            "          -0.06170335, -0.09209811],\n",
            "         [-0.01642574,  0.03599761,  0.04486251, ..., -0.04740709,\n",
            "           0.05337002,  0.09090392]]],\n",
            "\n",
            "\n",
            "       [[[-0.05942265, -0.03603892, -0.01528184, ...,  0.00816239,\n",
            "          -0.04395347, -0.01057109],\n",
            "         [-0.09960172, -0.06636513, -0.05275713, ...,  0.05869498,\n",
            "           0.00578115,  0.09613996],\n",
            "         [-0.05879151,  0.01808847, -0.03224978, ...,  0.04267717,\n",
            "           0.05918332,  0.01536131],\n",
            "         ...,\n",
            "         [ 0.01429315, -0.0571365 , -0.00394145, ..., -0.04708006,\n",
            "           0.08039961, -0.03025537],\n",
            "         [ 0.07847325, -0.06676484,  0.0486527 , ...,  0.04715718,\n",
            "           0.084829  ,  0.08050293],\n",
            "         [-0.03400619,  0.02463172,  0.05298572, ...,  0.00859095,\n",
            "          -0.02049894, -0.08462583]],\n",
            "\n",
            "        [[ 0.09143576,  0.04117905, -0.07142619, ..., -0.09949151,\n",
            "          -0.01243891,  0.09118015],\n",
            "         [-0.00523906, -0.09076534,  0.06096962, ...,  0.03924799,\n",
            "          -0.0414743 ,  0.00353643],\n",
            "         [ 0.09476463,  0.08320429,  0.02699862, ..., -0.05717376,\n",
            "          -0.02437737,  0.04199816],\n",
            "         ...,\n",
            "         [ 0.02369378, -0.0617559 ,  0.06895704, ..., -0.10118221,\n",
            "           0.06316132,  0.03185346],\n",
            "         [ 0.04696253,  0.03178815,  0.08396988, ..., -0.01067043,\n",
            "          -0.06281111,  0.03395106],\n",
            "         [-0.02849257, -0.00237999,  0.09299116, ...,  0.04468872,\n",
            "           0.00561748, -0.00362294]],\n",
            "\n",
            "        [[ 0.0530899 ,  0.06795079, -0.10322231, ...,  0.07995667,\n",
            "           0.00826593,  0.00460859],\n",
            "         [ 0.09477004, -0.00410658, -0.08658254, ..., -0.00560086,\n",
            "           0.04896616,  0.04163017],\n",
            "         [ 0.04724456, -0.08188725, -0.0907085 , ...,  0.07348729,\n",
            "           0.01443521,  0.07860415],\n",
            "         ...,\n",
            "         [ 0.03251316,  0.07227196, -0.02757981, ..., -0.01178638,\n",
            "          -0.07067433, -0.05254175],\n",
            "         [ 0.01795934, -0.08708981, -0.08514693, ...,  0.00722109,\n",
            "          -0.06008482, -0.03276771],\n",
            "         [ 0.02855238, -0.06361011,  0.00082228, ..., -0.04545467,\n",
            "          -0.07211272,  0.04920769]]]], dtype=float32)>\n",
            "<tf.Variable 'conv2d_21/bias:0' shape=(32,) dtype=float32, numpy=\n",
            "array([-1.92654249e-03, -1.34896790e-03, -9.76191089e-03, -4.36364207e-03,\n",
            "       -1.30264822e-03, -1.43526844e-03,  2.25497084e-03, -3.40029626e-04,\n",
            "       -6.93843607e-03, -2.65389378e-03, -6.44583255e-03, -3.28408647e-03,\n",
            "       -1.54410396e-03, -4.21883445e-03, -4.90936171e-03, -2.38785404e-03,\n",
            "       -9.57051292e-03, -4.80924966e-04, -4.28520981e-03, -2.74390943e-04,\n",
            "       -2.46279594e-03, -1.77935523e-03, -4.17091185e-03,  1.71118354e-05,\n",
            "       -2.92213727e-03, -7.15795672e-04, -3.76697490e-03, -4.51960415e-03,\n",
            "       -2.39445688e-03,  4.33530798e-03, -1.21310986e-04, -3.36469291e-03],\n",
            "      dtype=float32)>\n",
            "<tf.Variable 'conv2d_22/kernel:0' shape=(3, 3, 32, 64) dtype=float32, numpy=\n",
            "array([[[[-0.00513624, -0.08219177, -0.03094582, ...,  0.02990897,\n",
            "          -0.0595058 ,  0.05994169],\n",
            "         [-0.05570122,  0.0183147 ,  0.07347957, ...,  0.05571431,\n",
            "           0.07234355,  0.06257211],\n",
            "         [ 0.015841  , -0.04000166, -0.0574813 , ..., -0.00887978,\n",
            "           0.06422011,  0.03508556],\n",
            "         ...,\n",
            "         [-0.07249264, -0.04808635,  0.08290468, ..., -0.06228474,\n",
            "          -0.07958253, -0.02489939],\n",
            "         [ 0.03629165,  0.06167625,  0.00025692, ..., -0.06432036,\n",
            "          -0.07465763, -0.07078255],\n",
            "         [ 0.05208729,  0.02098412, -0.07835654, ...,  0.01104726,\n",
            "           0.0426546 , -0.07031474]],\n",
            "\n",
            "        [[ 0.05090877, -0.03156501, -0.06533257, ...,  0.04915697,\n",
            "          -0.01569283, -0.02716032],\n",
            "         [-0.02680646,  0.05426464, -0.0054434 , ..., -0.01272929,\n",
            "           0.01504299, -0.01889892],\n",
            "         [-0.01159926,  0.01526821,  0.04799873, ...,  0.02558938,\n",
            "          -0.07375886, -0.03409556],\n",
            "         ...,\n",
            "         [-0.01243167, -0.04380188, -0.0626744 , ...,  0.02292028,\n",
            "          -0.02986652, -0.0512501 ],\n",
            "         [ 0.02004431, -0.05897776,  0.04230365, ...,  0.03398534,\n",
            "           0.0324345 ,  0.0508008 ],\n",
            "         [-0.0452205 ,  0.03335822,  0.05071594, ...,  0.00579783,\n",
            "           0.00864311, -0.03292813]],\n",
            "\n",
            "        [[-0.06471317,  0.01161919, -0.03376989, ..., -0.04372252,\n",
            "           0.08370564,  0.00147828],\n",
            "         [-0.0210305 , -0.06607925,  0.0435234 , ...,  0.03441736,\n",
            "           0.00557827, -0.04202133],\n",
            "         [-0.04623916, -0.06877866, -0.06551215, ...,  0.01341539,\n",
            "          -0.01657399, -0.05081982],\n",
            "         ...,\n",
            "         [-0.03783388, -0.07441991,  0.03582626, ..., -0.00910455,\n",
            "           0.07558312, -0.04437577],\n",
            "         [-0.02357252, -0.07634193, -0.05827352, ..., -0.07826124,\n",
            "          -0.02499367,  0.07642831],\n",
            "         [-0.04448376,  0.01514211, -0.05540651, ..., -0.04503887,\n",
            "           0.0636411 , -0.0310452 ]]],\n",
            "\n",
            "\n",
            "       [[[ 0.00480734,  0.00756522,  0.00759236, ...,  0.06126123,\n",
            "          -0.00051334, -0.06937612],\n",
            "         [-0.06997465,  0.02851707,  0.02433174, ..., -0.02059561,\n",
            "           0.05895764,  0.00393858],\n",
            "         [ 0.06570824, -0.06581556,  0.04521783, ...,  0.05616177,\n",
            "          -0.05628055,  0.04961596],\n",
            "         ...,\n",
            "         [-0.07078416,  0.04644047,  0.06027278, ...,  0.03421752,\n",
            "          -0.0493342 , -0.03819418],\n",
            "         [-0.03158802, -0.07415271,  0.00921654, ..., -0.06490649,\n",
            "           0.07434101,  0.05083201],\n",
            "         [ 0.06745302,  0.05052691,  0.06790081, ...,  0.00446208,\n",
            "           0.08526323,  0.04032442]],\n",
            "\n",
            "        [[ 0.04572134,  0.02301547, -0.00789709, ..., -0.00944063,\n",
            "           0.07420386,  0.02769602],\n",
            "         [ 0.04186247,  0.00163404,  0.06258224, ...,  0.04183023,\n",
            "          -0.04672884, -0.04051382],\n",
            "         [-0.08003612, -0.06453308, -0.0635429 , ..., -0.07376665,\n",
            "           0.02393276,  0.00497526],\n",
            "         ...,\n",
            "         [-0.07949302, -0.0464004 , -0.0351096 , ...,  0.00386356,\n",
            "           0.05240273,  0.07415807],\n",
            "         [-0.01159934, -0.00243218,  0.05800758, ...,  0.06938637,\n",
            "           0.02026608,  0.04278501],\n",
            "         [-0.04647373, -0.08277168, -0.0482129 , ..., -0.0037199 ,\n",
            "          -0.03154203, -0.03826135]],\n",
            "\n",
            "        [[ 0.01276877, -0.03956086,  0.00355994, ..., -0.04465129,\n",
            "           0.00079341, -0.05850474],\n",
            "         [-0.05785549,  0.04745754, -0.04328678, ...,  0.06826955,\n",
            "          -0.03286916, -0.02877322],\n",
            "         [ 0.02753161, -0.05208529,  0.07533118, ...,  0.06951312,\n",
            "           0.00622644,  0.05809362],\n",
            "         ...,\n",
            "         [ 0.04910823, -0.06700875, -0.07747503, ..., -0.01026692,\n",
            "          -0.01769339, -0.06330419],\n",
            "         [ 0.05910775,  0.00337713,  0.00541917, ...,  0.05273112,\n",
            "          -0.03347779, -0.05766644],\n",
            "         [-0.04097595, -0.04827261, -0.04493144, ...,  0.04353774,\n",
            "           0.06893442, -0.05446232]]],\n",
            "\n",
            "\n",
            "       [[[-0.01286553, -0.02484205, -0.06068334, ...,  0.06832115,\n",
            "          -0.02308549,  0.00853971],\n",
            "         [-0.01399793,  0.05673936,  0.01749316, ...,  0.04372988,\n",
            "          -0.03181989, -0.07204124],\n",
            "         [ 0.05824371,  0.0207253 ,  0.07725474, ...,  0.03424237,\n",
            "          -0.04869046, -0.01199373],\n",
            "         ...,\n",
            "         [-0.04896858,  0.06282984, -0.0451794 , ..., -0.027911  ,\n",
            "          -0.00474649,  0.01929398],\n",
            "         [-0.04379679,  0.01337081,  0.02462164, ..., -0.02288629,\n",
            "           0.05672003,  0.05614087],\n",
            "         [ 0.03511305,  0.02347817,  0.07400096, ..., -0.08191586,\n",
            "          -0.05134369, -0.0452596 ]],\n",
            "\n",
            "        [[ 0.02701522,  0.01237604, -0.04093672, ...,  0.05759165,\n",
            "          -0.07788356,  0.08308759],\n",
            "         [ 0.03541616, -0.01633656, -0.05526754, ...,  0.04417804,\n",
            "          -0.02347472, -0.08035967],\n",
            "         [ 0.03216999, -0.0492424 ,  0.08475959, ..., -0.05182683,\n",
            "           0.01910896, -0.0658543 ],\n",
            "         ...,\n",
            "         [-0.08536647, -0.00833954,  0.03353284, ...,  0.0602423 ,\n",
            "           0.06776346, -0.03050465],\n",
            "         [-0.06790061, -0.00495365,  0.01522524, ..., -0.06877866,\n",
            "           0.07503144, -0.00442488],\n",
            "         [ 0.06009331,  0.07167902, -0.07324065, ..., -0.05215299,\n",
            "          -0.05686086, -0.05230084]],\n",
            "\n",
            "        [[-0.0005881 , -0.06670242,  0.01653293, ..., -0.00898256,\n",
            "           0.0118286 , -0.06101388],\n",
            "         [ 0.04435863, -0.01556204, -0.06445178, ..., -0.0050102 ,\n",
            "          -0.03922225,  0.01483551],\n",
            "         [-0.05988977,  0.06265892,  0.00237948, ..., -0.05931988,\n",
            "          -0.01951558, -0.01751669],\n",
            "         ...,\n",
            "         [-0.04092996,  0.0026406 ,  0.02913035, ..., -0.05136552,\n",
            "           0.07990311, -0.06862983],\n",
            "         [-0.07986616,  0.07400977, -0.01088318, ..., -0.05783761,\n",
            "          -0.0740527 , -0.05238026],\n",
            "         [-0.06175565, -0.02155964,  0.06736109, ..., -0.02665721,\n",
            "           0.07820612,  0.06936501]]]], dtype=float32)>\n",
            "<tf.Variable 'conv2d_22/bias:0' shape=(64,) dtype=float32, numpy=\n",
            "array([-2.5159970e-03, -1.6972827e-03,  3.6051284e-04,  4.0485114e-03,\n",
            "       -6.0118648e-04, -6.3554943e-03, -1.3564765e-03, -3.8735766e-04,\n",
            "       -2.4122258e-03, -1.7350812e-03, -6.7701720e-04, -1.1435186e-03,\n",
            "       -4.3323837e-04, -3.9167423e-03,  2.9273052e-03, -2.5821791e-04,\n",
            "       -1.9258376e-04,  3.7229056e-03, -4.7222716e-03,  3.0981956e-04,\n",
            "       -6.2310081e-03,  6.8558002e-04,  2.5996222e-04, -2.8241267e-03,\n",
            "       -6.0690003e-03, -5.0419307e-04,  2.4345289e-03, -3.6221393e-03,\n",
            "       -1.7592791e-03, -3.7872358e-04, -1.5428946e-03,  3.5445654e-04,\n",
            "       -4.1361936e-04,  1.5470382e-03,  1.1649183e-03, -5.8375751e-03,\n",
            "       -1.7485732e-03, -5.2538514e-03, -2.1353106e-03,  4.7080442e-03,\n",
            "       -3.1208948e-03, -1.8347130e-03, -4.9094465e-03,  1.5190996e-03,\n",
            "       -1.7956796e-03, -1.6641967e-03, -7.0741107e-03,  1.9398778e-04,\n",
            "       -2.6824290e-03,  7.1022322e-04, -2.1974269e-04,  5.8619808e-06,\n",
            "       -3.2996004e-03, -2.9219708e-03, -3.5868492e-03, -9.6989132e-04,\n",
            "       -9.9339122e-03, -4.9595716e-03, -8.3688536e-04,  9.0614770e-04,\n",
            "       -2.5686827e-03,  1.3348586e-03,  3.7516118e-03, -2.3934068e-03],\n",
            "      dtype=float32)>\n",
            "<tf.Variable 'conv2d_23/kernel:0' shape=(3, 3, 64, 64) dtype=float32, numpy=\n",
            "array([[[[ 0.00550171, -0.06530911,  0.03347099, ..., -0.05834776,\n",
            "           0.02582458, -0.06778568],\n",
            "         [-0.02868203,  0.05418876, -0.00014019, ...,  0.05457054,\n",
            "          -0.04414395, -0.04790484],\n",
            "         [-0.01407606, -0.05136995,  0.03003976, ..., -0.06176007,\n",
            "          -0.07334143,  0.01289641],\n",
            "         ...,\n",
            "         [ 0.02646643,  0.02746819,  0.0478247 , ..., -0.05215444,\n",
            "          -0.07414812,  0.03650694],\n",
            "         [ 0.03833983, -0.03435327, -0.07335344, ..., -0.02714236,\n",
            "           0.07198865,  0.00287313],\n",
            "         [ 0.05249013, -0.04231928, -0.04763095, ..., -0.02925587,\n",
            "          -0.01455624,  0.00763652]],\n",
            "\n",
            "        [[ 0.00054448,  0.01755169, -0.0105276 , ...,  0.04815302,\n",
            "           0.06315518, -0.02829886],\n",
            "         [ 0.03965843, -0.02871606,  0.01911113, ..., -0.04930036,\n",
            "           0.00454585, -0.0461156 ],\n",
            "         [-0.0351422 ,  0.05403124,  0.04158479, ..., -0.01678221,\n",
            "           0.05178062, -0.0091078 ],\n",
            "         ...,\n",
            "         [-0.06618719, -0.05126939, -0.01640727, ..., -0.0593331 ,\n",
            "           0.00130387,  0.0001455 ],\n",
            "         [-0.04425629,  0.06127496,  0.0594    , ...,  0.00838085,\n",
            "           0.05163468, -0.03255542],\n",
            "         [ 0.01383392,  0.02552558, -0.04655289, ...,  0.02974324,\n",
            "          -0.0703761 , -0.06170709]],\n",
            "\n",
            "        [[-0.02863634,  0.01802925, -0.01888538, ...,  0.02895821,\n",
            "          -0.03842499, -0.00022028],\n",
            "         [ 0.05530753, -0.01579921,  0.02263986, ..., -0.06578175,\n",
            "          -0.02259314,  0.01512623],\n",
            "         [-0.05116753,  0.00396158, -0.00939208, ...,  0.01424204,\n",
            "          -0.06628336, -0.05513674],\n",
            "         ...,\n",
            "         [ 0.01965882, -0.02198992,  0.04992617, ..., -0.05909784,\n",
            "           0.02262323,  0.02800083],\n",
            "         [ 0.03998144, -0.0566785 ,  0.05478235, ..., -0.05317857,\n",
            "          -0.00871786,  0.03968041],\n",
            "         [ 0.02024407,  0.06507681,  0.02886245, ...,  0.03875207,\n",
            "          -0.03684684, -0.00585293]]],\n",
            "\n",
            "\n",
            "       [[[-0.0345261 , -0.00955508,  0.06722505, ..., -0.06940367,\n",
            "           0.05773229,  0.05554699],\n",
            "         [-0.06641507, -0.01047028,  0.06503603, ...,  0.02936126,\n",
            "          -0.04026535, -0.00537135],\n",
            "         [-0.05398628,  0.02656873,  0.05516701, ...,  0.00840133,\n",
            "           0.04825361, -0.06694694],\n",
            "         ...,\n",
            "         [ 0.03441158,  0.01882539, -0.05563472, ...,  0.04317325,\n",
            "          -0.04327801, -0.00541307],\n",
            "         [-0.03627963,  0.06475155,  0.03574215, ...,  0.05620116,\n",
            "           0.06821469,  0.05927371],\n",
            "         [ 0.03027707,  0.05949177, -0.02937867, ..., -0.01985019,\n",
            "          -0.05286372, -0.06568555]],\n",
            "\n",
            "        [[-0.06715631,  0.00312662, -0.0583991 , ...,  0.00326504,\n",
            "           0.04106456, -0.04312618],\n",
            "         [-0.0030129 ,  0.01870337, -0.0354087 , ...,  0.01519254,\n",
            "           0.03005576, -0.05558948],\n",
            "         [-0.05656033, -0.01780615, -0.039946  , ...,  0.05540656,\n",
            "           0.04558445, -0.01272756],\n",
            "         ...,\n",
            "         [ 0.0007379 ,  0.02886588, -0.0077904 , ...,  0.03840136,\n",
            "          -0.00273265, -0.01611358],\n",
            "         [-0.04622531, -0.03697753,  0.04877968, ..., -0.01524098,\n",
            "           0.00223587, -0.04797134],\n",
            "         [-0.01789229, -0.00645985, -0.06478664, ..., -0.05300227,\n",
            "           0.00818007, -0.06635202]],\n",
            "\n",
            "        [[ 0.06391284, -0.00671754,  0.04426306, ..., -0.03342237,\n",
            "          -0.0458155 ,  0.00258238],\n",
            "         [-0.00781242,  0.016146  ,  0.03118233, ..., -0.00832847,\n",
            "          -0.00763415, -0.04082754],\n",
            "         [-0.01230607, -0.06385615, -0.05862075, ...,  0.02182985,\n",
            "           0.00573482, -0.04412322],\n",
            "         ...,\n",
            "         [ 0.07163353,  0.01420297,  0.05227184, ..., -0.00041885,\n",
            "          -0.06910724,  0.04337607],\n",
            "         [-0.01921777, -0.03656459, -0.04919435, ..., -0.00588396,\n",
            "           0.03625796,  0.01560322],\n",
            "         [ 0.05342123, -0.05485094, -0.01895102, ...,  0.00964183,\n",
            "           0.00518742, -0.05106064]]],\n",
            "\n",
            "\n",
            "       [[[-0.01507811,  0.01233866, -0.03988765, ...,  0.07370947,\n",
            "          -0.02767775,  0.03451445],\n",
            "         [ 0.07207548, -0.06894755, -0.05031477, ..., -0.07126611,\n",
            "          -0.0372807 ,  0.02301065],\n",
            "         [-0.02548464, -0.05484805, -0.06049677, ..., -0.04420869,\n",
            "           0.0275592 ,  0.05985765],\n",
            "         ...,\n",
            "         [ 0.01297431,  0.00338147,  0.07017285, ...,  0.0655991 ,\n",
            "          -0.02202402, -0.00910861],\n",
            "         [-0.0413612 , -0.03724952,  0.06008527, ...,  0.03177369,\n",
            "           0.03205639,  0.02395284],\n",
            "         [ 0.00416424, -0.02068565,  0.03888816, ..., -0.04035276,\n",
            "           0.0038328 , -0.07090283]],\n",
            "\n",
            "        [[ 0.00188263,  0.03046151, -0.00321566, ...,  0.00930349,\n",
            "           0.01922989, -0.06683136],\n",
            "         [ 0.03956954,  0.01508922,  0.04038162, ..., -0.02251217,\n",
            "          -0.04170937, -0.0430538 ],\n",
            "         [-0.04895947, -0.02205254, -0.06134017, ..., -0.02347531,\n",
            "          -0.0293107 , -0.05156186],\n",
            "         ...,\n",
            "         [-0.04961281,  0.00746821,  0.05029515, ...,  0.03977796,\n",
            "           0.05306702,  0.06322149],\n",
            "         [-0.00018119, -0.04713314, -0.02900008, ..., -0.04555777,\n",
            "           0.01223682,  0.02196436],\n",
            "         [-0.02204516,  0.05468984,  0.06349953, ...,  0.05357624,\n",
            "          -0.0651929 ,  0.06981088]],\n",
            "\n",
            "        [[-0.01164885, -0.04436874, -0.02571693, ...,  0.02798575,\n",
            "           0.03827209, -0.01077055],\n",
            "         [-0.01422814,  0.00023864,  0.04840736, ..., -0.06950043,\n",
            "           0.03023259,  0.0478531 ],\n",
            "         [-0.01418592,  0.02896817, -0.04132897, ..., -0.04936129,\n",
            "          -0.05394192,  0.01116168],\n",
            "         ...,\n",
            "         [-0.04962031, -0.02787183,  0.0390208 , ...,  0.03888467,\n",
            "           0.04612802, -0.00024926],\n",
            "         [ 0.02242661,  0.02612567, -0.04139288, ..., -0.04963014,\n",
            "           0.0551584 , -0.05552504],\n",
            "         [ 0.01654505,  0.03919505, -0.0413086 , ..., -0.00514888,\n",
            "          -0.03684151,  0.0128356 ]]]], dtype=float32)>\n",
            "<tf.Variable 'conv2d_23/bias:0' shape=(64,) dtype=float32, numpy=\n",
            "array([ 0.00360455, -0.00659248, -0.0009151 , -0.00057062, -0.00211619,\n",
            "        0.00063208, -0.00564204, -0.00095392,  0.00249936, -0.00045305,\n",
            "       -0.00550941, -0.00025491, -0.00644707, -0.00174021, -0.00455443,\n",
            "       -0.00511656, -0.00437062, -0.00217895, -0.00164071, -0.0027524 ,\n",
            "       -0.0066481 ,  0.0001026 , -0.00370931,  0.00177306, -0.00081128,\n",
            "       -0.00522851, -0.00069195, -0.00478322, -0.00366919, -0.00134063,\n",
            "       -0.00215121, -0.0068863 , -0.00606311, -0.0003129 , -0.00112206,\n",
            "        0.00033911, -0.00816171, -0.00540124, -0.00432652, -0.00505629,\n",
            "       -0.00753785, -0.00316681,  0.00160236, -0.00366022, -0.0031065 ,\n",
            "       -0.0065132 , -0.00450239,  0.00204257, -0.00411065,  0.00253662,\n",
            "       -0.00594052, -0.002562  , -0.00601835, -0.00612942, -0.00325379,\n",
            "       -0.00063371, -0.00401955, -0.00386451, -0.001259  , -0.00593084,\n",
            "       -0.00682452,  0.00035542, -0.00468583, -0.00207173], dtype=float32)>\n",
            "<tf.Variable 'dense_4/kernel:0' shape=(2304, 512) dtype=float32, numpy=\n",
            "array([[ 0.04358908,  0.01121012,  0.00372747, ..., -0.02794017,\n",
            "        -0.02025986,  0.03251372],\n",
            "       [ 0.03636612, -0.00071121,  0.00938657, ...,  0.02340335,\n",
            "         0.02007947, -0.00859231],\n",
            "       [ 0.01262556,  0.03063413,  0.01216845, ...,  0.00142505,\n",
            "        -0.03364208, -0.0070257 ],\n",
            "       ...,\n",
            "       [ 0.03374003, -0.0449765 , -0.03519329, ..., -0.00553221,\n",
            "         0.01482074, -0.00065429],\n",
            "       [-0.04790637, -0.0442766 ,  0.04498137, ...,  0.03877426,\n",
            "        -0.03734916, -0.02843941],\n",
            "       [ 0.01073111, -0.0113578 ,  0.0235574 , ..., -0.0426451 ,\n",
            "        -0.03538642, -0.01617603]], dtype=float32)>\n",
            "<tf.Variable 'dense_4/bias:0' shape=(512,) dtype=float32, numpy=\n",
            "array([-1.82259211e-03,  2.82894936e-03,  8.40421359e-04,  1.57677394e-03,\n",
            "       -1.55862060e-03, -4.05151863e-03, -2.81761121e-03,  2.28900323e-03,\n",
            "       -7.88580626e-04,  4.47080703e-03,  2.09841016e-03, -3.67325410e-05,\n",
            "        5.74015576e-05, -2.16527656e-03,  2.19265907e-03, -2.23607663e-03,\n",
            "       -1.62628258e-03,  3.62150953e-03,  1.48874975e-03, -3.08516435e-03,\n",
            "        5.09304600e-03, -1.67708832e-03, -1.22351432e-03, -2.54788226e-03,\n",
            "       -2.96306727e-03,  3.90768470e-03, -1.04992441e-03,  3.30772105e-04,\n",
            "       -9.20632156e-04, -2.28553963e-05,  1.56714849e-03, -1.81740639e-03,\n",
            "       -1.61298842e-03, -3.61968740e-03,  6.46644388e-04,  1.47021259e-03,\n",
            "       -2.19442951e-03, -2.01583328e-03,  1.22146960e-03, -2.11033248e-03,\n",
            "       -1.39104610e-04, -3.06183845e-03, -3.09784338e-03, -1.73045986e-03,\n",
            "        1.66772283e-03,  1.48085237e-03,  5.71281300e-04,  1.15871335e-04,\n",
            "        1.04707433e-03, -1.32267852e-03, -9.84755679e-05,  1.06227142e-03,\n",
            "       -3.52937519e-03,  1.23152439e-03,  1.37361104e-03,  2.39249365e-03,\n",
            "       -4.97895468e-04,  1.65347499e-03, -8.43407644e-04, -8.38110864e-05,\n",
            "        6.25433167e-04, -2.74038967e-03, -2.89398269e-03, -2.08244845e-03,\n",
            "       -3.26566002e-03, -1.81136979e-03, -2.65304022e-03, -2.28790264e-03,\n",
            "       -3.04479408e-03,  3.19383526e-03,  2.75991997e-03, -2.80985609e-04,\n",
            "       -3.78917699e-04, -3.65753775e-03, -9.32169729e-04, -1.88060373e-03,\n",
            "       -2.83057662e-03, -3.55836842e-03, -1.87757728e-03, -1.26756332e-03,\n",
            "        1.96232038e-04, -1.81731174e-03, -7.79156631e-04, -2.96281185e-03,\n",
            "        2.48148944e-03, -4.40601911e-03, -2.53447448e-03,  4.01316996e-04,\n",
            "        2.99464422e-03, -3.97925294e-04,  1.20211113e-03,  2.13871841e-04,\n",
            "       -1.12355407e-03,  2.05854536e-03,  1.47946365e-03,  2.20949179e-03,\n",
            "        2.01808079e-03,  3.59967118e-04,  2.06486252e-03, -3.44464998e-03,\n",
            "        2.52091722e-03, -2.25000456e-03, -3.32315773e-04,  5.29288838e-04,\n",
            "        2.02252879e-04,  7.90373539e-04,  1.86774565e-03,  8.56357743e-04,\n",
            "       -3.92969791e-03, -2.26078159e-03,  4.39873943e-03,  2.93436437e-03,\n",
            "       -1.94580725e-03, -1.24932022e-03, -2.24981899e-03, -3.38054285e-03,\n",
            "       -2.97340169e-03, -2.63358373e-03, -8.81843036e-04,  6.44042273e-04,\n",
            "       -1.18393323e-03, -1.35186838e-03,  3.11756809e-03, -1.55893003e-03,\n",
            "        1.18539087e-03, -6.52441056e-04,  6.35507517e-04, -1.31440710e-03,\n",
            "        1.05730735e-03, -2.31547304e-03,  1.23737648e-03,  3.65671190e-03,\n",
            "        1.12767029e-05, -1.65921892e-03,  3.83858476e-03,  4.79131751e-03,\n",
            "       -1.28196040e-03,  4.56649635e-04, -3.44949169e-03,  4.16161353e-03,\n",
            "        1.40271528e-04, -8.21599679e-04,  1.71254051e-03, -2.16014753e-03,\n",
            "        4.71217136e-05, -3.39104584e-03,  2.82873865e-03,  1.11018925e-03,\n",
            "       -7.93157611e-04, -1.54120999e-03, -3.14506935e-03,  1.60435657e-03,\n",
            "        4.90961829e-04, -2.64071114e-03, -2.27310485e-03,  2.39706063e-03,\n",
            "       -1.15386664e-03,  6.89097156e-04, -2.07982399e-03, -2.77068210e-03,\n",
            "       -5.70525124e-04, -7.33132591e-04, -3.43403919e-03,  1.08761073e-03,\n",
            "       -1.23583677e-03, -1.70148350e-03, -1.37368450e-03,  3.08154803e-03,\n",
            "       -9.58341290e-04,  2.71468982e-03,  1.13890557e-04,  1.64599151e-05,\n",
            "       -5.08192752e-04, -8.65442096e-04,  4.50544572e-03, -1.58457400e-03,\n",
            "       -1.45645172e-03, -2.37639504e-03, -1.97441760e-03, -3.75848264e-04,\n",
            "       -1.32902432e-03, -1.25611678e-03, -1.22549955e-03, -2.28344157e-04,\n",
            "        2.95574940e-03, -8.47654999e-04, -1.25008088e-03,  4.32107970e-03,\n",
            "       -2.58246181e-03, -4.33627469e-03,  2.26556906e-03, -4.31756111e-04,\n",
            "       -1.63555238e-03, -1.39523007e-03, -6.71095215e-04,  1.00861804e-03,\n",
            "        2.22399645e-03, -2.43620458e-03,  3.62409931e-03, -2.57489784e-03,\n",
            "        1.55004207e-03, -1.87968079e-03,  8.13720690e-04, -1.56158337e-03,\n",
            "       -5.03894524e-04, -3.13163339e-03,  1.22592237e-03,  1.70621998e-03,\n",
            "       -1.46962539e-03, -2.43858621e-03, -3.41083063e-03, -1.12599309e-03,\n",
            "       -1.14550849e-03, -3.15143872e-04, -2.01964256e-04,  7.30229425e-04,\n",
            "       -1.14690093e-03,  3.77937034e-03, -2.02715932e-03, -1.02051266e-03,\n",
            "       -2.65258539e-04, -1.30368944e-03,  1.44385395e-03, -2.92957970e-03,\n",
            "       -3.60449823e-03, -1.14214804e-03,  1.28871435e-03, -1.35812792e-04,\n",
            "       -9.64723353e-04, -2.39290204e-03, -3.73945455e-03,  1.82793033e-03,\n",
            "       -2.02244869e-03, -1.89737335e-03, -4.16252157e-03,  4.19192296e-03,\n",
            "       -2.85483059e-03, -1.64105126e-03,  1.32289191e-03,  3.21687339e-03,\n",
            "       -8.23901908e-04, -1.59054028e-03, -1.59867108e-03, -2.10860814e-03,\n",
            "        2.72251386e-03, -9.62700578e-04,  1.61156897e-03, -2.69476185e-03,\n",
            "       -1.72056770e-03, -1.10683346e-03,  1.20797195e-03,  5.11840405e-03,\n",
            "       -9.45051550e-04, -9.44830244e-04, -6.75880117e-04, -4.29875130e-04,\n",
            "       -2.85510137e-03, -1.73246441e-03, -4.12777532e-03, -2.94812978e-03,\n",
            "       -1.45606260e-04, -3.12272133e-03,  1.36183144e-03,  2.85989605e-03,\n",
            "       -1.92632456e-03, -3.83073068e-03, -1.80022803e-03, -1.05867966e-03,\n",
            "       -2.91808508e-04,  3.01104202e-03, -4.08591516e-03, -9.79160308e-04,\n",
            "        2.22299038e-03,  3.23624769e-03, -1.19823089e-03, -3.82327312e-03,\n",
            "       -3.93380440e-04, -2.30135047e-04, -2.29306356e-03, -6.40905637e-05,\n",
            "        2.21759779e-03, -1.66278775e-03, -1.56073627e-04,  2.30545818e-04,\n",
            "       -2.41639023e-03, -1.93863490e-03, -7.77490088e-04, -2.05189479e-03,\n",
            "        1.04188116e-03, -4.49649699e-04, -1.41395186e-03, -1.79778016e-03,\n",
            "       -3.11412755e-03, -2.08385196e-03,  2.72166356e-03, -3.24505358e-03,\n",
            "       -1.76184496e-03, -2.86789611e-04,  1.11609767e-03,  2.08101445e-03,\n",
            "       -9.81919933e-04, -9.56431904e-04, -4.98473761e-04,  1.75020235e-04,\n",
            "       -4.70814615e-04,  1.97375310e-03, -2.27682828e-03, -1.37509394e-03,\n",
            "       -1.66339322e-03,  2.90172896e-03, -1.61036255e-03,  2.08016907e-04,\n",
            "       -9.40722763e-04, -2.37587770e-03,  2.22524075e-04, -1.60485588e-03,\n",
            "        2.03046226e-03, -3.52130784e-03, -9.00328567e-04, -1.36052095e-03,\n",
            "       -1.99754303e-03, -3.32929660e-03,  3.71217146e-04, -3.31289181e-03,\n",
            "        1.48252433e-03, -2.74574617e-03, -2.45889672e-03, -2.30717193e-03,\n",
            "       -1.96528737e-04, -1.51721493e-03, -2.45570717e-03, -2.93855835e-03,\n",
            "        1.41555240e-04, -6.58179575e-04,  3.09858192e-03, -7.77698064e-04,\n",
            "        2.37668445e-03,  1.77793764e-03, -8.24840681e-04, -2.36992585e-03,\n",
            "       -1.24445441e-03, -3.76500166e-03, -9.96384304e-04, -9.87754203e-04,\n",
            "       -3.42915975e-03,  2.23148661e-03, -1.67167711e-03,  3.41786887e-03,\n",
            "        2.16759439e-03, -1.83933927e-03, -2.55252991e-04,  2.33249622e-03,\n",
            "       -5.20557631e-04,  3.26650916e-03, -1.44644629e-03, -2.74207513e-03,\n",
            "        5.92815981e-04, -1.12086337e-03, -6.05011068e-04,  3.21891712e-04,\n",
            "        1.27470284e-03, -2.39899661e-03,  2.02787714e-03,  2.18392606e-03,\n",
            "       -9.16728692e-04,  9.68757377e-04,  5.94168203e-04,  1.96278305e-03,\n",
            "       -7.30674656e-04,  2.19165999e-03, -1.91635557e-03, -3.46162170e-03,\n",
            "       -1.57947885e-03,  1.52001961e-03, -1.16253248e-03, -2.41998164e-03,\n",
            "       -2.11741310e-03,  9.37366567e-04, -3.07653635e-03,  2.31084134e-03,\n",
            "       -2.94642663e-03, -1.15497154e-03,  2.99234269e-03,  3.33713437e-03,\n",
            "        1.87528122e-03, -1.56247593e-03, -1.36725989e-03,  2.10499717e-03,\n",
            "        3.04646115e-03,  2.54947809e-03,  6.22969237e-04,  6.32573245e-03,\n",
            "       -1.59257639e-03, -2.56316084e-03, -2.12752912e-03, -1.30439270e-03,\n",
            "       -3.04278545e-03, -2.67625996e-03, -4.15117526e-03, -1.48605381e-03,\n",
            "        3.37319775e-03, -1.37256086e-03,  3.82943399e-04,  3.90761066e-03,\n",
            "       -3.32590938e-03, -3.87577573e-03, -1.69938989e-03,  7.33139983e-04,\n",
            "        2.88805040e-03, -3.38193640e-04, -1.58977963e-03, -1.32485130e-03,\n",
            "        8.37724132e-04,  2.35467800e-03,  1.50244858e-03, -5.59606822e-04,\n",
            "        2.87632341e-04,  1.39531004e-03, -3.67174530e-03, -3.02890129e-03,\n",
            "       -1.42117951e-03, -3.28079425e-03, -3.65722831e-03,  9.57565557e-04,\n",
            "       -2.74823816e-03,  2.95263855e-03, -1.30907726e-03,  1.69096165e-05,\n",
            "       -2.71316082e-03,  2.07825843e-03,  1.06869696e-03, -1.28396123e-03,\n",
            "       -1.68461015e-03, -7.19184522e-04, -1.88316824e-03, -8.50360957e-04,\n",
            "       -2.06408394e-03,  3.87921161e-03, -3.21832253e-03, -1.98033126e-03,\n",
            "       -3.46058048e-03, -1.09503837e-03, -4.65460849e-04,  2.81020720e-03,\n",
            "       -3.30517069e-03, -9.98207019e-04, -1.03194593e-03,  1.00325479e-03,\n",
            "       -2.15947418e-03, -6.74208975e-04, -1.40782760e-03, -9.04418353e-04,\n",
            "       -6.37974357e-04, -2.92449584e-03,  6.43539359e-04, -3.43758357e-03,\n",
            "       -3.71690001e-03, -1.02519302e-03, -3.36820446e-03, -2.03567790e-03,\n",
            "       -1.98603258e-03, -4.06342605e-03,  2.94133974e-03, -3.25442292e-03,\n",
            "       -2.09451606e-03, -2.38369539e-04,  6.07647584e-04, -7.39246432e-04,\n",
            "       -2.58458662e-03,  4.16750135e-03, -3.22569627e-03, -2.21790071e-03,\n",
            "        1.93719671e-03, -2.52083992e-03, -1.78841827e-03, -3.27915128e-04,\n",
            "       -6.81617472e-04,  3.62174615e-04, -2.34097638e-03,  5.14505722e-04,\n",
            "       -3.91586125e-03,  1.22803799e-03,  1.12619484e-03,  1.14684599e-03,\n",
            "       -1.81018491e-03, -2.48306285e-04, -9.06359463e-04, -3.18235543e-05,\n",
            "        2.12942506e-03, -2.86395825e-03,  2.70073768e-03, -2.67222850e-03,\n",
            "        4.30694403e-04, -2.56648380e-03,  1.84311369e-03, -1.91315034e-04,\n",
            "       -2.70030159e-03,  3.81218665e-03,  2.31448817e-03, -2.91697448e-03,\n",
            "       -2.12630909e-03, -2.17349036e-03, -1.25066307e-03, -2.96575995e-03,\n",
            "        2.90036551e-03,  9.85880848e-04, -1.30050845e-04,  7.96721724e-04,\n",
            "        1.87713525e-03, -2.03749328e-03, -8.67367256e-04,  1.14845065e-03],\n",
            "      dtype=float32)>\n",
            "<tf.Variable 'dense_5/kernel:0' shape=(512, 2) dtype=float32, numpy=\n",
            "array([[-0.01793939,  0.09238064],\n",
            "       [-0.02751372,  0.06912582],\n",
            "       [-0.08383254,  0.01405015],\n",
            "       ...,\n",
            "       [ 0.07802741, -0.02586289],\n",
            "       [ 0.08825621, -0.02926105],\n",
            "       [-0.02622786,  0.06219769]], dtype=float32)>\n",
            "<tf.Variable 'dense_5/bias:0' shape=(2,) dtype=float32, numpy=array([-0.0030516,  0.0030516], dtype=float32)>\n"
          ],
          "name": "stdout"
        }
      ]
    },
    {
      "cell_type": "markdown",
      "metadata": {
        "id": "SR42boMgczoF"
      },
      "source": [
        "Unfortunately, that probably didn’t help you make a useful explanation.\n",
        "\n",
        "Researchers are currently studying ways to make neural networks more explainable. One approach is using **saliency maps** to figure out the saliency (importance) of each individual pixel. Check out a demo [here](https://lrpserver.hhi.fraunhofer.de/image-classification). Intuitively, we're trying to understand the neural network by tracking what it \"pays attention\" to, in the same way that psychologists study babies' cognition by [tracking what babies look at](https://www.ncbi.nlm.nih.gov/pmc/articles/PMC3259733/).\n",
        "\n",
        "In this exercise, we're going to build a simple version of a saliency map for the image you chose above. We'll see what pixels were most important in helping the network make its classification.\n",
        "\n",
        "To do this, we'll investigate the effects of changing each pixel a little bit. If changing a particular pixel changes the result a lot, we conclude that pixel must be important for classifying. If changing that pixel doesn't change the result, we conclude that pixel is unimportant.\n"
      ]
    },
    {
      "cell_type": "markdown",
      "metadata": {
        "id": "0RpZL6ChfLZ6"
      },
      "source": [
        "We're going to use the raw predicted probabilities, rather than the final classification."
      ]
    },
    {
      "cell_type": "code",
      "metadata": {
        "id": "gkdMS7sJfR6j"
      },
      "source": [
        "pred = cnn.predict_proba(np.array([input_image])) #What does each number mean?\n",
        "print (pred)\n",
        "dog_prob = pred[0][0] #This is the probability we'll use (if we know dog prob, we know the classification)\n",
        "\n",
        "print ('Probability of dog:')\n",
        "print (dog_prob)"
      ],
      "execution_count": null,
      "outputs": []
    },
    {
      "cell_type": "markdown",
      "metadata": {
        "id": "Xla3j0R1geJY"
      },
      "source": [
        "Now, we need to calculate the saliency for each pixel (really, each R/G/B value). The core idea is that a pixel's saliency is the average value of \n",
        "\n",
        " $D = |\\frac{\\Delta probability}{\\Delta pixel}|$\n",
        " \n",
        " where $\\Delta$ is the amount of change. If a small change in the pixel value results in a large change in the probability (either up or down), we know this pixel is important. If you've seen derivatives in calculus, this idea should feel familiar.\n",
        "\n",
        "Here's the game plan:\n",
        "\n",
        "*   Consider each pixel value in turn: R, G, B, then the next pixel.\n",
        "*   Make a copy of the image array before you change anything!\n",
        "*   Make the pixel value larger or smaller by various amounts. Each time, find the CNN's prediction with the changed value, and calculate the value of D.\n",
        "*   Repeat the previous step a few times, and calculate the pixel's saliency: the average value of D.\n",
        "*   Store the saliency of each pixel in a list, so that we can visualize it later.\n",
        "\n",
        "Try it below! (Warning: this code might be very slow. As a further challenge, try to speed it up!)\n"
      ]
    },
    {
      "cell_type": "code",
      "metadata": {
        "id": "RnABhKUJmNCF"
      },
      "source": [
        "saliencies = [] #eventually, will be the same size as input_image\n",
        "\n",
        "for index, pixel in enumerate(input_image):\n",
        "  #index counts up from 0, pixel is between 0 and 255\n",
        "  \n",
        "  if index%100 == 0: #will track progress - this might take a while\n",
        "    print (index)\n",
        "  \n",
        "  changed_input = input_image.copy() #make sure not to change the original input_image!\n",
        "  \n",
        "  #YOUR CODE HERE:\n",
        "  #In changed_input, change the value of this pixel by some amount.\n",
        "  #Use the CNN to classify changed_input.\n",
        "  #Calculate the value of D.\n",
        "  #Repeat with various-size changes, and calculate saliency as the average D.\n",
        "  saliency = 0 #Change this!\n",
        "\n",
        "  saliencies.append(saliency)\n",
        "\n",
        "print (saliencies)"
      ],
      "execution_count": null,
      "outputs": []
    },
    {
      "cell_type": "markdown",
      "metadata": {
        "id": "SJEAJ5VinTIZ"
      },
      "source": [
        "You'll notice that your saliencies are probably very small values, since each individual pixel has a small effect on the output. \n",
        "Here are the current min and max:"
      ]
    },
    {
      "cell_type": "code",
      "metadata": {
        "id": "S5vRrciYnZgk"
      },
      "source": [
        "sal_array = np.array(saliencies)\n",
        "print (sal_array.min(), sal_array.max())\n",
        "print (sal_array.shape)"
      ],
      "execution_count": null,
      "outputs": []
    },
    {
      "cell_type": "markdown",
      "metadata": {
        "id": "UwQfwv6rnl--"
      },
      "source": [
        "To plot the saliencies, we need to do some arithmetic to transform them to a range of 0 to 1. Can you explain the function of each line?"
      ]
    },
    {
      "cell_type": "code",
      "metadata": {
        "id": "XL_W9k0W0Sai"
      },
      "source": [
        "sal_array = np.array(saliencies)\n",
        "sal_array = sal_array - sal_array.min()\n",
        "#TODO print min and max\n",
        "\n",
        "sal_array = sal_array/sal_array.max()\n",
        "#TODO print min and max\n",
        "\n",
        "#Can you perform this transformation in a single line of code?\n",
        "\n",
        "print (sal_array.shape)"
      ],
      "execution_count": null,
      "outputs": []
    },
    {
      "cell_type": "markdown",
      "metadata": {
        "id": "OvFKoff4n_gf"
      },
      "source": [
        "Finally, we can plot our saliency map!\n",
        "\n",
        "If you're not getting great results, try experimenting with how much you're changing the pixel values."
      ]
    },
    {
      "cell_type": "code",
      "metadata": {
        "id": "2vANcgvj1Pvc"
      },
      "source": [
        "#Plot our original image\n",
        "plt.imshow(input_image.reshape(32,32,3).astype(int))\n",
        "plt.show()\n",
        "\n",
        "#Plot our saliency map: the brighter, the higher the saliency\n",
        "plt.imshow(sal_array.reshape(32,32,3))\n",
        "plt.show()\n",
        "\n",
        "#Plot our saliency map superimposed on the image\n",
        "plt.imshow(input_image.reshape(32,32,3).astype(int))\n",
        "plt.imshow(sal_array.reshape(32,32,3),alpha=0.6)\n",
        "plt.show()"
      ],
      "execution_count": null,
      "outputs": []
    },
    {
      "cell_type": "markdown",
      "metadata": {
        "id": "fistwbaDp56y"
      },
      "source": [
        "We now have some insight into our neural network! We know which pixels matter in its decisions. \n",
        "\n",
        "You can experiment with the definition of saliency we used above; you might come up with a better way to measure it!"
      ]
    }
  ]
}