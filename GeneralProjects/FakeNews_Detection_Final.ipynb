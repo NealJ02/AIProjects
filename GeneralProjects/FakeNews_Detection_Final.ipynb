{
  "nbformat": 4,
  "nbformat_minor": 0,
  "metadata": {
    "colab": {
      "name": "FakeNews_Detection_Final.ipynb",
      "provenance": [],
      "collapsed_sections": []
    },
    "language_info": {
      "codemirror_mode": {
        "name": "ipython",
        "version": 3
      },
      "file_extension": ".py",
      "mimetype": "text/x-python",
      "name": "python",
      "nbconvert_exporter": "python",
      "pygments_lexer": "ipython3",
      "version": "3.7.3"
    },
    "kernelspec": {
      "display_name": "Python 3",
      "language": "python",
      "name": "python3"
    }
  },
  "cells": [
    {
      "cell_type": "markdown",
      "metadata": {
        "id": "ghImXmSD00AL"
      },
      "source": [
        "# Day 3: Using Word Vectors for Fake News Classification\n",
        "\n",
        "Run the below cells to get started."
      ]
    },
    {
      "cell_type": "markdown",
      "metadata": {
        "id": "p6yXc9Z2KMGy"
      },
      "source": [
        "In this notebook we'll be:\n",
        "1.   Understanding Word Vectors\n",
        "2.   Understanding the Bag of Words Featurizer\n",
        "\n"
      ]
    },
    {
      "cell_type": "code",
      "metadata": {
        "id": "ewFL_vL20vMS",
        "colab": {
          "base_uri": "https://localhost:8080/"
        },
        "outputId": "7c2f0c85-d54b-45ac-d7b0-129ba24c597f"
      },
      "source": [
        "#@title Import Data { display-mode: \"form\" }\n",
        "import math\n",
        "import os\n",
        "import numpy as np\n",
        "from bs4 import BeautifulSoup as bs\n",
        "import requests\n",
        "from tqdm import tqdm\n",
        "from sklearn.feature_extraction.text import CountVectorizer\n",
        "from torchtext.vocab import GloVe\n",
        "\n",
        "import pickle\n",
        "\n",
        "!wget -O data.zip 'https://storage.googleapis.com/inspirit-ai-data-bucket-1/Data/AI%20Scholars/Sessions%206%20-%2010%20(Projects)/Project%20-%20Fake%20News%20Detection/inspirit_fake_news_resources%20(1).zip'\n",
        "!unzip data.zip\n",
        "\n",
        "basepath = '.'\n",
        "\n",
        "from sklearn.linear_model import LogisticRegression\n",
        "from sklearn.metrics import precision_recall_fscore_support\n",
        "from sklearn.metrics import accuracy_score\n",
        "from sklearn.metrics import confusion_matrix\n",
        "\n",
        "with open(os.path.join(basepath, 'train_val_data.pkl'), 'rb') as f:\n",
        "  train_data, val_data = pickle.load(f)\n",
        "  \n",
        "print('Number of train examples:', len(train_data))\n",
        "print('Number of val examples:', len(val_data))"
      ],
      "execution_count": null,
      "outputs": [
        {
          "output_type": "stream",
          "text": [
            "--2021-06-30 20:13:12--  https://storage.googleapis.com/inspirit-ai-data-bucket-1/Data/AI%20Scholars/Sessions%206%20-%2010%20(Projects)/Project%20-%20Fake%20News%20Detection/inspirit_fake_news_resources%20(1).zip\n",
            "Resolving storage.googleapis.com (storage.googleapis.com)... 74.125.134.128, 74.125.139.128, 173.194.212.128, ...\n",
            "Connecting to storage.googleapis.com (storage.googleapis.com)|74.125.134.128|:443... connected.\n",
            "HTTP request sent, awaiting response... 200 OK\n",
            "Length: 109422100 (104M) [application/zip]\n",
            "Saving to: ‘data.zip’\n",
            "\n",
            "data.zip            100%[===================>] 104.35M   185MB/s    in 0.6s    \n",
            "\n",
            "2021-06-30 20:13:12 (185 MB/s) - ‘data.zip’ saved [109422100/109422100]\n",
            "\n",
            "Archive:  data.zip\n",
            "  inflating: train_val_data.pkl      \n",
            "  inflating: test_data.pkl           \n",
            "Number of train examples: 2002\n",
            "Number of val examples: 309\n"
          ],
          "name": "stdout"
        }
      ]
    },
    {
      "cell_type": "markdown",
      "metadata": {
        "id": "khlmTwTFQyFY"
      },
      "source": [
        "One potential source of information for websites is their descriptions (often called meta descriptions). These are descriptions embedded into the HTML of a webpage that describe what the website is about, so that search engines and other crawlers can use it to determine the content of a website. For example, here is the description for google.com, retrieved using the BeautifulSoup Python library for parsing HTML:"
      ]
    },
    {
      "cell_type": "code",
      "metadata": {
        "id": "49IV8jyXSbt5",
        "colab": {
          "base_uri": "https://localhost:8080/"
        },
        "outputId": "e7abf39c-b7ab-4317-9d5c-9a844bc9c7db"
      },
      "source": [
        "def get_description_from_html(html):\n",
        "  soup = bs(html)\n",
        "  description_tag = soup.find('meta', attrs={'name':'og:description'}) or soup.find('meta', attrs={'property':'description'}) or soup.find('meta', attrs={'name':'description'})\n",
        "  if description_tag:\n",
        "    description = description_tag.get('content') or ''\n",
        "  else: # If there is no description, return empty string.\n",
        "    description = ''\n",
        "  return description\n",
        "\n",
        "def scrape_description(url):\n",
        "  if not url.startswith('http'):\n",
        "    url = 'http://' + url\n",
        "  response = requests.get(url, timeout=10)\n",
        "  html = response.text\n",
        "  description = get_description_from_html(html)\n",
        "  return description\n",
        "\n",
        "print('Description of Google.com:')\n",
        "print(scrape_description('google.com'))"
      ],
      "execution_count": null,
      "outputs": [
        {
          "output_type": "stream",
          "text": [
            "Description of Google.com:\n",
            "Search the world's information, including webpages, images, videos and more. Google has many special features to help you find exactly what you're looking for.\n"
          ],
          "name": "stdout"
        }
      ]
    },
    {
      "cell_type": "markdown",
      "metadata": {
        "id": "gGKIqXbcZyDX"
      },
      "source": [
        "## Instructor-Led Discussion: Scraping Website Descriptions\n",
        "\n",
        "Play around with the below demo (running the cell normally) to live scrape the descriptions of different websites using the code above. Do you notice anything interesting or unexpected? If so, share with the class. (~3 minutes)"
      ]
    },
    {
      "cell_type": "code",
      "metadata": {
        "id": "KYro0RPbY3hl",
        "colab": {
          "base_uri": "https://localhost:8080/"
        },
        "outputId": "0a105e7b-b46a-456d-c135-f1379421eba9"
      },
      "source": [
        "#@title Live Website Description Scraper { display-mode: \"both\" }\n",
        "\n",
        "url = \"nike.com\" #@param {type:\"string\"}\n",
        "\n",
        "print('Description of %s:' % url)\n",
        "print(scrape_description(url))"
      ],
      "execution_count": null,
      "outputs": [
        {
          "output_type": "stream",
          "text": [
            "Description of nike.com:\n",
            "Nike delivers innovative products, experiences and services to inspire athletes.\n"
          ],
          "name": "stdout"
        }
      ]
    },
    {
      "cell_type": "markdown",
      "metadata": {
        "id": "rUc1jWs1Smvx"
      },
      "source": [
        "### Bag-of-Words Model\n",
        "\n",
        "\n"
      ]
    },
    {
      "cell_type": "markdown",
      "metadata": {
        "id": "LurXHhf3KIoa"
      },
      "source": [
        "It is easy to retrieve the descriptions for the fake and real news websites in our dataset as well. What can we do with these? We can use the approach from yesterday where we extract counts from the description for particular keywords and use these as features, but this would require us to manually select features that we think are important. What if our model automatically collected all of the most important keywords and added their counts for each website description to our feature vector? Our model could then learn feature weights for these words to help us correctly classify news websites.\n",
        "\n",
        "This approach of automatically featurizing the counts of words in text is called the bag-of-words model. This name comes from the fact that the features do not store the order of the words, rather just their counts."
      ]
    },
    {
      "cell_type": "markdown",
      "metadata": {
        "id": "TrZLFmRIKGBa"
      },
      "source": [
        "## Exercise \n",
        "\n",
        "Let's start by extracting the descriptions for the websites in our dataset. Use the helper function *get_description_from_html* defined above to extract all of the descriptions for the websites in the training data. The return value of the function should be a list of descriptions, in the same order as the sites in *train_data* (~10 minutes). Note that running the function will take a few minutes."
      ]
    },
    {
      "cell_type": "code",
      "metadata": {
        "id": "PJQY3DU1Iza9",
        "colab": {
          "base_uri": "https://localhost:8080/"
        },
        "outputId": "ab02bea1-bb71-4b80-fc1c-b773fa8a6dfe"
      },
      "source": [
        "def get_descriptions_from_data(data):\n",
        "  # A dictionary mapping from url to description for the websites in \n",
        "  # train_data.\n",
        "  descriptions = []\n",
        "  for site in tqdm(data):\n",
        "    ### YOUR CODE HERE ###\n",
        "    description = get_description_from_html(site[1])\n",
        "    descriptions.append(description)\n",
        "    ### END CODE ###\n",
        "  return descriptions\n",
        "  \n",
        "\n",
        "train_descriptions = get_descriptions_from_data(train_data)\n",
        "train_urls = [url for (url, html, label) in train_data]\n",
        "\n",
        "print('\\nNYTimes Description:')\n",
        "print(train_descriptions[train_urls.index('nytimes.com')])"
      ],
      "execution_count": null,
      "outputs": [
        {
          "output_type": "stream",
          "text": [
            "100%|██████████| 2002/2002 [02:54<00:00, 11.48it/s]"
          ],
          "name": "stderr"
        },
        {
          "output_type": "stream",
          "text": [
            "\n",
            "NYTimes Description:\n",
            "The New York Times: Find breaking news, multimedia, reviews & opinion on Washington, business, sports, movies, travel, books, jobs, education, real estate, cars & more at nytimes.com.\n"
          ],
          "name": "stdout"
        },
        {
          "output_type": "stream",
          "text": [
            "\n"
          ],
          "name": "stderr"
        }
      ]
    },
    {
      "cell_type": "markdown",
      "metadata": {
        "id": "yzdLW0Aya_iy"
      },
      "source": [
        "## Let's get our value desciptions!\n",
        "\n",
        "Once you have this working, call the *get_descriptions_from_data* for val to get *val_descriptions*. "
      ]
    },
    {
      "cell_type": "code",
      "metadata": {
        "id": "mPuUgA39bO3f",
        "colab": {
          "base_uri": "https://localhost:8080/"
        },
        "outputId": "8466e1a2-68b5-4907-c2ba-f987fd3557e8"
      },
      "source": [
        "val_descriptions = get_descriptions_from_data(val_data)"
      ],
      "execution_count": null,
      "outputs": [
        {
          "output_type": "stream",
          "text": [
            "100%|██████████| 309/309 [00:25<00:00, 12.00it/s]\n"
          ],
          "name": "stderr"
        }
      ]
    },
    {
      "cell_type": "markdown",
      "metadata": {
        "id": "pPFtoCqdPZxj"
      },
      "source": [
        "###Reading"
      ]
    },
    {
      "cell_type": "markdown",
      "metadata": {
        "id": "zwsmRW3vYPMj"
      },
      "source": [
        "We now have a bunch of descriptions for the websites in our training data. How do we map this to a meaningful feature representation? As suggested above, we use the approach of assigning each feature index a specific word from the descriptions, and the feature value for each site is just the count of that specific word in its description. This is just an automatic version of the keyword-based approach we used yesterday.\n",
        "\n",
        "How do we choose which words to include as features? We could include all of them, but this would give us a lot of features for words that don't show up often enough to be helpful. Instead, we choose the 300 most frequent words.\n",
        "\n",
        "Below, we use the CountVectorizer class from scikit-learn to do the heavy-lifting for us. We train it using just the train data (so it learns which are the 300 most frequent words in train only), and then we use to featurize both the train and val data. \n"
      ]
    },
    {
      "cell_type": "markdown",
      "metadata": {
        "id": "R2tc1a2yPeW0"
      },
      "source": [
        "## Exercise \n",
        "\n",
        "Fill in the last **two lines of code** that vectorizes the val data descriptions, using the train version for reference (~4 minutes). You should save the values to *bow_val_X* and *bow_val_y*."
      ]
    },
    {
      "cell_type": "code",
      "metadata": {
        "id": "Qduz6WP1JBCO",
        "colab": {
          "base_uri": "https://localhost:8080/"
        },
        "outputId": "38990622-73af-455a-bd2b-5f36070df2ab"
      },
      "source": [
        "vectorizer = CountVectorizer(max_features=300)\n",
        "\n",
        "vectorizer.fit(train_descriptions)\n",
        "\n",
        "def vectorize_data_descriptions(descriptions, vectorizer):\n",
        "  X = vectorizer.transform(descriptions).todense()\n",
        "  return X\n",
        "\n",
        "print('\\nPreparing train data...')\n",
        "bow_train_X = vectorize_data_descriptions(train_descriptions, vectorizer)\n",
        "bow_train_y = [label for url, html, label in train_data]\n",
        "\n",
        "print('\\nPreparing val data...')\n",
        "### YOUR CODE HERE ###\n",
        "bow_val_X = vectorize_data_descriptions(val_descriptions, vectorizer)\n",
        "bow_val_y = [label for url, html, label in val_data]\n",
        "### END CODE HERE ###"
      ],
      "execution_count": null,
      "outputs": [
        {
          "output_type": "stream",
          "text": [
            "\n",
            "Preparing train data...\n",
            "\n",
            "Preparing val data...\n"
          ],
          "name": "stdout"
        }
      ]
    },
    {
      "cell_type": "markdown",
      "metadata": {
        "id": "urfxVL-MWzHW"
      },
      "source": [
        "Now we have all we need to test our bag-of-words featurization. Below, we want to use logistic regression, as before, combined with our *train_X* produced by CountVectorizer to train our fake news classification model. We also want to evaluate using our familiar metrics.\n",
        "\n",
        "## Exercise \n",
        "\n",
        "Fill in the code below that fits the model on *bow_train_X* and *bow_train_y* and outputs train accuracy, val accuracy, val confusion matrix, and val precision, recall, and F1-Score (~10 minutes)."
      ]
    },
    {
      "cell_type": "code",
      "metadata": {
        "id": "IWg6ZLbAJNFB",
        "colab": {
          "base_uri": "https://localhost:8080/"
        },
        "outputId": "9934a5f1-127f-4797-d682-f0351c10a483"
      },
      "source": [
        "model = LogisticRegression()\n",
        "\n",
        "### YOUR CODE HERE ###\n",
        "model.fit(bow_train_X, bow_train_y)\n",
        "bow_train_pred = model.predict(bow_train_X)\n",
        "bow_train_acc = accuracy_score(bow_train_pred, bow_train_y)\n",
        "print(\"Train Accuracy: \", bow_train_acc)\n",
        "bow_val_pred = model.predict(bow_val_X)\n",
        "bow_val_acc = accuracy_score(bow_val_pred, bow_val_y)\n",
        "print(\"Val Accuracy: \", bow_val_acc)\n",
        "valcm = confusion_matrix(bow_val_y, bow_val_pred)\n",
        "prf = precision_recall_fscore_support(bow_val_y, bow_val_pred)\n",
        "\n",
        "print('Precision:', prf[0][1])\n",
        "print('Recall:', prf[1][1])\n",
        "print('F-Score:', prf[2][1])\n",
        "\n",
        "### END CODE HERE ###"
      ],
      "execution_count": null,
      "outputs": [
        {
          "output_type": "stream",
          "text": [
            "Train Accuracy:  0.8746253746253746\n",
            "Val Accuracy:  0.6634304207119741\n",
            "Precision: 0.5844748858447488\n",
            "Recall: 0.9078014184397163\n",
            "F-Score: 0.7111111111111111\n"
          ],
          "name": "stdout"
        }
      ]
    },
    {
      "cell_type": "markdown",
      "metadata": {
        "id": "lXxFvJTbXT7S"
      },
      "source": [
        "Solid! You should be getting results roughly similar to what you got yesterday, which may be surprising since we are restricting ourselves to look only at the description of a website. The strength of our approach today is that the featurization is automatic–we didn't put any work into determining the features.\n",
        "\n",
        "You might be wondering how well a model that combines both our bag-of-words approach, our keywords approach, and our domain name extension approach does. We will implement combining our featurization approaches tomorrow! For now, let's explore another approach."
      ]
    },
    {
      "cell_type": "markdown",
      "metadata": {
        "id": "e8VLitfjkKZ6"
      },
      "source": [
        "## Instructor-Led Discussion: Modeling the Meaning of Websites using Word Vectors\n",
        "\n",
        "\n",
        "A shortcoming of our bag-of-words approach is that it only looks at the counts of words in the description for each website. What if we had some way of understanding the meaning of words in the description for each website?\n",
        "\n",
        "The idea of computationally extracting meaning from words is central to word vectors, which have become a cornerstone of modern deep learning on text. Word vectors are a mapping from words to vectors such that words that have similar meaning have similar word vectors. \n",
        "\n",
        "For example, the words \"good\" and \"great\" have similar word vectors, and the words \"good\" and \"planet\" have different word vectors. Thus, word vectors provide us a way to account for the meanings of words with our machine learning models.\n",
        "\n",
        "Run the below cell to load our word vectors, which come from a model called \"GloVe\".\n",
        "\n"
      ]
    },
    {
      "cell_type": "code",
      "metadata": {
        "id": "lIww33eRkucs",
        "colab": {
          "base_uri": "https://localhost:8080/"
        },
        "outputId": "53b79847-bf26-45f3-8788-38082f48c62d"
      },
      "source": [
        "VEC_SIZE = 300\n",
        "glove = GloVe(name='6B', dim=VEC_SIZE)\n",
        "\n",
        "# Returns word vector for word if it exists, else return None.\n",
        "def get_word_vector(word):\n",
        "    try:\n",
        "      return glove.vectors[glove.stoi[word.lower()]].numpy()\n",
        "    except KeyError:\n",
        "      return None"
      ],
      "execution_count": null,
      "outputs": [
        {
          "output_type": "stream",
          "text": [
            ".vector_cache/glove.6B.zip: 862MB [02:41, 5.33MB/s]                           \n",
            "100%|█████████▉| 399385/400000 [00:46<00:00, 8750.81it/s]"
          ],
          "name": "stderr"
        }
      ]
    },
    {
      "cell_type": "markdown",
      "metadata": {
        "id": "05fcNrWgZcxC"
      },
      "source": [
        "We've included a handy helper function which retrieves the word vector for a word. \n",
        "\n",
        "## Exercise \n",
        "\n",
        "Let's retrieve the word vector for \"good\" using the above get_word_vector function (~30 seconds)."
      ]
    },
    {
      "cell_type": "code",
      "metadata": {
        "id": "zPk4TeQmJZ0s",
        "colab": {
          "base_uri": "https://localhost:8080/"
        },
        "outputId": "8a23130d-18f7-41e4-8924-9569f98ad1d4"
      },
      "source": [
        "### YOUR CODE HERE ###\n",
        "good_vector = get_word_vector(\"good\")\n",
        "### END CODE HERE ###\n",
        "\n",
        "print('Shape of good vector:', good_vector.shape)\n",
        "print(good_vector)"
      ],
      "execution_count": null,
      "outputs": [
        {
          "output_type": "stream",
          "text": [
            "Shape of good vector: (300,)\n",
            "[-1.3602e-01 -1.1594e-01 -1.7078e-02 -2.9256e-01  1.6149e-02  8.6472e-02\n",
            "  1.5759e-03  3.4395e-01  2.1661e-01 -2.1366e+00  3.5278e-01 -2.3909e-01\n",
            " -2.2174e-01  3.6413e-01 -4.5021e-01  1.2104e-01 -1.5596e-01 -3.8906e-02\n",
            " -2.9419e-03  1.6009e-02 -1.1620e-01  3.8680e-01  3.5109e-01  9.7426e-02\n",
            " -1.2425e-02 -1.7864e-01 -2.3259e-01 -2.6960e-01  4.1083e-02 -7.6194e-02\n",
            " -2.3362e-01  2.0919e-01 -2.7264e-01  5.4967e-02 -1.8055e+00  5.6348e-01\n",
            " -1.2778e-01  2.3147e-01 -5.8820e-03 -2.6630e-01  4.1187e-01 -3.7162e-01\n",
            " -2.0600e-01 -1.9619e-01 -4.3945e-03  1.2513e-01  4.6638e-01  4.5159e-01\n",
            " -1.5000e-01  5.9589e-03  5.9070e-02 -4.1440e-01  6.1035e-02 -2.1117e-01\n",
            " -4.0988e-01  5.6393e-01  2.3021e-01  2.7240e-01  4.9364e-02  1.4239e-01\n",
            "  4.1841e-01 -1.3983e-01  3.4826e-01 -1.0745e-01 -2.5002e-01 -3.2554e-01\n",
            "  3.3343e-01 -3.5617e-01  2.0442e-01  1.4439e-01 -1.2686e-01 -7.7273e-02\n",
            " -1.9667e-01  1.0759e-01 -1.1860e-01 -2.5083e-01  1.4205e-02  2.7251e-01\n",
            " -2.3707e-01 -2.3545e-01 -1.5887e-01  1.3151e-01  6.9564e-01  2.2766e-01\n",
            "  1.8526e-01  1.5743e-01 -1.5018e-01 -1.8177e-01 -3.3527e-02 -3.3092e-01\n",
            " -2.5205e-01  5.0913e-01 -2.5607e-01 -5.3686e-01  1.3397e-01  6.7046e-02\n",
            " -9.4473e-02 -2.2270e-01 -3.1469e-01  8.5932e-02 -4.3032e-02 -2.5821e-01\n",
            " -9.5062e-02 -1.8497e-01  5.8890e-02  1.8972e-01 -1.7366e-01  2.5263e-01\n",
            " -5.4361e-01 -3.7248e-01 -4.6661e-02 -4.1657e-01 -1.7549e-03 -4.8404e-01\n",
            "  4.2090e-01 -1.2749e-03  9.4697e-03 -1.3380e-01  7.2351e-02 -1.2096e-01\n",
            " -7.2870e-02 -1.8333e-01  3.9652e-01  1.1329e-01 -6.3029e-02 -1.9702e-03\n",
            "  4.2848e-01  3.1790e-01 -1.5079e-01  2.0405e-01  2.1828e-01  2.6067e-02\n",
            "  4.3621e-02  3.9224e-03 -2.6629e-01 -2.8312e-01  5.0497e-02 -1.8993e-01\n",
            "  1.8996e-01  2.9517e-01 -1.1566e-01  4.0967e-01  2.2221e-01 -3.9778e-01\n",
            " -3.3177e-01 -1.3884e-01 -1.6829e-01 -2.0355e-01 -2.7687e-01 -1.1087e-01\n",
            " -6.7466e-01 -1.8108e-01  1.8512e-01 -9.4616e-02  1.7856e-01 -6.6997e-02\n",
            "  1.1379e-01 -9.3380e-02  5.6860e-01 -1.3365e-01  3.4636e-01 -4.1953e-01\n",
            "  1.7547e-01 -2.4277e-02 -1.2441e-01  9.2129e-02 -1.6702e-01 -1.4285e-01\n",
            "  3.1646e-01  3.0337e-01  1.4840e-01 -6.7837e-03 -1.0509e+00  2.2329e-01\n",
            "  7.5211e-02  4.4379e-02 -8.5929e-02 -1.1806e-01 -1.6632e-01 -7.8650e-02\n",
            "  2.6374e-01 -2.2052e-01  4.5582e-01 -1.5291e-01  6.2617e-02 -1.5588e-01\n",
            "  8.2398e-02 -6.8462e-02 -2.4569e-01  2.3439e-01 -3.8633e-01  2.4835e-01\n",
            "  2.5334e-01 -2.1189e-01  4.1494e-03 -4.3762e-01 -1.3426e-01 -2.4583e-01\n",
            "  1.4213e-01 -3.3973e-01  1.4643e+00  1.6414e-01  2.2135e-01  7.4099e-03\n",
            " -5.5141e-02 -2.7403e-02  3.2928e-02  1.4289e-01 -1.0049e-01 -2.2066e-01\n",
            " -3.0380e-01  6.0624e-02 -1.2408e-01 -5.4114e-01  2.4374e-01  8.0903e-02\n",
            " -7.8264e-02  8.0091e-02  9.8551e-03 -2.3077e-01  1.6006e-01  6.4075e-02\n",
            " -4.1613e-01  2.0494e-01 -1.8681e-01  3.5367e-02  2.1759e-01 -8.7823e-02\n",
            "  3.5452e-01  1.9578e-01 -1.5127e-01 -1.0545e-01  3.5650e-01 -3.8677e-01\n",
            " -6.3172e-02  3.1534e-01 -1.5887e-01 -3.1267e-01 -1.7893e-01  4.1952e-01\n",
            "  2.3261e-01  2.0943e-01  2.7013e-02  1.7388e-02 -5.9857e-01 -1.9622e-01\n",
            " -2.3672e-01  3.0032e-01  4.6926e-02 -8.5768e-02  3.6539e-01 -5.2476e-01\n",
            " -1.3618e-01  1.0868e-01  4.6307e-01  3.8502e-01  7.6317e-04 -3.8196e-01\n",
            "  7.9772e-02 -4.1744e-02  4.7625e-02 -4.1018e-02  1.7601e-01  2.4893e-01\n",
            " -1.0753e-01  3.1935e-01 -1.2762e-01 -3.5059e-01  3.5689e-04  9.3515e-03\n",
            " -8.8616e-02 -3.2785e-01  9.2063e-02 -6.1405e-02  2.9053e-01  2.2404e-02\n",
            " -1.6879e+00  2.6712e-01  3.3419e-01 -5.2533e-02 -1.9741e-01  1.3709e-01\n",
            " -5.4288e-02  5.6423e-01  1.9384e-01  1.7229e-01  2.9025e-01 -1.6124e-01\n",
            "  5.9489e-02 -3.1884e-01 -2.8343e-01  6.4321e-02 -4.1589e-01 -7.0528e-02\n",
            "  1.2410e-02 -4.0208e-01 -2.4963e-01 -3.3760e-01  7.0098e-02  2.4642e-01]\n"
          ],
          "name": "stdout"
        }
      ]
    },
    {
      "cell_type": "markdown",
      "metadata": {
        "id": "JVIt9A5bO-S0"
      },
      "source": [
        "### Reading"
      ]
    },
    {
      "cell_type": "markdown",
      "metadata": {
        "id": "TXL5UubKaeDB"
      },
      "source": [
        "Not too much to see here–each word vector is a vector of 300 numbers, and it's hard to interpret them from looking at the numbers. Remember that the important property of word vectors is that words with similar meaning have similar word vectors. The magic happens when we compare word vectors.\n",
        "\n",
        "Below, we have set up a demo where we compare the word vectors for two words using a comparison metric known as cosine similarity. Intuitively, cosine similarity measures the extent to which two vectors point in the same direction. You might be familiar with the fact that the cosine similarity between two vectors is the same as the cosine of the angle between the two vectors–ranging between -1 and 1. -1 means that two vectors are facing opposite directions, 0 means that they are perpindicular, and 1 means that they are facing the same direction. \n"
      ]
    },
    {
      "cell_type": "markdown",
      "metadata": {
        "id": "bBA15HjvN4I-"
      },
      "source": [
        "## Instructor-Led Discussion: Comparing Word Similarities\n",
        "\n",
        "Try running the below to compare the vectors for \"good\" and \"great\", and then try other words, like \"planet\". **What do you notice that's expected and unexpected? Play around for a couple of minutes then discuss as a class.**\n",
        "\n",
        "Note that the demo runs automatically when you change either *word1* or *word2*."
      ]
    },
    {
      "cell_type": "code",
      "metadata": {
        "id": "hZz6rcIncU7l",
        "colab": {
          "base_uri": "https://localhost:8080/"
        },
        "outputId": "c51e4dac-e9a4-4a99-f895-da2b25d4c01a"
      },
      "source": [
        "#@title Word Similarity { run: \"auto\", display-mode: \"both\" }\n",
        "\n",
        "def cosine_similarity(vec1, vec2):    \n",
        "  return np.dot(vec1, vec2) / (np.linalg.norm(vec1) * np.linalg.norm(vec2))\n",
        "\n",
        "word1 = \"hi\" #@param {type:\"string\"}\n",
        "word2 = \"right\" #@param {type:\"string\"}\n",
        "\n",
        "print('Word 1:', word1)\n",
        "print('Word 2:', word2)\n",
        "\n",
        "def cosine_similarity_of_words(word1, word2):\n",
        "  vec1 = get_word_vector(word1)\n",
        "  vec2 = get_word_vector(word2)\n",
        "  \n",
        "  if vec1 is None:\n",
        "    print(word1, 'is not a valid word. Try another.')\n",
        "  if vec2 is None:\n",
        "    print(word2, 'is not a valid word. Try another.')\n",
        "  if vec1 is None or vec2 is None:\n",
        "    return None\n",
        "  \n",
        "  return cosine_similarity(vec1, vec2)\n",
        "  \n",
        "\n",
        "print('\\nCosine similarity:', cosine_similarity_of_words(word1, word2))\n"
      ],
      "execution_count": null,
      "outputs": [
        {
          "output_type": "stream",
          "text": [
            "Word 1: hi\n",
            "Word 2: right\n",
            "\n",
            "Cosine similarity: 0.05448218\n"
          ],
          "name": "stdout"
        }
      ]
    },
    {
      "cell_type": "markdown",
      "metadata": {
        "id": "Yb6vzQX0O18k"
      },
      "source": [
        "### Reading"
      ]
    },
    {
      "cell_type": "markdown",
      "metadata": {
        "id": "GKlczvl58vTy"
      },
      "source": [
        "We can see that word embeddings appear to capture the meaning of different words–when two words are similar, the cosine similarity score is higher, and when two words are dissimilar, the cosine similarity score is lower.\n",
        "\n",
        "Word vectors are created by going over a large body of text (the vectors you are using were trained on Wikipedia in part) and noticing which words tend to occur near each-other. If word A tends to co-occur with similar words as word B, then the word vectors for words A and B are mathematically constrained to be similar. If you want to learn more about an algorithm for training word vectors, see this [helpful introduction to word2vec](https://towardsdatascience.com/introduction-to-word-embedding-and-word2vec-652d0c2060fa).\n",
        "\n",
        "Given word vectors that represent the meaning of words, what can we do with this? We can add word vectors to our feature vector, but which do we choose? It turns out that a solid approach is just to average the word vectors for all the words in the description. Averaging word vectors produces a natural way to produce vectors for sentences and other collections of words, and this is the approach we will use."
      ]
    },
    {
      "cell_type": "markdown",
      "metadata": {
        "id": "l21_Y_V3Aq_F"
      },
      "source": [
        "## Exercise \n",
        "\n",
        "We want to write a function that takes a list of descriptions and turns it into an array containing the average GloVe vector for each description. **Understand the code below and then increment found_words and add vec to X[i].**"
      ]
    },
    {
      "cell_type": "code",
      "metadata": {
        "id": "UbM1bDocJwTy"
      },
      "source": [
        "def glove_transform_data_descriptions(descriptions):\n",
        "    X = np.zeros((len(descriptions), VEC_SIZE))\n",
        "    for i, description in enumerate(descriptions):\n",
        "        found_words = 0.0\n",
        "        description = description.strip()\n",
        "        for word in description.split(): \n",
        "            vec = get_word_vector(word)\n",
        "            if vec is not None:\n",
        "                ### YOUR CODE HERE ###\n",
        "                # Increment found_words and add vec to X[i].\n",
        "                found_words+=1\n",
        "                X[i] += vec\n",
        "                \n",
        "                ### END CODE HERE ###\n",
        "        # We divide the sum by the number of words added, so we have the\n",
        "        # average word vector.\n",
        "        if found_words > 0:\n",
        "            X[i] /= found_words\n",
        "            \n",
        "    return X\n",
        "  \n",
        "glove_train_X = glove_transform_data_descriptions(train_descriptions)\n",
        "glove_train_y = [label for (url, html, label) in train_data]\n",
        "\n",
        "glove_val_X = glove_transform_data_descriptions(val_descriptions)\n",
        "glove_val_y = [label for (url, html, label) in val_data]"
      ],
      "execution_count": null,
      "outputs": []
    },
    {
      "cell_type": "markdown",
      "metadata": {
        "id": "GHXCrVToBQ63"
      },
      "source": [
        "## Exercise \n",
        "\n",
        "Then, we can evaluate our approach as we have in the past. As before, fill in the code for fitting and evaluation (~8 minutes)."
      ]
    },
    {
      "cell_type": "code",
      "metadata": {
        "id": "LVifTxrMJ8Zb",
        "colab": {
          "base_uri": "https://localhost:8080/"
        },
        "outputId": "df7c396a-6f3a-4ec7-8a11-1b0404079956"
      },
      "source": [
        "model = LogisticRegression()\n",
        "### YOUR CODE HERE ###\n",
        "model.fit(glove_train_X, glove_train_y)\n",
        "glove_train_pred = model.predict(glove_train_X)\n",
        "glove_train_acc = accuracy_score(glove_train_pred, glove_train_y)\n",
        "print(\"Train Accuracy: \", glove_train_acc)\n",
        "glove_val_pred = model.predict(glove_val_X)\n",
        "glove_val_acc = accuracy_score(glove_val_pred, glove_val_y)\n",
        "print(\"Val Accuracy: \", glove_val_acc)\n",
        "valcm = confusion_matrix(glove_val_y, glove_val_pred)\n",
        "prf = precision_recall_fscore_support(glove_val_y, glove_val_pred)\n",
        "\n",
        "print('Precision:', prf[0][1])\n",
        "print('Recall:', prf[1][1])\n",
        "print('F-Score:', prf[2][1])\n",
        "### END CODE HERE ###"
      ],
      "execution_count": null,
      "outputs": [
        {
          "output_type": "stream",
          "text": [
            "Train Accuracy:  0.8656343656343657\n",
            "Val Accuracy:  0.7702265372168284\n",
            "Precision: 0.7011494252873564\n",
            "Recall: 0.8652482269503546\n",
            "F-Score: 0.7746031746031746\n"
          ],
          "name": "stdout"
        }
      ]
    },
    {
      "cell_type": "markdown",
      "metadata": {
        "id": "bnIwqSqHDBwD"
      },
      "source": [
        "We can see that we again get solid results using a different approach. Each approach is encoding different information about websites, and so we would expect that combining them together would produce even better results. "
      ]
    },
    {
      "cell_type": "markdown",
      "metadata": {
        "id": "8zaqWxvcFuzv"
      },
      "source": [
        "## Exercise \n",
        "\n",
        "Fill in *train_and_evaluate_model*, which trains and evaluates a logistic regression model given train_X, train_y, val_X, and val_y. Print train accuracy, val accuracy, confusion matrix, precision, recall, and F1-score, just as we have been doing the past few days (~7 minutes)."
      ]
    },
    {
      "cell_type": "code",
      "metadata": {
        "id": "mIDKiMPEKIO8"
      },
      "source": [
        "def train_model(train_X, train_y, val_X, val_y):\n",
        "  model = LogisticRegression(solver='liblinear')\n",
        "  model.fit(train_X, train_y)\n",
        "  \n",
        "  return model\n",
        "\n",
        "\n",
        "def train_and_evaluate_model(train_X, train_y, val_X, val_y):\n",
        "  model = train_model(train_X, train_y, val_X, val_y)\n",
        "  \n",
        "  ### YOUR CODE HERE ###\n",
        "  model.fit(train_X, train_y)\n",
        "  train_pred = model.predict(train_X)\n",
        "  train_acc = accuracy_score(train_pred, train_y)\n",
        "  print(\"Train Accuracy: \", train_acc)\n",
        "  val_pred = model.predict(val_X)\n",
        "  val_acc = accuracy_score(val_pred, val_y)\n",
        "  print(\"Val Accuracy: \", val_acc)\n",
        "  valcm = confusion_matrix(val_y, val_pred)\n",
        "  prf = precision_recall_fscore_support(val_y, val_pred)\n",
        "\n",
        "  print('Precision:', prf[0][1])\n",
        "  print('Recall:', prf[1][1])\n",
        "  print('F-Score:', prf[2][1])\n",
        "  ### END CODE HERE ###\n",
        "  \n",
        "  return model"
      ],
      "execution_count": null,
      "outputs": []
    },
    {
      "cell_type": "markdown",
      "metadata": {
        "id": "CGynL44dGCRz"
      },
      "source": [
        "### Review of story so far\n",
        "\n",
        "Our first approach to featurizing our data involved looking only at URLs, specifically domain name extensions. We discovered that this achieved about 60% accuracy, with many false negatives for fake news websites with an innocuous domain name extension like \".com\". This accuracy wasn't great, but it gave us a baseline to improve upon.\n",
        "\n",
        "We next moved on to keyword-based featurization, which combined the above domain name extension features with normalized counts (extracted from HTML) for a list of specific words. "
      ]
    },
    {
      "cell_type": "markdown",
      "metadata": {
        "id": "ATqwCXq2GPOV"
      },
      "source": [
        "\n",
        "## Exercise \n",
        "\n",
        "Given the functions for featurizing data before and our new helper function *train_and_evaluate_model*, train and evaluate a model on top of keyword (combined with domain name extension) featurization (~8 minutes)."
      ]
    },
    {
      "cell_type": "code",
      "metadata": {
        "id": "3E-lU22hKcHG",
        "colab": {
          "base_uri": "https://localhost:8080/"
        },
        "outputId": "063374f7-4f0b-4920-db16-57660ecfae84"
      },
      "source": [
        "def prepare_data(data, featurizer):\n",
        "    X = []\n",
        "    y = []\n",
        "    for datapoint in data:\n",
        "        url, html, label = datapoint\n",
        "        # We convert all text in HTML to lowercase, so <p>Hello.</p> is mapped to\n",
        "        # <p>hello</p>. This will help us later when we extract features from \n",
        "        # the HTML, as we will be able to rely on the HTML being lowercase.\n",
        "        html = html.lower() \n",
        "        y.append(label)\n",
        "\n",
        "        features = featurizer(url, html)\n",
        "\n",
        "        # Gets the keys of the dictionary as descriptions, gets the values\n",
        "        # as the numerical features. Don't worry about exactly what zip does!\n",
        "        feature_descriptions, feature_values = zip(*features.items())\n",
        "\n",
        "        X.append(feature_values)\n",
        "\n",
        "    return X, y, feature_descriptions\n",
        "  \n",
        "# Gets the log count of a phrase/keyword in HTML (transforming the phrase/keyword\n",
        "# to lowercase).\n",
        "def get_normalized_count(html, phrase):\n",
        "    return math.log(1 + html.count(phrase.lower()))\n",
        "\n",
        "# Returns a dictionary mapping from plaintext feature descriptions to numerical\n",
        "# features for a (url, html) pair.\n",
        "def keyword_featurizer(url, html):\n",
        "    features = {}\n",
        "    \n",
        "    # Same as before.\n",
        "    features['.com domain'] = url.endswith('.com')\n",
        "    features['.org domain'] = url.endswith('.org')\n",
        "    features['.net domain'] = url.endswith('.net')\n",
        "    features['.info domain'] = url.endswith('.info')\n",
        "    features['.org domain'] = url.endswith('.org')\n",
        "    features['.biz domain'] = url.endswith('.biz')\n",
        "    features['.ru domain'] = url.endswith('.ru')\n",
        "    features['.co.uk domain'] = url.endswith('.co.uk')\n",
        "    features['.co domain'] = url.endswith('.co')\n",
        "    features['.tv domain'] = url.endswith('.tv')\n",
        "    features['.news domain'] = url.endswith('.news')\n",
        "    features['.edu domain'] = url.endswith('.edu')\n",
        "    \n",
        "    keywords = ['trump', 'biden', 'clinton', 'sports', 'finance', 'obama', 'christian', 'muslim', 'hindu', 'jewish', 'jail', 'president','democrat', 'republican', 'conservative', 'libertarian']\n",
        "    \n",
        "    for keyword in keywords:\n",
        "      features[keyword + ' keyword'] = get_normalized_count(html, keyword)\n",
        "    \n",
        "    return features\n",
        "\n",
        "\n",
        "### YOUR CODE HERE ###\n",
        "keyword_train_X, keyword_train_y, feature_descriptions = prepare_data(train_data, keyword_featurizer)\n",
        "keyword_val_X, keyword_val_y, feature_descriptions = prepare_data(val_data, keyword_featurizer)\n",
        "model = train_and_evaluate_model(keyword_train_X, keyword_train_y, keyword_val_X, keyword_val_y)\n",
        "### END CODE HERE ###"
      ],
      "execution_count": null,
      "outputs": [
        {
          "output_type": "stream",
          "text": [
            "Train Accuracy:  0.8441558441558441\n",
            "Val Accuracy:  0.7572815533980582\n",
            "Precision: 0.6736842105263158\n",
            "Recall: 0.9078014184397163\n",
            "F-Score: 0.7734138972809668\n"
          ],
          "name": "stdout"
        }
      ]
    },
    {
      "cell_type": "markdown",
      "metadata": {
        "id": "N2gWWDunGZsZ"
      },
      "source": [
        "We can see that we are achieving significantly better accuracy and better balance between false negatives and false positives. As expected, it looks like actually making use of the content of the HTML is useful.\n",
        "\n",
        "Another way to take advantage of the HTML is to extract a bag-of-words (BOW) featurization from the meta description stored in the HTML. \n",
        "\n",
        "## Instructor-Led Discussion: Bag of Words featurization\n",
        "\n",
        "## Exercise \n",
        "\n",
        "As before, train and evaluate this approach with our helper function *train_and_evaluate_model* (~5 minutes)."
      ]
    },
    {
      "cell_type": "code",
      "metadata": {
        "id": "n2G_QtzvKqrc",
        "colab": {
          "base_uri": "https://localhost:8080/"
        },
        "outputId": "89dec9fa-3c63-443a-cd25-8958c173f3a6"
      },
      "source": [
        "vectorizer = CountVectorizer(max_features=1000)\n",
        "\n",
        "vectorizer.fit(train_descriptions)\n",
        "\n",
        "def vectorize_data_descriptions(data_descriptions, vectorizer):\n",
        "  X = vectorizer.transform(data_descriptions).todense()\n",
        "  return X\n",
        "\n",
        "### YOUR CODE HERE ###\n",
        "\n",
        "# Note that you can use train_y and val_y from before, since these are the\n",
        "# same for both the keyword approach and the BOW approach.\n",
        "bow_train_X = vectorize_data_descriptions(train_descriptions, vectorizer)\n",
        "bow_val_X = vectorize_data_descriptions(val_descriptions, vectorizer)\n",
        "train_and_evaluate_model(bow_train_X,train_y, bow_val_X, val_y)\n",
        "### END CODE HERE ###"
      ],
      "execution_count": null,
      "outputs": [
        {
          "output_type": "stream",
          "text": [
            "Train Accuracy:  0.8761238761238761\n",
            "Val Accuracy:  0.6666666666666666\n",
            "Precision: 0.5863636363636363\n",
            "Recall: 0.9148936170212766\n",
            "F-Score: 0.7146814404432132\n"
          ],
          "name": "stdout"
        },
        {
          "output_type": "execute_result",
          "data": {
            "text/plain": [
              "LogisticRegression(C=1.0, class_weight=None, dual=False, fit_intercept=True,\n",
              "                   intercept_scaling=1, l1_ratio=None, max_iter=100,\n",
              "                   multi_class='auto', n_jobs=None, penalty='l2',\n",
              "                   random_state=None, solver='liblinear', tol=0.0001, verbose=0,\n",
              "                   warm_start=False)"
            ]
          },
          "metadata": {
            "tags": []
          },
          "execution_count": 67
        }
      ]
    },
    {
      "cell_type": "markdown",
      "metadata": {
        "id": "-mAbl_A0GjvG"
      },
      "source": [
        "We can see that we are getting similar results, without necessarily using the same information as the keywords-based approach. We then asked whether we could do better by making use of word vectors, which encode the meaning of different words. We found that averaging the word vectors for words in the meta description was a useful approach. \n",
        "\n",
        "## Exercise \n",
        "\n",
        "As before, review the approach and complete the code for training and evaluation (~5 minutes)."
      ]
    },
    {
      "cell_type": "code",
      "metadata": {
        "id": "sSXDmQGlLKlL",
        "colab": {
          "base_uri": "https://localhost:8080/"
        },
        "outputId": "91594bb6-3a45-43ba-8d38-198948c4df4e"
      },
      "source": [
        "VEC_SIZE = 300\n",
        "glove = GloVe(name='6B', dim=VEC_SIZE)\n",
        "\n",
        "# Returns word vector for word if it exists, else return None.\n",
        "def get_word_vector(word):\n",
        "    try:\n",
        "      return glove.vectors[glove.stoi[word.lower()]].numpy()\n",
        "    except KeyError:\n",
        "      return None\n",
        "\n",
        "def glove_transform_data_descriptions(descriptions):\n",
        "    X = np.zeros((len(descriptions), VEC_SIZE))\n",
        "    for i, description in enumerate(descriptions):\n",
        "        found_words = 0.0\n",
        "        description = description.strip()\n",
        "        for word in description.split(): \n",
        "            vec = get_word_vector(word)\n",
        "            if vec is not None:\n",
        "                ### YOUR CODE HERE ###\n",
        "                # Increment found_words and add vec to X[i].\n",
        "                found_words+=1\n",
        "                X[i]+=vec\n",
        "                ### END CODE HERE ###\n",
        "        # We divide the sum by the number of words added, so we have the\n",
        "        # average word vector.\n",
        "        if found_words > 0:\n",
        "          X[i] /= found_words\n",
        "            \n",
        "    return X\n",
        "  \n",
        "  \n",
        "### YOUR CODE HERE ###\n",
        "\n",
        "# Note that you can use train_y and val_y from before, since these are the\n",
        "# same for both the keyword approach and the BOW approach.\n",
        "glove_train_X = glove_transform_data_descriptions(train_descriptions)\n",
        "glove_val_X = glove_transform_data_descriptions(val_descriptions)\n",
        "train_and_evaluate_model(glove_train_X, train_y, glove_val_X, val_y)\n",
        "\n",
        "### END CODE HERE ###"
      ],
      "execution_count": null,
      "outputs": [
        {
          "output_type": "stream",
          "text": [
            "Train Accuracy:  0.8656343656343657\n",
            "Val Accuracy:  0.7702265372168284\n",
            "Precision: 0.7011494252873564\n",
            "Recall: 0.8652482269503546\n",
            "F-Score: 0.7746031746031746\n"
          ],
          "name": "stdout"
        },
        {
          "output_type": "execute_result",
          "data": {
            "text/plain": [
              "LogisticRegression(C=1.0, class_weight=None, dual=False, fit_intercept=True,\n",
              "                   intercept_scaling=1, l1_ratio=None, max_iter=100,\n",
              "                   multi_class='auto', n_jobs=None, penalty='l2',\n",
              "                   random_state=None, solver='liblinear', tol=0.0001, verbose=0,\n",
              "                   warm_start=False)"
            ]
          },
          "metadata": {
            "tags": []
          },
          "execution_count": 58
        }
      ]
    },
    {
      "cell_type": "markdown",
      "metadata": {
        "id": "UsZiH04uGtSC"
      },
      "source": [
        "Again, solid results using a completely different approach.\n",
        "\n",
        "### Instructor-Led Discussion: Combining Approaches\n",
        "\n",
        "A natural question to ask now is whether we can combine the above featurization approaches for improved results. It turns out we can, by concatenating the feature vectors for each website produced using each of the three above approaches. Below we provide a handy helper function that takes in a list of multiple train_X produced using different featurization approaches (e.g., [keyword_train_X, bow_train_X, glove_train_X]) and combines them into *combined_train_X*. It can do this for val_X as well.\n",
        "\n",
        "As an example, if our keyword-based approach has 15 features, our BOW approach has 300, and our GloVe approach has 300, then our combined approach has 615 features.\n"
      ]
    },
    {
      "cell_type": "markdown",
      "metadata": {
        "id": "yIyk8GsmHOtC"
      },
      "source": [
        "## Exercise \n",
        "\n",
        "Complete the below code for training and evaluating the combined approach (~8 minutes)."
      ]
    },
    {
      "cell_type": "code",
      "metadata": {
        "id": "MD1gl146LW2E",
        "colab": {
          "base_uri": "https://localhost:8080/"
        },
        "outputId": "78f23a2e-ea80-4f45-c7a9-a1fcb32402f2"
      },
      "source": [
        "def combine_features(X_list):\n",
        "  return np.concatenate(X_list, axis=1)\n",
        "\n",
        "### YOUR CODE HERE ###\n",
        "# First, produce combined_train_X and combined_val_X using 2 calls to \n",
        "# combine_features, using keyword_train_X, bow_train_X, glove_train_X\n",
        "# and keyword_val_X, bow_val_X, glove_val_X from before.\n",
        "combined_train_X = combine_features([train_X, bow_train_X, glove_train_X])\n",
        "combined_val_X = combine_features([val_X, bow_val_X, glove_val_X])\n",
        "train_and_evaluate_model(combined_train_X, train_y, combined_val_X, val_y)\n",
        "### END CODE HERE ###"
      ],
      "execution_count": null,
      "outputs": [
        {
          "output_type": "stream",
          "text": [
            "Train Accuracy:  0.935064935064935\n",
            "Val Accuracy:  0.8446601941747572\n",
            "Precision: 0.7924528301886793\n",
            "Recall: 0.8936170212765957\n",
            "F-Score: 0.8400000000000001\n"
          ],
          "name": "stdout"
        },
        {
          "output_type": "execute_result",
          "data": {
            "text/plain": [
              "LogisticRegression(C=1.0, class_weight=None, dual=False, fit_intercept=True,\n",
              "                   intercept_scaling=1, l1_ratio=None, max_iter=100,\n",
              "                   multi_class='auto', n_jobs=None, penalty='l2',\n",
              "                   random_state=None, solver='liblinear', tol=0.0001, verbose=0,\n",
              "                   warm_start=False)"
            ]
          },
          "metadata": {
            "tags": []
          },
          "execution_count": 70
        }
      ]
    },
    {
      "cell_type": "markdown",
      "metadata": {
        "id": "KZlqslCAIISn"
      },
      "source": [
        "## Exercise \n",
        "\n",
        "Now, make changes to the keyword, BOW, and GloVe featurization code above to improve performance. For example, add keywords to the keyword featurization code, play around with different values for *max_features* and other parameters for [CountVectorizer](https://scikit-learn.org/stable/modules/generated/sklearn.feature_extraction.text.CountVectorizer.html), and try summing instead of averaging word vectors (~15 minutes).\n",
        "\n",
        "## Exercise \n",
        "\n",
        "Once you feel satisfied with your results, play around with the below demo, which scrapes a new website live and runs your trained classification model on it! The below code assumes you have run the code above and have not changed the names of any of the featurization functions. It combines the three featurization approaches. Go through the code below and make sure you understand what it is doing! Feel free to also make changes (e.g. if you only want to use two featurization approaches) (~15 minutes). Note that output is shown below the *curr_url* field."
      ]
    },
    {
      "cell_type": "code",
      "metadata": {
        "id": "y0pttvKMIPfq",
        "colab": {
          "base_uri": "https://localhost:8080/"
        },
        "outputId": "01e245ed-5bbc-4f25-bba5-b2037021571c"
      },
      "source": [
        "#@title Live Fake News Classification Demo { run: \"auto\", vertical-output: true, display-mode: \"both\" }\n",
        "def get_data_pair(url):\n",
        "  if not url.startswith('http'):\n",
        "      url = 'http://' + url\n",
        "  url_pretty = url\n",
        "  if url_pretty.startswith('http://'):\n",
        "      url_pretty = url_pretty[7:]\n",
        "  if url_pretty.startswith('https://'):\n",
        "      url_pretty = url_pretty[8:]\n",
        "      \n",
        "  # Scrape website for HTML\n",
        "  response = requests.get(url, timeout=10)\n",
        "  htmltext = response.text\n",
        "  \n",
        "  return url_pretty, htmltext\n",
        "\n",
        "curr_url = \"www.bbc.com\" #@param {type:\"string\"}\n",
        "\n",
        "url, html = get_data_pair(curr_url)\n",
        "\n",
        "# Call on the output of *keyword_featurizer* or something similar\n",
        "# to transform it into a format that allows for concatenation. See\n",
        "# example below.\n",
        "def dict_to_features(features_dict):\n",
        "  X = np.array(list(features_dict.values())).astype('float')\n",
        "  X = X[np.newaxis, :]\n",
        "  return X\n",
        "def featurize_data_pair(url, html):\n",
        "  # Approach 1.\n",
        "  keyword_X = dict_to_features(keyword_featurizer(url, html))\n",
        "  # Approach 2.\n",
        "  description = get_description_from_html(html)\n",
        "  \n",
        "  bow_X = vectorize_data_descriptions([description], vectorizer)\n",
        "  \n",
        "  # Approach 3.\n",
        "  glove_X = glove_transform_data_descriptions([description])\n",
        "  \n",
        "  X = combine_features([keyword_X, bow_X, glove_X])\n",
        "  \n",
        "  return X\n",
        "\n",
        "curr_X = featurize_data_pair(url, html)\n",
        "\n",
        "model = train_model(combined_train_X, train_y, combined_val_X, val_y)\n",
        "\n",
        "curr_y = model.predict(curr_X)[0]\n",
        "  \n",
        "  \n",
        "if curr_y < .5:\n",
        "  print(curr_url, 'appears to be real.')\n",
        "else:\n",
        "  print(curr_url, 'appears to be fake.')"
      ],
      "execution_count": null,
      "outputs": [
        {
          "output_type": "stream",
          "text": [
            "www.bbc.com appears to be fake.\n"
          ],
          "name": "stdout"
        }
      ]
    },
    {
      "cell_type": "markdown",
      "metadata": {
        "id": "N5gVcrIYIVpR"
      },
      "source": [
        "## Exercise \n",
        "\n",
        "After playing around with your model live, do you have any ideas for how to improve it? \n",
        "\n",
        "1. Write down three ideas for how to improve it. \n",
        "\n",
        "2. Then, the make changes above and see what impact they have on the final model.\n",
        "\n",
        "Once you are done, we will provide code to test your model on the test data. Note that you should only run on the test data once. When you have results on the test data, share with your instructor, as the team with the best results will be rewarded!"
      ]
    },
    {
      "cell_type": "code",
      "metadata": {
        "id": "UOmNnnGvLpZd"
      },
      "source": [
        "\n",
        "### PUT TEST CODE HERE ###\n",
        "  \n",
        "### END CODE HERE ###"
      ],
      "execution_count": null,
      "outputs": []
    },
    {
      "cell_type": "markdown",
      "metadata": {
        "id": "B93DXnu8Ik0S"
      },
      "source": [
        "A huge congratulations on completing the project!"
      ]
    }
  ]
}